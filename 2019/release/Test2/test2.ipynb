{
 "cells": [
  {
   "cell_type": "code",
   "execution_count": null,
   "metadata": {
    "ExecuteTime": {
     "end_time": "2019-10-07T07:37:31.457748Z",
     "start_time": "2019-10-07T07:37:31.453570Z"
    }
   },
   "outputs": [],
   "source": [
    "# Initialisation Cell\n",
    "# You should always put imported modules here\n",
    "from math import *\n",
    "import numpy as np\n",
    "import numpy.testing as nt\n",
    "import numpy.linalg as LA\n",
    "from matplotlib import pyplot as plt\n",
    "np.set_printoptions(suppress=True, precision=7)"
   ]
  },
  {
   "cell_type": "markdown",
   "metadata": {
    "deletable": false,
    "editable": false,
    "nbgrader": {
     "checksum": "2163886199bf7385c9fde7af59fa3481",
     "grade": false,
     "grade_id": "cell-bc1759305bc65563",
     "locked": true,
     "schema_version": 1,
     "solution": false
    }
   },
   "source": [
    "# CDEs Honours - Test 2\n",
    "\n",
    "\n",
    "## Instructions\n",
    "\n",
    "* Read all the instructions carefully.\n",
    "* The test consists of **50 Marks**, with **two** hours available.\n",
    "* The written section is to be answered in the book provided.\n",
    "* You must only access Moodle tests and NOT Moodle.\n",
    "* The programming section is to be answered within this Jupyter notebook and resubmitted to Moodle.\n",
    "* Do not rename the notebook, simply answer the questions and resubmit the file to Moodle.\n",
    "* The moodle submission link will expire at exactly **11:15** and **NO** late submission will be accepted. Please make sure you submit timeously!\n",
    "* You may use the **Numpy** and **Matplotlib** files found pre-opened in the browser.\n",
    "* **NB!!!** Anyone caught using Moodle (and its file storing), flash drives or external notes will be awarded zero and reported to the legal office."
   ]
  },
  {
   "cell_type": "markdown",
   "metadata": {
    "deletable": false,
    "editable": false,
    "nbgrader": {
     "checksum": "ab15aeeefce5b46d99f77de790010011",
     "grade": false,
     "grade_id": "cell-ed449f6b21815ead",
     "locked": true,
     "schema_version": 1,
     "solution": false
    }
   },
   "source": [
    "## Written Section\n",
    "\n",
    "* Answer the following questions in the answer book provided.\n",
    "\n",
    "\n",
    "### Question 1 (10 Marks)\n",
    "\n",
    "\n",
    "1. Using the von Neumann stability analysis, discuss the stability of the scheme given by:\n",
    "$$\n",
    "u_i^{n + 1} = u_i^n - \\dfrac{c\\Delta t}{\\Delta x}(u_{i}^n - u_{i - 1}^n)\n",
    "$$\n",
    "    \n",
    "### Question 2 (5 Marks)\n",
    "\n",
    "2. For the Lax-Fredrichs scheme, the difference operator is given by:\n",
    "$$\n",
    "P_{\\Delta x, \\Delta t}u = \\dfrac{u_i^{n+1} - \\frac{1}{2}\\left(u_{i + 1}^n + u_{i  -1}^n\\right)}{\\Delta t} + a\\dfrac{u_{i + 1}^n - u_{i - 1}^n}{2\\Delta x}\n",
    "$$\n",
    "\n",
    "Evaluate the consistency of the scheme using the Taylor series. Show all working out.\n",
    "\n",
    "### Question 3 (10 Marks)\n",
    "\n",
    "Consider the following two-dimensional heat equation:\n",
    "$$\n",
    "v_t = \\nu (v_{xx} + v_{yy}).\n",
    "$$\n",
    "Set up a two-stage implicit scheme using the Alternating Direction Implicit method."
   ]
  },
  {
   "cell_type": "markdown",
   "metadata": {
    "deletable": false,
    "editable": false,
    "nbgrader": {
     "checksum": "4804740bd51265e9057a10cc458aed57",
     "grade": false,
     "grade_id": "cell-26a2b1951c9b770f",
     "locked": true,
     "schema_version": 1,
     "solution": false
    }
   },
   "source": [
    "## Programming Section \n",
    "\n",
    "### Question 1 - 7 Marks\n",
    "\n",
    "Consider the model partial differential equation given by:\n",
    "$$\n",
    "u_t = u_x,\\ \\ \\quad x \\in \\mathbb{R},\\ \\ \\quad t \\geq 0,\n",
    "$$\n",
    "together with the initial data:\n",
    "$$\n",
    "u(x, 0) = \\begin{cases} \\cos^2 x & |x| \\leq \\frac{\\pi}{2} \\\\ 0 & |x| \\geq \\frac{\\pi}{2}\\end{cases}.\n",
    "$$\n",
    "Solve this initial-value problem using the leap frog scheme. \n",
    "\n",
    "The function should take as inputs, the stepsize `dx`, the mesh ratio `lamb`, the number of number of iterations to perform `N`, the left boundary `l`, and the right boundary `r`. The function should return the solution matrix containing `N + 1` time steps (initial condition inclusive).\n",
    "\n",
    "Given the structure of the leap frog scheme. You may use the analytical solution to construct $u(x, \\Delta t)$, i.e. the second time step $\\bar{u}^1$.\n",
    "\n",
    "**General Leap Frog:**\n",
    "$$\n",
    "\\dfrac{u_i^{n + 1} - u_i^{n - 1}}{2\\Delta t} = -c\\left(\\dfrac{u_{i + 1}^n - u_{i  -1}^n}{2\\Delta x}\\right) \n",
    "$$\n",
    "**General Solution to Advection Equation**\n",
    "$$\n",
    "u(x, t) = F(x - ct)\n",
    "$$"
   ]
  },
  {
   "cell_type": "code",
   "execution_count": null,
   "metadata": {
    "ExecuteTime": {
     "end_time": "2019-10-07T07:37:31.510051Z",
     "start_time": "2019-10-07T07:37:31.495551Z"
    },
    "deletable": false,
    "nbgrader": {
     "checksum": "92eb3f8910e7b1297c7326ee3701a12e",
     "grade": false,
     "grade_id": "cell-fada377b78c3c864",
     "locked": false,
     "schema_version": 1,
     "solution": true
    }
   },
   "outputs": [],
   "source": [
    "def advection(dx, lamb, N, l, r):\n",
    "    # YOUR CODE HERE\n",
    "    raise NotImplementedError()"
   ]
  },
  {
   "cell_type": "code",
   "execution_count": null,
   "metadata": {
    "ExecuteTime": {
     "end_time": "2019-10-07T07:37:31.525999Z",
     "start_time": "2019-10-07T07:37:31.512088Z"
    },
    "deletable": false,
    "editable": false,
    "nbgrader": {
     "checksum": "a0ea7eacdf46a372abaecc6ba02387ce",
     "grade": true,
     "grade_id": "cell-186d6db11a4b2e7d",
     "locked": true,
     "points": 1,
     "schema_version": 1,
     "solution": false
    }
   },
   "outputs": [],
   "source": [
    "# Run this test cell to check your code\n",
    "# Do not delete this cell\n",
    "# 1 mark\n",
    "# Unit test\n",
    "dx   = 0.1\n",
    "lamb = 0.99\n",
    "N    = 15\n",
    "l    = -3\n",
    "r    = 3\n",
    "tans = np.array([0.       , 0.       , 0.       , 0.       , 0.       , 0.       ,\n",
    "       0.       , 0.       , 0.       , 0.       , 0.       , 0.       ,\n",
    "       0.       , 0.       , 0.       , 0.0050038, 0.0288888, 0.0715556,\n",
    "       0.1313031, 0.2057494, 0.2919266, 0.386399 , 0.4854002, 0.5849836,\n",
    "       0.6811789, 0.7701512, 0.8483534, 0.9126678, 0.9605305, 0.9900333,\n",
    "       1.       , 0.9900333, 0.9605305, 0.9126678, 0.8483534, 0.7701512,\n",
    "       0.6811789, 0.5849836, 0.4854002, 0.386399 , 0.2919266, 0.2057494,\n",
    "       0.1313031, 0.0715556, 0.0288888, 0.0050038, 0.       , 0.       ,\n",
    "       0.       , 0.       , 0.       , 0.       , 0.       , 0.       ,\n",
    "       0.       , 0.       , 0.       , 0.       , 0.       , 0.       ,\n",
    "       0.       ])\n",
    "sans = advection(dx, lamb, N, l, r)[0, :]\n",
    "nt.assert_array_almost_equal(tans, sans)\n",
    "print('Test case passed!!!')"
   ]
  },
  {
   "cell_type": "code",
   "execution_count": null,
   "metadata": {
    "ExecuteTime": {
     "end_time": "2019-10-07T07:37:31.537072Z",
     "start_time": "2019-10-07T07:37:31.527403Z"
    },
    "deletable": false,
    "editable": false,
    "nbgrader": {
     "checksum": "c6aee6ee6355fb75354dd8030284e9c3",
     "grade": true,
     "grade_id": "cell-1c5e231701d7543f",
     "locked": true,
     "points": 1,
     "schema_version": 1,
     "solution": false
    }
   },
   "outputs": [],
   "source": [
    "# Run this test cell to check your code\n",
    "# Do not delete this cell\n",
    "# 1 mark\n",
    "# Unit test\n",
    "dx   = 0.1\n",
    "lamb = 0.99\n",
    "N    = 15\n",
    "l    = -3\n",
    "r    = 3\n",
    "tans = np.array([0.       , 0.       , 0.       , 0.       , 0.       , 0.       ,\n",
    "       0.       , 0.       , 0.       , 0.       , 0.       , 0.       ,\n",
    "       0.       , 0.       , 0.0050038, 0.0288888, 0.0715556, 0.1313031,\n",
    "       0.2057494, 0.2919266, 0.386399 , 0.4854002, 0.5849836, 0.6811789,\n",
    "       0.7701512, 0.8483534, 0.9126678, 0.9605305, 0.9900333, 1.       ,\n",
    "       0.9900333, 0.9605305, 0.9126678, 0.8483534, 0.7701512, 0.6811789,\n",
    "       0.5849836, 0.4854002, 0.386399 , 0.2919266, 0.2057494, 0.1313031,\n",
    "       0.0715556, 0.0288888, 0.0050038, 0.       , 0.       , 0.       ,\n",
    "       0.       , 0.       , 0.       , 0.       , 0.       , 0.       ,\n",
    "       0.       , 0.       , 0.       , 0.       , 0.       , 0.       ,\n",
    "       0.       ])\n",
    "sans = advection(dx, lamb, N, l, r)[1, :]\n",
    "nt.assert_array_almost_equal(tans, sans)\n",
    "print('Test case passed!!!')"
   ]
  },
  {
   "cell_type": "code",
   "execution_count": null,
   "metadata": {
    "ExecuteTime": {
     "end_time": "2019-10-07T07:37:31.548503Z",
     "start_time": "2019-10-07T07:37:31.538362Z"
    },
    "deletable": false,
    "editable": false,
    "nbgrader": {
     "checksum": "e5e1bf77b6736acefb7c0e497fafbb5c",
     "grade": true,
     "grade_id": "cell-c403720c5c783d0f",
     "locked": true,
     "points": 1,
     "schema_version": 1,
     "solution": false
    }
   },
   "outputs": [],
   "source": [
    "# Run this test cell to check your code\n",
    "# Do not delete this cell\n",
    "# 1 mark\n",
    "# Unit test\n",
    "dx   = 0.1\n",
    "lamb = 0.99\n",
    "N    = 15\n",
    "l    = -3\n",
    "r    = 3\n",
    "tans = np.array([ 0.004347 ,  0.025097 ,  0.063355 ,  0.120947 ,  0.1948061,\n",
    "        0.2792473,  0.3715433,  0.4702795,  0.5709834,  0.6677464,\n",
    "        0.7571661,  0.8372808,  0.9045055,  0.9547867,  0.9864593,\n",
    "        0.9994492,  0.9929425,  0.9661625,  0.9204353,  0.858487 ,\n",
    "        0.7825649,  0.6949164,  0.5992208,  0.4999464,  0.4009085,\n",
    "        0.3055431,  0.2177426,  0.141349 ,  0.0793848,  0.0341966,\n",
    "        0.0075785, -0.000149 , -0.0009073,  0.000784 ,  0.0015059,\n",
    "        0.0002043, -0.0003286,  0.0007653,  0.0011777,  0.0002017,\n",
    "       -0.0002298,  0.0004765,  0.0006891, -0.0000871, -0.0004477,\n",
    "        0.0000379,  0.0001615, -0.0004416, -0.0007114, -0.0003237,\n",
    "       -0.0001971, -0.0006104, -0.0007678, -0.0004255, -0.0002505,\n",
    "       -0.0004509, -0.0005064, -0.0002535, -0.0000439,  0.       ,\n",
    "        0.       ])\n",
    "sans = advection(dx, lamb, N, l, r)[-1, :]\n",
    "nt.assert_array_almost_equal(tans, sans)\n",
    "print('Test case passed!!!')"
   ]
  },
  {
   "cell_type": "code",
   "execution_count": null,
   "metadata": {
    "ExecuteTime": {
     "end_time": "2019-10-07T07:37:32.405788Z",
     "start_time": "2019-10-07T07:37:31.549696Z"
    },
    "deletable": false,
    "editable": false,
    "nbgrader": {
     "checksum": "f4810c6fec9131c81ead93a1f8905ab5",
     "grade": true,
     "grade_id": "cell-debc831d8f27b717",
     "locked": true,
     "points": 4,
     "schema_version": 1,
     "solution": false
    }
   },
   "outputs": [],
   "source": [
    "# Hidden test\n",
    "# No output will be produced\n",
    "# 4 marks"
   ]
  },
  {
   "cell_type": "markdown",
   "metadata": {
    "deletable": false,
    "editable": false,
    "nbgrader": {
     "checksum": "085f2172963aa5679caca0d75483cc74",
     "grade": false,
     "grade_id": "cell-724af722562e28e4",
     "locked": true,
     "schema_version": 1,
     "solution": false
    }
   },
   "source": [
    "### Question 2 - 4 Marks\n",
    "\n",
    "Continuing with Question 1, plot the initial condition and final solution (i.e. timestep $N$), on the same set of axis."
   ]
  },
  {
   "cell_type": "code",
   "execution_count": null,
   "metadata": {
    "ExecuteTime": {
     "end_time": "2019-10-07T07:37:32.547269Z",
     "start_time": "2019-10-07T07:37:32.406995Z"
    },
    "deletable": false,
    "nbgrader": {
     "checksum": "50d0e0316250230b5b4260f70634371a",
     "grade": true,
     "grade_id": "cell-785450467a1fdb8e",
     "locked": false,
     "points": 4,
     "schema_version": 1,
     "solution": true
    }
   },
   "outputs": [],
   "source": [
    "# YOUR CODE HERE\n",
    "raise NotImplementedError()"
   ]
  },
  {
   "cell_type": "markdown",
   "metadata": {
    "deletable": false,
    "editable": false,
    "nbgrader": {
     "checksum": "eb5ac8bdbb3b9ddd8a315b204da25d27",
     "grade": false,
     "grade_id": "cell-6273519acf4e78f3",
     "locked": true,
     "schema_version": 1,
     "solution": false
    }
   },
   "source": [
    "### Question 3 - 4 Marks\n",
    "\n",
    "The Root Mean Square Error (RMSE) is defined as:\n",
    "$$\n",
    "\\sqrt{\\frac{\\sum_{i=1}^{n}\\left(\\hat{u}_{i}-u_{i}\\right)^{2}}{n}},\n",
    "$$\n",
    "where $\\hat{u}$ is the approximation obtained from your scheme in Question 1, $n$ the length of the vector, and $u$ the true solution obtained from the general solution stated in Question 1. Write a function that computes the RMSE between your approximation and the true solution. The function should take as input `N`, the number of iterations to perform and `lamb`, the mesh ratio. The function should return the real-valued RMSE.\n",
    "\n"
   ]
  },
  {
   "cell_type": "code",
   "execution_count": null,
   "metadata": {
    "ExecuteTime": {
     "end_time": "2019-10-07T07:37:32.554514Z",
     "start_time": "2019-10-07T07:37:32.548502Z"
    },
    "deletable": false,
    "nbgrader": {
     "checksum": "e0b969fd2bd4ffe9c58a9d5da83e6d9a",
     "grade": false,
     "grade_id": "cell-d5101779577c16ba",
     "locked": false,
     "schema_version": 1,
     "solution": true
    }
   },
   "outputs": [],
   "source": [
    "dx   = 0.1\n",
    "l    = -3\n",
    "r    = 3\n",
    "def error(N, lamb):    \n",
    "    # YOUR CODE HERE\n",
    "    raise NotImplementedError()"
   ]
  },
  {
   "cell_type": "code",
   "execution_count": null,
   "metadata": {
    "ExecuteTime": {
     "end_time": "2019-10-07T07:37:32.567616Z",
     "start_time": "2019-10-07T07:37:32.556262Z"
    },
    "deletable": false,
    "editable": false,
    "nbgrader": {
     "checksum": "3408189d83907da8f6d1f124726138aa",
     "grade": true,
     "grade_id": "cell-387d7b0ef4812a2c",
     "locked": true,
     "points": 1,
     "schema_version": 1,
     "solution": false
    }
   },
   "outputs": [],
   "source": [
    "# Run this test cell to check your code\n",
    "# Do not delete this cell\n",
    "# 1 mark\n",
    "# Unit test\n",
    "lamb = 0.99\n",
    "N    = 15\n",
    "tans = 0.007472418804559846\n",
    "sans = error(N, lamb)\n",
    "nt.assert_array_almost_equal(tans, sans)\n",
    "print('Test case passed!!!')"
   ]
  },
  {
   "cell_type": "code",
   "execution_count": null,
   "metadata": {
    "ExecuteTime": {
     "end_time": "2019-10-07T07:37:32.575938Z",
     "start_time": "2019-10-07T07:37:32.570024Z"
    },
    "deletable": false,
    "editable": false,
    "nbgrader": {
     "checksum": "e999d6c93f0828e9aaa45b2f64f36a6e",
     "grade": true,
     "grade_id": "cell-06b202b37fa0fb6f",
     "locked": true,
     "points": 3,
     "schema_version": 1,
     "solution": false
    }
   },
   "outputs": [],
   "source": [
    "# Hidden test\n",
    "# No output will be produced\n",
    "# 3 marks"
   ]
  },
  {
   "cell_type": "markdown",
   "metadata": {
    "deletable": false,
    "editable": false,
    "nbgrader": {
     "checksum": "85fe8836ad3ea4fa43f0f622ab8067a4",
     "grade": false,
     "grade_id": "cell-9cdbbc59f9fe1d1d",
     "locked": true,
     "schema_version": 1,
     "solution": false
    }
   },
   "source": [
    "### Question 4 - 10 Marks\n",
    "\n",
    "Consider the PDE given by:\n",
    "$$\n",
    "v_t = D\\left( v_{xx} + v_{yy}\\right), \n",
    "$$\n",
    "$$\n",
    "v(-1, y, t) = v(1, y, t) = v(x, -1, t) = v(x, 1, t) = 0, v(x, y, 0) = e^{-(x^2 + y^2)}  \n",
    "$$\n",
    "\n",
    "Solve the PDE given above using an implicit scheme (i.e. BTCS). Your function should take as inputs `dx, dy, dt, D, N`, the $x$, $y$, $t$ timsteps, the diffusive constant $D$ and the number of iterations to perform $N$. The function should return a 3-dimensional array containing the 2D heatmap of each iteration, with $N + 1$ timesteps (i.e. include the initial condition).\n"
   ]
  },
  {
   "cell_type": "code",
   "execution_count": null,
   "metadata": {
    "ExecuteTime": {
     "end_time": "2019-10-07T07:37:32.598464Z",
     "start_time": "2019-10-07T07:37:32.577123Z"
    },
    "deletable": false,
    "nbgrader": {
     "checksum": "25804cee9a373dfd0fca40f0cc7e02f4",
     "grade": false,
     "grade_id": "cell-dfb643e37f5034e2",
     "locked": false,
     "schema_version": 1,
     "solution": true
    }
   },
   "outputs": [],
   "source": [
    "def heat2D_matrix_eq(dx, dy, dt, D, N):\n",
    "    # YOUR CODE HERE\n",
    "    raise NotImplementedError()\n"
   ]
  },
  {
   "cell_type": "code",
   "execution_count": null,
   "metadata": {
    "ExecuteTime": {
     "end_time": "2019-10-07T07:37:32.812331Z",
     "start_time": "2019-10-07T07:37:32.599795Z"
    },
    "deletable": false,
    "editable": false,
    "nbgrader": {
     "checksum": "b19e7a6d66dd7d454043b018e1caea4f",
     "grade": true,
     "grade_id": "cell-f651418e0b2452a0",
     "locked": true,
     "points": 3,
     "schema_version": 1,
     "solution": false
    }
   },
   "outputs": [],
   "source": [
    "# Run this test cell to check your code\n",
    "# Do not delete this cell\n",
    "# 3 marks\n",
    "# Unit test\n",
    "\n",
    "dx = 0.1\n",
    "dy = 0.1\n",
    "dt = 0.1\n",
    "D  = 1\n",
    "N  = 10\n",
    "test = heat2D_matrix_eq(dx, dy, dt, D, N)[:, :, -1]\n",
    "tans = np.array([[0.       , 0.       , 0.       , 0.       , 0.       , 0.       ,\n",
    "        0.       , 0.       , 0.       , 0.       , 0.       , 0.       ,\n",
    "        0.       , 0.       , 0.       , 0.       , 0.       , 0.       ,\n",
    "        0.       , 0.       , 0.       ],\n",
    "       [0.       , 0.0005143, 0.0010158, 0.0014924, 0.0019322, 0.0023244,\n",
    "        0.0026593, 0.0029288, 0.0031261, 0.0032465, 0.003287 , 0.0032465,\n",
    "        0.0031261, 0.0029288, 0.0026593, 0.0023244, 0.0019322, 0.0014924,\n",
    "        0.0010158, 0.0005143, 0.       ],\n",
    "       [0.       , 0.0010158, 0.0020067, 0.002948 , 0.0038168, 0.0045915,\n",
    "        0.0052531, 0.0057854, 0.0061753, 0.0064131, 0.006493 , 0.0064131,\n",
    "        0.0061753, 0.0057854, 0.0052531, 0.0045915, 0.0038168, 0.002948 ,\n",
    "        0.0020067, 0.0010158, 0.       ],\n",
    "       [0.       , 0.0014924, 0.002948 , 0.004331 , 0.0056073, 0.0067455,\n",
    "        0.0077175, 0.0084995, 0.0090722, 0.0094216, 0.009539 , 0.0094216,\n",
    "        0.0090722, 0.0084995, 0.0077175, 0.0067455, 0.0056073, 0.004331 ,\n",
    "        0.002948 , 0.0014924, 0.       ],\n",
    "       [0.       , 0.0019322, 0.0038168, 0.0056073, 0.0072597, 0.0087333,\n",
    "        0.0099918, 0.0110042, 0.0117457, 0.012198 , 0.01235  , 0.012198 ,\n",
    "        0.0117457, 0.0110042, 0.0099918, 0.0087333, 0.0072597, 0.0056073,\n",
    "        0.0038168, 0.0019322, 0.       ],\n",
    "       [0.       , 0.0023244, 0.0045915, 0.0067455, 0.0087333, 0.010506 ,\n",
    "        0.0120199, 0.0132379, 0.0141299, 0.014674 , 0.0148569, 0.014674 ,\n",
    "        0.0141299, 0.0132379, 0.0120199, 0.010506 , 0.0087333, 0.0067455,\n",
    "        0.0045915, 0.0023244, 0.       ],\n",
    "       [0.       , 0.0026593, 0.0052531, 0.0077175, 0.0099918, 0.0120199,\n",
    "        0.013752 , 0.0151455, 0.016166 , 0.0167886, 0.0169978, 0.0167886,\n",
    "        0.016166 , 0.0151455, 0.013752 , 0.0120199, 0.0099918, 0.0077175,\n",
    "        0.0052531, 0.0026593, 0.       ],\n",
    "       [0.       , 0.0029288, 0.0057854, 0.0084995, 0.0110042, 0.0132379,\n",
    "        0.0151455, 0.0166801, 0.0178041, 0.0184897, 0.0187201, 0.0184897,\n",
    "        0.0178041, 0.0166801, 0.0151455, 0.0132379, 0.0110042, 0.0084995,\n",
    "        0.0057854, 0.0029288, 0.       ],\n",
    "       [0.       , 0.0031261, 0.0061753, 0.0090722, 0.0117457, 0.0141299,\n",
    "        0.016166 , 0.0178041, 0.0190038, 0.0197356, 0.0199815, 0.0197356,\n",
    "        0.0190038, 0.0178041, 0.016166 , 0.0141299, 0.0117457, 0.0090722,\n",
    "        0.0061753, 0.0031261, 0.       ],\n",
    "       [0.       , 0.0032465, 0.0064131, 0.0094216, 0.012198 , 0.014674 ,\n",
    "        0.0167886, 0.0184897, 0.0197356, 0.0204956, 0.020751 , 0.0204956,\n",
    "        0.0197356, 0.0184897, 0.0167886, 0.014674 , 0.012198 , 0.0094216,\n",
    "        0.0064131, 0.0032465, 0.       ],\n",
    "       [0.       , 0.003287 , 0.006493 , 0.009539 , 0.01235  , 0.0148569,\n",
    "        0.0169978, 0.0187201, 0.0199815, 0.020751 , 0.0210096, 0.020751 ,\n",
    "        0.0199815, 0.0187201, 0.0169978, 0.0148569, 0.01235  , 0.009539 ,\n",
    "        0.006493 , 0.003287 , 0.       ],\n",
    "       [0.       , 0.0032465, 0.0064131, 0.0094216, 0.012198 , 0.014674 ,\n",
    "        0.0167886, 0.0184897, 0.0197356, 0.0204956, 0.020751 , 0.0204956,\n",
    "        0.0197356, 0.0184897, 0.0167886, 0.014674 , 0.012198 , 0.0094216,\n",
    "        0.0064131, 0.0032465, 0.       ],\n",
    "       [0.       , 0.0031261, 0.0061753, 0.0090722, 0.0117457, 0.0141299,\n",
    "        0.016166 , 0.0178041, 0.0190038, 0.0197356, 0.0199815, 0.0197356,\n",
    "        0.0190038, 0.0178041, 0.016166 , 0.0141299, 0.0117457, 0.0090722,\n",
    "        0.0061753, 0.0031261, 0.       ],\n",
    "       [0.       , 0.0029288, 0.0057854, 0.0084995, 0.0110042, 0.0132379,\n",
    "        0.0151455, 0.0166801, 0.0178041, 0.0184897, 0.0187201, 0.0184897,\n",
    "        0.0178041, 0.0166801, 0.0151455, 0.0132379, 0.0110042, 0.0084995,\n",
    "        0.0057854, 0.0029288, 0.       ],\n",
    "       [0.       , 0.0026593, 0.0052531, 0.0077175, 0.0099918, 0.0120199,\n",
    "        0.013752 , 0.0151455, 0.016166 , 0.0167886, 0.0169978, 0.0167886,\n",
    "        0.016166 , 0.0151455, 0.013752 , 0.0120199, 0.0099918, 0.0077175,\n",
    "        0.0052531, 0.0026593, 0.       ],\n",
    "       [0.       , 0.0023244, 0.0045915, 0.0067455, 0.0087333, 0.010506 ,\n",
    "        0.0120199, 0.0132379, 0.0141299, 0.014674 , 0.0148569, 0.014674 ,\n",
    "        0.0141299, 0.0132379, 0.0120199, 0.010506 , 0.0087333, 0.0067455,\n",
    "        0.0045915, 0.0023244, 0.       ],\n",
    "       [0.       , 0.0019322, 0.0038168, 0.0056073, 0.0072597, 0.0087333,\n",
    "        0.0099918, 0.0110042, 0.0117457, 0.012198 , 0.01235  , 0.012198 ,\n",
    "        0.0117457, 0.0110042, 0.0099918, 0.0087333, 0.0072597, 0.0056073,\n",
    "        0.0038168, 0.0019322, 0.       ],\n",
    "       [0.       , 0.0014924, 0.002948 , 0.004331 , 0.0056073, 0.0067455,\n",
    "        0.0077175, 0.0084995, 0.0090722, 0.0094216, 0.009539 , 0.0094216,\n",
    "        0.0090722, 0.0084995, 0.0077175, 0.0067455, 0.0056073, 0.004331 ,\n",
    "        0.002948 , 0.0014924, 0.       ],\n",
    "       [0.       , 0.0010158, 0.0020067, 0.002948 , 0.0038168, 0.0045915,\n",
    "        0.0052531, 0.0057854, 0.0061753, 0.0064131, 0.006493 , 0.0064131,\n",
    "        0.0061753, 0.0057854, 0.0052531, 0.0045915, 0.0038168, 0.002948 ,\n",
    "        0.0020067, 0.0010158, 0.       ],\n",
    "       [0.       , 0.0005143, 0.0010158, 0.0014924, 0.0019322, 0.0023244,\n",
    "        0.0026593, 0.0029288, 0.0031261, 0.0032465, 0.003287 , 0.0032465,\n",
    "        0.0031261, 0.0029288, 0.0026593, 0.0023244, 0.0019322, 0.0014924,\n",
    "        0.0010158, 0.0005143, 0.       ],\n",
    "       [0.       , 0.       , 0.       , 0.       , 0.       , 0.       ,\n",
    "        0.       , 0.       , 0.       , 0.       , 0.       , 0.       ,\n",
    "        0.       , 0.       , 0.       , 0.       , 0.       , 0.       ,\n",
    "        0.       , 0.       , 0.       ]])\n",
    "\n",
    "nt.assert_almost_equal(test, tans)\n",
    "print('Test case passed!!!')"
   ]
  },
  {
   "cell_type": "code",
   "execution_count": null,
   "metadata": {
    "ExecuteTime": {
     "end_time": "2019-10-07T07:37:36.466001Z",
     "start_time": "2019-10-07T07:37:32.813758Z"
    },
    "deletable": false,
    "editable": false,
    "nbgrader": {
     "checksum": "d8845aaf35279741395032f8d3974d04",
     "grade": true,
     "grade_id": "cell-a531f786e9ef1dda",
     "locked": true,
     "points": 7,
     "schema_version": 1,
     "solution": false
    }
   },
   "outputs": [],
   "source": [
    "# Hidden test\n",
    "# No output will be produced\n",
    "# 9 marks"
   ]
  },
  {
   "cell_type": "markdown",
   "metadata": {
    "deletable": false,
    "editable": false,
    "nbgrader": {
     "checksum": "d15bed4f18c3c888dacc20c0c7bf2bac",
     "grade": false,
     "grade_id": "cell-10b101be0c53b89b",
     "locked": true,
     "schema_version": 1,
     "solution": false
    }
   },
   "source": [
    "### Question 5 - Bonus\n",
    "\n",
    "Continuing with Question 3. Make a simulation/animation of your results."
   ]
  },
  {
   "cell_type": "code",
   "execution_count": null,
   "metadata": {
    "ExecuteTime": {
     "end_time": "2019-10-07T07:37:36.469305Z",
     "start_time": "2019-10-07T07:37:36.467329Z"
    },
    "deletable": false,
    "nbgrader": {
     "checksum": "f6b73c220b5a8d4ef8b1691651dc2109",
     "grade": true,
     "grade_id": "cell-88d60969988f72b9",
     "locked": false,
     "points": 5,
     "schema_version": 1,
     "solution": true
    }
   },
   "outputs": [],
   "source": [
    "# YOUR CODE HERE\n",
    "raise NotImplementedError()"
   ]
  }
 ],
 "metadata": {
  "kernelspec": {
   "display_name": "Python 3",
   "language": "python",
   "name": "python3"
  },
  "language_info": {
   "codemirror_mode": {
    "name": "ipython",
    "version": 3
   },
   "file_extension": ".py",
   "mimetype": "text/x-python",
   "name": "python",
   "nbconvert_exporter": "python",
   "pygments_lexer": "ipython3",
   "version": "3.7.4"
  },
  "latex_envs": {
   "LaTeX_envs_menu_present": true,
   "autoclose": false,
   "autocomplete": false,
   "bibliofile": "biblio.bib",
   "cite_by": "apalike",
   "current_citInitial": 1,
   "eqLabelWithNumbers": true,
   "eqNumInitial": 1,
   "hotkeys": {
    "equation": "Ctrl-E",
    "itemize": "Ctrl-I"
   },
   "labels_anchors": false,
   "latex_user_defs": false,
   "report_style_numbering": false,
   "user_envs_cfg": false
  },
  "varInspector": {
   "cols": {
    "lenName": 16,
    "lenType": 16,
    "lenVar": 40
   },
   "kernels_config": {
    "python": {
     "delete_cmd_postfix": "",
     "delete_cmd_prefix": "del ",
     "library": "var_list.py",
     "varRefreshCmd": "print(var_dic_list())"
    },
    "r": {
     "delete_cmd_postfix": ") ",
     "delete_cmd_prefix": "rm(",
     "library": "var_list.r",
     "varRefreshCmd": "cat(var_dic_list()) "
    }
   },
   "types_to_exclude": [
    "module",
    "function",
    "builtin_function_or_method",
    "instance",
    "_Feature"
   ],
   "window_display": false
  }
 },
 "nbformat": 4,
 "nbformat_minor": 2
}
