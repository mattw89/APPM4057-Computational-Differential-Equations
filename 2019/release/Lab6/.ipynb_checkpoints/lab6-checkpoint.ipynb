{
 "cells": [
  {
   "cell_type": "code",
   "execution_count": null,
   "metadata": {
    "ExecuteTime": {
     "end_time": "2019-10-01T15:12:21.684032Z",
     "start_time": "2019-10-01T15:12:21.675357Z"
    }
   },
   "outputs": [],
   "source": [
    "# Initialisation Cell\n",
    "# You should always put imported modules here\n",
    "from math import *\n",
    "import numpy as np\n",
    "import numpy.testing as nt\n",
    "import numpy.linalg as LA\n",
    "from matplotlib import pyplot as plt\n",
    "import seaborn as sns\n",
    "sns.set(style=\"darkgrid\")\n",
    "plt.rcParams['figure.figsize'] = [8, 5]\n",
    "plt.rcParams['figure.dpi'] = 100\n",
    "np.set_printoptions(suppress=True, precision=7)\n",
    "import warnings\n",
    "warnings.filterwarnings('ignore')"
   ]
  },
  {
   "cell_type": "code",
   "execution_count": null,
   "metadata": {
    "ExecuteTime": {
     "end_time": "2019-09-30T08:33:04.118375Z",
     "start_time": "2019-09-30T08:33:04.114367Z"
    }
   },
   "outputs": [],
   "source": [
    "from IPython.core.display import display, HTML\n",
    "display(HTML(\"<style>.container { width:80% !important; }</style>\"))"
   ]
  },
  {
   "cell_type": "markdown",
   "metadata": {
    "deletable": false,
    "editable": false,
    "nbgrader": {
     "checksum": "43b183140be245cc854028f665523618",
     "grade": false,
     "grade_id": "cell-90b667212ac48f88",
     "locked": true,
     "schema_version": 1,
     "solution": false
    }
   },
   "source": [
    "# CDES Honours - Lab 6\n",
    "\n",
    "\n",
    "## Instructions\n",
    "\n",
    "* Read all the instructions carefully.\n",
    "* Do not rename the notebook, simply answer the questions and resubmit the file to Moodle.\n",
    "* **Numpy** has a help file for every function if you get stuck. See: https://docs.scipy.org/doc/numpy-1.15.4/reference/\n",
    "* See these useful links:\n",
    "    * https://docs.scipy.org/doc/numpy/user/numpy-for-matlab-users.html\n",
    "    * https://docs.scipy.org/doc/numpy/user/quickstart.html\n",
    "* **Numpy** is not always required.\n",
    "* There are also numerous sources available on the internet, Google is your friend!"
   ]
  },
  {
   "cell_type": "markdown",
   "metadata": {
    "deletable": false,
    "editable": false,
    "nbgrader": {
     "checksum": "6e6ea8c276d17eccea2053b6cebb0d1d",
     "grade": false,
     "grade_id": "cell-f710e07360736343",
     "locked": true,
     "schema_version": 1,
     "solution": false
    }
   },
   "source": [
    "## Warmup Exercises\n",
    "\n",
    "Complete the following problems:\n",
    "\n",
    "## Question 1\n",
    "\n",
    "Write a function to perform the following encryption. An input sentence is passed as a string with no spaces, i.e. `s = haveaniceday`. The function should then reorder the characters into a grid whose rows and columns have the following constraints:\n",
    "$$\n",
    "\\lfloor \\sqrt{L}\\rfloor \\leq \\text{row}\\leq \\text{column}\\lceil\\sqrt{L} \\rceil\n",
    "$$\n",
    "For example, if the input sentence was `s = haveaniceday`, then the restructuring would look like this:\n",
    "```\n",
    "have\n",
    "anic\n",
    "eday\n",
    "```\n",
    "The encoded message is obtained by displaying the characters in a column, inserting a space, and then displaying the next column and inserting a space, and so on. For example, the encoded message for the above rectangle is: `hae and via ecy`. This is the message your function shoule return.\n",
    "\n",
    "**Note:** Ensure that $\\text{rows} \\times \\text{columns} \\geq L$ and that if multiple grids satisfy the above conditions, choose the one with the minimum area, i.e. $\\text{rows} \\times \\text{columns}$"
   ]
  },
  {
   "cell_type": "code",
   "execution_count": null,
   "metadata": {
    "ExecuteTime": {
     "end_time": "2019-09-30T08:33:04.173098Z",
     "start_time": "2019-09-30T08:33:04.120077Z"
    },
    "deletable": false,
    "nbgrader": {
     "checksum": "763b1faca97f560c567e8d6e3ee9043e",
     "grade": false,
     "grade_id": "cell-55d716bcc80ad390",
     "locked": false,
     "schema_version": 1,
     "solution": true
    }
   },
   "outputs": [],
   "source": [
    "def encryption(s):\n",
    "    # YOUR CODE HERE\n",
    "    raise NotImplementedError()\n",
    "            "
   ]
  },
  {
   "cell_type": "code",
   "execution_count": null,
   "metadata": {
    "ExecuteTime": {
     "end_time": "2019-09-30T08:33:04.180453Z",
     "start_time": "2019-09-30T08:33:04.174713Z"
    },
    "deletable": false,
    "editable": false,
    "nbgrader": {
     "checksum": "35b2ab692961bab674d1a307c8903248",
     "grade": true,
     "grade_id": "cell-62581fa5dbef4391",
     "locked": true,
     "points": 1,
     "schema_version": 1,
     "solution": false
    }
   },
   "outputs": [],
   "source": [
    "# Run this test cell to check your code\n",
    "# Do not delete this cell\n",
    "# 1 mark\n",
    "# Unit test\n",
    "s    = 'haveaniceday'\n",
    "a    = 'hae and via ecy'\n",
    "\n",
    "assert(encryption(s) == a)\n",
    "print('Test case passed!!!')"
   ]
  },
  {
   "cell_type": "code",
   "execution_count": null,
   "metadata": {
    "ExecuteTime": {
     "end_time": "2019-09-30T08:33:04.188531Z",
     "start_time": "2019-09-30T08:33:04.181804Z"
    },
    "deletable": false,
    "editable": false,
    "nbgrader": {
     "checksum": "08d41994a2beedb91843388129383391",
     "grade": true,
     "grade_id": "cell-1333bf2642f849f7",
     "locked": true,
     "points": 1,
     "schema_version": 1,
     "solution": false
    }
   },
   "outputs": [],
   "source": [
    "# Run this test cell to check your code\n",
    "# Do not delete this cell\n",
    "# 1 mark\n",
    "# Unit test\n",
    "s    ='chillout'\n",
    "a    = 'clu hlt io'\n",
    "\n",
    "assert(encryption(s) == a)\n",
    "print('Test case passed!!!')"
   ]
  },
  {
   "cell_type": "code",
   "execution_count": null,
   "metadata": {
    "ExecuteTime": {
     "end_time": "2019-09-30T08:33:04.196782Z",
     "start_time": "2019-09-30T08:33:04.189983Z"
    },
    "deletable": false,
    "editable": false,
    "nbgrader": {
     "checksum": "380b17d8ca1de43ccf2a21dda0e8fe44",
     "grade": true,
     "grade_id": "cell-4492e8ff1c0bfbab",
     "locked": true,
     "points": 3,
     "schema_version": 1,
     "solution": false
    }
   },
   "outputs": [],
   "source": [
    "# Hidden test\n",
    "# No output will be produced\n",
    "# 3 marks"
   ]
  },
  {
   "cell_type": "markdown",
   "metadata": {
    "deletable": false,
    "editable": false,
    "nbgrader": {
     "checksum": "eaace67e3518e2b181cc0fd1677474be",
     "grade": false,
     "grade_id": "cell-60543ffb9a88cd53",
     "locked": true,
     "schema_version": 1,
     "solution": false
    }
   },
   "source": [
    "## Question 2\n",
    "\n",
    "Write a function which takes in an array as input. It's purpose is to find the minimum distance between any pair of equal elements in the array. For example, if `a = [3, 2, 1, 2, 3]`, then there are two matching pairs, 2 and 3. The indices of the 3's are at `i = 0` and `j = 4`, so their distance is `|j - i| = 4`. The indices of the 2's are `i = 1` and `j = 3`, so their distance is `|j - i| = 2`. Thus the function should return 2. If no pairs exist, the function should return `-1`.\n"
   ]
  },
  {
   "cell_type": "code",
   "execution_count": null,
   "metadata": {
    "ExecuteTime": {
     "end_time": "2019-09-30T08:33:04.206253Z",
     "start_time": "2019-09-30T08:33:04.198245Z"
    },
    "deletable": false,
    "nbgrader": {
     "checksum": "f38c213b7469b5d9722af09fe70836cd",
     "grade": false,
     "grade_id": "cell-dd43c4dbb2c622d9",
     "locked": false,
     "schema_version": 1,
     "solution": true
    }
   },
   "outputs": [],
   "source": [
    "def minimumDistances(a):\n",
    "    # YOUR CODE HERE\n",
    "    raise NotImplementedError()\n"
   ]
  },
  {
   "cell_type": "code",
   "execution_count": null,
   "metadata": {
    "ExecuteTime": {
     "end_time": "2019-09-30T08:33:04.213415Z",
     "start_time": "2019-09-30T08:33:04.208736Z"
    },
    "deletable": false,
    "editable": false,
    "nbgrader": {
     "checksum": "4b07f30316166be5e8d06468b6cfaa63",
     "grade": true,
     "grade_id": "cell-0d1b8eab9bf0f112",
     "locked": true,
     "points": 1,
     "schema_version": 1,
     "solution": false
    }
   },
   "outputs": [],
   "source": [
    "# Run this test cell to check your code\n",
    "# Do not delete this cell\n",
    "# 1 mark\n",
    "# Unit test\n",
    "a    = [3, 2, 1, 2, 3]\n",
    "tans = 2\n",
    "assert(minimumDistances(a) == tans)\n",
    "print('Test case passed!!!')"
   ]
  },
  {
   "cell_type": "code",
   "execution_count": null,
   "metadata": {
    "ExecuteTime": {
     "end_time": "2019-09-30T08:33:04.221284Z",
     "start_time": "2019-09-30T08:33:04.215115Z"
    },
    "deletable": false,
    "editable": false,
    "nbgrader": {
     "checksum": "86be351946c6ebea5590cc173884041e",
     "grade": true,
     "grade_id": "cell-a1997fa14c4bcc34",
     "locked": true,
     "points": 4,
     "schema_version": 1,
     "solution": false
    }
   },
   "outputs": [],
   "source": [
    "# Hidden test\n",
    "# No output will be produced\n",
    "# 4 marks"
   ]
  },
  {
   "cell_type": "markdown",
   "metadata": {},
   "source": [
    "# Main Exercises\n",
    "\n",
    "## Question 1\n",
    "\n",
    "Consider the advection problem given below:\n",
    "$$\n",
    "u_t + c u_x = 0, \n",
    "$$\n",
    "on the interval $(a, b) = (-2, 3)$. The initial data is given as:\n",
    "$$\n",
    "u(x, 0) = \\begin{cases} 1 - |x| &  |x| \\leq 1, \\\\ 0 & |x| \\geq 1,\\end{cases}\n",
    "$$\n",
    "and the boundary data as:\n",
    "$$\n",
    "u(-2, t) = 0, \\quad t > 0.\n",
    "$$\n",
    "\n",
    "Implement and explicit upwind scheme, i.e. forward time backward space (FTBS) scheme.\n"
   ]
  },
  {
   "cell_type": "code",
   "execution_count": null,
   "metadata": {
    "ExecuteTime": {
     "end_time": "2019-09-30T08:33:04.229155Z",
     "start_time": "2019-09-30T08:33:04.222609Z"
    },
    "deletable": false,
    "nbgrader": {
     "checksum": "206ade990eb7e74b0df3caa666d2c648",
     "grade": false,
     "grade_id": "cell-0fe24e46fd522829",
     "locked": false,
     "schema_version": 1,
     "solution": true
    }
   },
   "outputs": [],
   "source": [
    "def oneWayWave(dx, dt, c, l, r, it, nx):\n",
    "    # YOUR CODE HERE\n",
    "    raise NotImplementedError()"
   ]
  },
  {
   "cell_type": "code",
   "execution_count": null,
   "metadata": {
    "ExecuteTime": {
     "end_time": "2019-09-30T08:33:04.237755Z",
     "start_time": "2019-09-30T08:33:04.230370Z"
    },
    "deletable": false,
    "editable": false,
    "nbgrader": {
     "checksum": "772c06a53d1b82ff34a95f3cd147444c",
     "grade": true,
     "grade_id": "cell-2d50d581506aa347",
     "locked": true,
     "points": 1,
     "schema_version": 1,
     "solution": false
    }
   },
   "outputs": [],
   "source": [
    "# Run this test cell to check your code\n",
    "# Do not delete this cell\n",
    "# 1 mark\n",
    "# Unit test\n",
    "l      = -2\n",
    "r      = 3\n",
    "it     = 16\n",
    "nx     = 50\n",
    "c      = 1\n",
    "dx     = 0.1\n",
    "dt     = 0.1\n",
    "tans = np.array([0. , 0. , 0. , 0. , 0. , 0. , 0. , 0. , 0. , 0. , 0. , 0.1, 0.2,\n",
    "                0.3, 0.4, 0.5, 0.6, 0.7, 0.8, 0.9, 1. , 0.9, 0.8, 0.7, 0.6, 0.5,\n",
    "                0.4, 0.3, 0.2, 0.1, 0. , 0. , 0. , 0. , 0. , 0. , 0. , 0. , 0. ,\n",
    "                0. , 0. , 0. , 0. , 0. , 0. , 0. , 0. , 0. , 0. , 0. , 0. ])\n",
    "ans = oneWayWave(dx, dt, c, l, r, it, nx)\n",
    "nt.assert_array_almost_equal(ans[0, :], tans)\n",
    "print('Test case passed!!!')"
   ]
  },
  {
   "cell_type": "code",
   "execution_count": null,
   "metadata": {
    "ExecuteTime": {
     "end_time": "2019-09-30T08:33:04.248476Z",
     "start_time": "2019-09-30T08:33:04.238894Z"
    },
    "deletable": false,
    "editable": false,
    "nbgrader": {
     "checksum": "4d447cf2905ceb3c4140ceca05115347",
     "grade": true,
     "grade_id": "cell-13cee30dd4d0ce39",
     "locked": true,
     "points": 9,
     "schema_version": 1,
     "solution": false
    }
   },
   "outputs": [],
   "source": [
    "# Hidden test\n",
    "# No output will be produced\n",
    "# 4 marks"
   ]
  },
  {
   "cell_type": "markdown",
   "metadata": {
    "deletable": false,
    "editable": false,
    "nbgrader": {
     "checksum": "a1765ff98df3847c8b7463a5887d2a96",
     "grade": false,
     "grade_id": "cell-52f33a40f40439b0",
     "locked": true,
     "schema_version": 1,
     "solution": false
    }
   },
   "source": [
    "## Qustion 2\n",
    "\n",
    "Continuing with Question 1, plot the initial profile of the wave on one set of axis, and on another your final solution."
   ]
  },
  {
   "cell_type": "code",
   "execution_count": null,
   "metadata": {
    "ExecuteTime": {
     "end_time": "2019-09-30T08:33:04.678792Z",
     "start_time": "2019-09-30T08:33:04.249696Z"
    },
    "deletable": false,
    "nbgrader": {
     "checksum": "8ff66fbeea50e940c827ecf116569b2c",
     "grade": true,
     "grade_id": "cell-dd1d6caf0b5a5f2e",
     "locked": false,
     "points": 5,
     "schema_version": 1,
     "solution": true
    }
   },
   "outputs": [],
   "source": [
    "# YOUR CODE HERE\n",
    "raise NotImplementedError()"
   ]
  },
  {
   "cell_type": "markdown",
   "metadata": {
    "deletable": false,
    "editable": false,
    "nbgrader": {
     "checksum": "e464c991468775635dd5c9eb794fff77",
     "grade": false,
     "grade_id": "cell-c04dd568200365a8",
     "locked": true,
     "schema_version": 1,
     "solution": false
    }
   },
   "source": [
    "## Question 3\n",
    "\n",
    "Again, continuing with Question 1. Now implement a FTCS scheme on the same equation."
   ]
  },
  {
   "cell_type": "code",
   "execution_count": null,
   "metadata": {
    "ExecuteTime": {
     "end_time": "2019-10-02T13:48:53.753141Z",
     "start_time": "2019-10-02T13:48:53.743489Z"
    },
    "deletable": false,
    "nbgrader": {
     "checksum": "0b074c3f2e1f66fa7979e20ea709c567",
     "grade": false,
     "grade_id": "cell-d50c4955013f7c22",
     "locked": false,
     "schema_version": 1,
     "solution": true
    }
   },
   "outputs": [],
   "source": [
    "def oneWayWaveFTCS(dx, dt, c, l, r, it, nx):\n",
    "    # YOUR CODE HERE\n",
    "    raise NotImplementedError()"
   ]
  },
  {
   "cell_type": "code",
   "execution_count": null,
   "metadata": {
    "ExecuteTime": {
     "end_time": "2019-10-02T13:50:15.943040Z",
     "start_time": "2019-10-02T13:50:15.928837Z"
    },
    "deletable": false,
    "editable": false,
    "nbgrader": {
     "checksum": "bf34f026867cb7c0a5c6f4b2561f41f3",
     "grade": true,
     "grade_id": "cell-9a534a4e676a20ba",
     "locked": true,
     "points": 1,
     "schema_version": 1,
     "solution": false
    }
   },
   "outputs": [],
   "source": [
    "# Run this test cell to check your code\n",
    "# Do not delete this cell\n",
    "# 1 mark\n",
    "# Unit test\n",
    "l      = -2\n",
    "r      = 3\n",
    "it     = 16\n",
    "nx     = 50\n",
    "c      = 1\n",
    "dx     = 0.1\n",
    "dt     = 0.1\n",
    "tans = np.array([0. , 0. , 0. , 0. , 0. , 0. , 0. , 0. , 0. , 0. , 0. , 0.1, 0.2,\n",
    "                0.3, 0.4, 0.5, 0.6, 0.7, 0.8, 0.9, 1. , 0.9, 0.8, 0.7, 0.6, 0.5,\n",
    "                0.4, 0.3, 0.2, 0.1, 0. , 0. , 0. , 0. , 0. , 0. , 0. , 0. , 0. ,\n",
    "                0. , 0. , 0. , 0. , 0. , 0. , 0. , 0. , 0. , 0. , 0. , 0. ])\n",
    "ans = oneWayWaveFTCS(dx, dt, c, l, r, it, nx)\n",
    "nt.assert_array_almost_equal(ans[0, :], tans)\n",
    "print('Test case passed!!!')"
   ]
  },
  {
   "cell_type": "code",
   "execution_count": null,
   "metadata": {
    "ExecuteTime": {
     "end_time": "2019-10-02T13:50:37.835739Z",
     "start_time": "2019-10-02T13:50:37.820828Z"
    },
    "deletable": false,
    "editable": false,
    "nbgrader": {
     "checksum": "d78df4fce97c6fb33e1849cee12d788f",
     "grade": true,
     "grade_id": "cell-1ce3408792ad7058",
     "locked": true,
     "points": 2,
     "schema_version": 1,
     "solution": false
    }
   },
   "outputs": [],
   "source": [
    "# Run this test cell to check your code\n",
    "# Do not delete this cell\n",
    "# 2 mark\n",
    "# Unit test\n",
    "l      = -2\n",
    "r      = 3\n",
    "it     = 16\n",
    "nx     = 50\n",
    "c      = 1\n",
    "dx     = 0.1\n",
    "dt     = 0.1\n",
    "tans = np.array([ 0.       ,  0.       ,  0.       ,  0.       ,  0.       ,\n",
    "        0.0015625, -0.015625 ,  0.0515625, -0.0375   , -0.103125 ,\n",
    "        0.09375  ,  0.171875 , -0.0125   , -0.1734375, -0.178125 ,\n",
    "       -0.1015625,  0.03125  , -0.003125 ,  0.275    ,  0.50625  ,\n",
    "        0.2125   ,  0.15625  ,  0.625    ,  1.046875 ,  1.15625  ,\n",
    "        1.0984375,  0.984375 ,  0.9515625,  0.7625   ,  0.596875 ,\n",
    "        0.69375  ,  0.671875 ,  0.3875   ,  0.1265625,  0.021875 ,\n",
    "        0.0015625,  0.       ,  0.       ,  0.       ,  0.       ,\n",
    "        0.       ,  0.       ,  0.       ,  0.       ,  0.       ,\n",
    "        0.       ,  0.       ,  0.       ,  0.       ,  0.       ,\n",
    "        0.       ])\n",
    "ans = oneWayWaveFTCS(dx, dt, c, l, r, it, nx)\n",
    "nt.assert_array_almost_equal(ans[6, :], tans)\n",
    "print('Test case passed!!!')"
   ]
  },
  {
   "cell_type": "code",
   "execution_count": null,
   "metadata": {
    "ExecuteTime": {
     "end_time": "2019-09-30T08:33:04.724448Z",
     "start_time": "2019-09-30T08:33:04.714390Z"
    },
    "deletable": false,
    "editable": false,
    "nbgrader": {
     "checksum": "9777723cf4e73bf841bbc7dc00a06ab9",
     "grade": true,
     "grade_id": "cell-e5aaec982695270d",
     "locked": true,
     "points": 7,
     "schema_version": 1,
     "solution": false
    }
   },
   "outputs": [],
   "source": [
    "# Hidden test\n",
    "# No output will be produced\n",
    "# 7 marks"
   ]
  },
  {
   "cell_type": "markdown",
   "metadata": {
    "deletable": false,
    "editable": false,
    "nbgrader": {
     "checksum": "d70424b79f320ee3a4541c14f2c2a9c9",
     "grade": false,
     "grade_id": "cell-88936e8c361e153c",
     "locked": true,
     "schema_version": 1,
     "solution": false
    }
   },
   "source": [
    "### Question 4\n",
    "\n",
    "Consider the wave equation given by:\n",
    "$$\n",
    "u_{tt} = c^2u_{xx},\n",
    "$$\n",
    "$$\n",
    "u(x, 0) = e^{-100(x - 0.5)^2}, \\ \\ \\ u_t(x, 0) = 0, \\ \\ \\ u(0, t) = u(1, t) = 0.\n",
    "$$\n",
    "Write a function that implements a centered space, centered time scheme. Specifically, your function should take as inputs, the stepsizes `dx` and `dt`, the wave speed `c`, the number of iterations to perform `N` and the left and right endpoints `a`, `b`.\n",
    "\n",
    "Your function should return the solution matrix, containing the wave profile at each time iteration, i.e. `N + 1` rows."
   ]
  },
  {
   "cell_type": "code",
   "execution_count": null,
   "metadata": {
    "ExecuteTime": {
     "end_time": "2019-10-01T15:49:02.498705Z",
     "start_time": "2019-10-01T15:49:02.489752Z"
    },
    "deletable": false,
    "nbgrader": {
     "checksum": "d9ef8df1748c3f6168e109f6993d2075",
     "grade": false,
     "grade_id": "cell-351a661dcdde0b89",
     "locked": false,
     "schema_version": 1,
     "solution": true
    }
   },
   "outputs": [],
   "source": [
    "def wave_eq(dx, dt, c, N, ic, a, b):\n",
    "    # YOUR CODE HERE\n",
    "    raise NotImplementedError()"
   ]
  },
  {
   "cell_type": "code",
   "execution_count": null,
   "metadata": {
    "ExecuteTime": {
     "end_time": "2019-10-01T15:49:02.772677Z",
     "start_time": "2019-10-01T15:49:02.752404Z"
    },
    "deletable": false,
    "editable": false,
    "nbgrader": {
     "checksum": "38a999cfae2b01bf41de4c9c009a2c78",
     "grade": true,
     "grade_id": "cell-39c0662af70fefb2",
     "locked": true,
     "points": 0,
     "schema_version": 1,
     "solution": false
    }
   },
   "outputs": [],
   "source": [
    "# Run this test cell to check your code\n",
    "# Do not delete this cell\n",
    "# 1 mark\n",
    "# Unit test\n",
    "dx = 0.01\n",
    "c  = 0.25\n",
    "dt = (1/2)*dx\n",
    "N  = 100\n",
    "a  = 0 \n",
    "b  = 1\n",
    "ic = lambda xvals: np.exp(-100*(xvals-1/2)**2)\n",
    "U = wave_eq(dx, dt, c, N, ic, a, b)\n",
    "tans = np.array([0.       , 0.       , 0.       , 0.       , 0.       , 0.       ,\n",
    "       0.       , 0.       , 0.       , 0.0000001, 0.0000001, 0.0000002,\n",
    "       0.0000005, 0.0000011, 0.0000024, 0.0000048, 0.0000095, 0.0000186,\n",
    "       0.0000357, 0.0000671, 0.0001234, 0.0002226, 0.0003937, 0.0006823,\n",
    "       0.0011592, 0.0019305, 0.0031511, 0.0050418, 0.0079071, 0.0121552,\n",
    "       0.0183156, 0.0270518, 0.0391639, 0.0555762, 0.0773047, 0.1053992,\n",
    "       0.1408584, 0.1845195, 0.2369278, 0.2981973, 0.3678794, 0.4448581,\n",
    "       0.5272924, 0.6126264, 0.6976763, 0.7788008, 0.8521438, 0.9139312,\n",
    "       0.9607894, 0.9900498, 1.       , 0.9900498, 0.9607894, 0.9139312,\n",
    "       0.8521438, 0.7788008, 0.6976763, 0.6126264, 0.5272924, 0.4448581,\n",
    "       0.3678794, 0.2981973, 0.2369278, 0.1845195, 0.1408584, 0.1053992,\n",
    "       0.0773047, 0.0555762, 0.0391639, 0.0270518, 0.0183156, 0.0121552,\n",
    "       0.0079071, 0.0050418, 0.0031511, 0.0019305, 0.0011592, 0.0006823,\n",
    "       0.0003937, 0.0002226, 0.0001234, 0.0000671, 0.0000357, 0.0000186,\n",
    "       0.0000095, 0.0000048, 0.0000024, 0.0000011, 0.0000005, 0.0000002,\n",
    "       0.0000001, 0.0000001, 0.       , 0.       , 0.       , 0.       ,\n",
    "       0.       , 0.       , 0.       , 0.       , 0.       ])\n",
    "nt.assert_array_almost_equal(U[0, :], tans)\n",
    "print('Test case passed!!!')"
   ]
  },
  {
   "cell_type": "code",
   "execution_count": null,
   "metadata": {
    "ExecuteTime": {
     "end_time": "2019-10-01T15:50:10.617735Z",
     "start_time": "2019-10-01T15:50:10.599241Z"
    },
    "deletable": false,
    "editable": false,
    "nbgrader": {
     "checksum": "6914208791da6c3f6ddbff8737c57687",
     "grade": true,
     "grade_id": "cell-5ffda75e6cc2aa4d",
     "locked": true,
     "points": 1,
     "schema_version": 1,
     "solution": false
    }
   },
   "outputs": [],
   "source": [
    "# Run this test cell to check your code\n",
    "# Do not delete this cell\n",
    "# 1 mark\n",
    "# Unit test\n",
    "dx = 0.01\n",
    "c  = 0.25\n",
    "dt = (1/2)*dx\n",
    "N  = 100\n",
    "a  = 0 \n",
    "b  = 1\n",
    "ic = lambda xvals: np.exp(-100*(xvals-1/2)**2)\n",
    "U  = wave_eq(dx, dt, c, N, ic, a, b)\n",
    "tans = np.array([0.       , 0.0000007, 0.0000019, 0.0000039, 0.0000076, 0.0000145,\n",
    "       0.0000273, 0.0000502, 0.0000905, 0.0001601, 0.0002778, 0.0004728,\n",
    "       0.0007893, 0.0012924, 0.0020754, 0.0032688, 0.005049 , 0.0076482,\n",
    "       0.0113617, 0.0165518, 0.0236457, 0.0331249, 0.0455034, 0.0612928,\n",
    "       0.0809545, 0.1048403, 0.1331254, 0.1657408, 0.202313 , 0.242122 ,\n",
    "       0.2840871, 0.3267888, 0.3685309, 0.4074426, 0.4416139, 0.4692524,\n",
    "       0.4888443, 0.4993016, 0.5000772, 0.4912332, 0.4734539, 0.4480028,\n",
    "       0.4166288, 0.381435 , 0.3447241, 0.3088393, 0.2760135, 0.2482391,\n",
    "       0.227164 , 0.2140151, 0.2095472, 0.2140151, 0.227164 , 0.2482391,\n",
    "       0.2760135, 0.3088393, 0.3447241, 0.381435 , 0.4166288, 0.4480028,\n",
    "       0.4734539, 0.4912332, 0.5000772, 0.4993016, 0.4888443, 0.4692524,\n",
    "       0.4416139, 0.4074426, 0.3685309, 0.3267888, 0.2840871, 0.242122 ,\n",
    "       0.202313 , 0.1657408, 0.1331254, 0.1048403, 0.0809545, 0.0612928,\n",
    "       0.0455034, 0.0331249, 0.0236457, 0.0165518, 0.0113617, 0.0076482,\n",
    "       0.005049 , 0.0032688, 0.0020754, 0.0012924, 0.0007893, 0.0004728,\n",
    "       0.0002778, 0.0001601, 0.0000905, 0.0000501, 0.0000273, 0.0000145,\n",
    "       0.0000075, 0.0000037, 0.0000015, 0.       , 0.       ])\n",
    "nt.assert_array_almost_equal(U[-1, :], tans)\n",
    "print('Test case passed!!!')"
   ]
  },
  {
   "cell_type": "code",
   "execution_count": null,
   "metadata": {
    "deletable": false,
    "editable": false,
    "nbgrader": {
     "checksum": "c42b742076ad669d7031005f32afc999",
     "grade": true,
     "grade_id": "cell-6d151fef6245ac01",
     "locked": true,
     "points": 8,
     "schema_version": 1,
     "solution": false
    }
   },
   "outputs": [],
   "source": [
    "# Hidden test\n",
    "# No output will be produced\n",
    "# 4 marks"
   ]
  },
  {
   "cell_type": "markdown",
   "metadata": {
    "deletable": false,
    "editable": false,
    "nbgrader": {
     "checksum": "7d96ef02c6ab548be6d59c3ce3fb0617",
     "grade": false,
     "grade_id": "cell-800cc4b600f40eec",
     "locked": true,
     "schema_version": 1,
     "solution": false
    }
   },
   "source": [
    "### Question 5\n",
    "\n",
    "Continuing with Question 4, plot the 2D wave profile for every 10 timesteps given the input below:"
   ]
  },
  {
   "cell_type": "code",
   "execution_count": null,
   "metadata": {
    "ExecuteTime": {
     "end_time": "2019-10-01T15:50:12.358911Z",
     "start_time": "2019-10-01T15:50:11.924027Z"
    },
    "deletable": false,
    "editable": false,
    "nbgrader": {
     "checksum": "f2f9de7ce7dca480e5299f082b62f229",
     "grade": false,
     "grade_id": "cell-76ecb0a28412cd79",
     "locked": true,
     "schema_version": 1,
     "solution": false
    }
   },
   "outputs": [],
   "source": [
    "dx = 0.01\n",
    "c  = 0.25\n",
    "dt = (1/2)*dx\n",
    "N  = 100\n",
    "a  = 0 \n",
    "b  = 1\n",
    "ic = lambda xvals: np.exp(-100*(xvals-1/2)**2)\n"
   ]
  },
  {
   "cell_type": "code",
   "execution_count": null,
   "metadata": {
    "deletable": false,
    "nbgrader": {
     "checksum": "991381d77f5bfd8c3c57f1b6f6a467af",
     "grade": true,
     "grade_id": "cell-6699dde5ad444893",
     "locked": false,
     "points": 5,
     "schema_version": 1,
     "solution": true
    }
   },
   "outputs": [],
   "source": [
    "# YOUR CODE HERE\n",
    "raise NotImplementedError()"
   ]
  },
  {
   "cell_type": "markdown",
   "metadata": {
    "deletable": false,
    "editable": false,
    "nbgrader": {
     "checksum": "e58057657c406a499c30317be6e862d6",
     "grade": false,
     "grade_id": "cell-24a12c57ef5508a7",
     "locked": true,
     "schema_version": 1,
     "solution": false
    }
   },
   "source": [
    "### Question 6\n",
    "\n",
    "Continuing with Question 4, plot the 3D surface of your solution."
   ]
  },
  {
   "cell_type": "code",
   "execution_count": null,
   "metadata": {
    "deletable": false,
    "nbgrader": {
     "checksum": "f132e1b9030c83e83bafeff1b671a122",
     "grade": true,
     "grade_id": "cell-b98fb5f22c29b50e",
     "locked": false,
     "points": 5,
     "schema_version": 1,
     "solution": true
    }
   },
   "outputs": [],
   "source": [
    "# YOUR CODE HERE\n",
    "raise NotImplementedError()"
   ]
  },
  {
   "cell_type": "code",
   "execution_count": null,
   "metadata": {},
   "outputs": [],
   "source": []
  }
 ],
 "metadata": {
  "kernelspec": {
   "display_name": "Python 3",
   "language": "python",
   "name": "python3"
  },
  "language_info": {
   "codemirror_mode": {
    "name": "ipython",
    "version": 3
   },
   "file_extension": ".py",
   "mimetype": "text/x-python",
   "name": "python",
   "nbconvert_exporter": "python",
   "pygments_lexer": "ipython3",
   "version": "3.7.3"
  },
  "latex_envs": {
   "LaTeX_envs_menu_present": true,
   "autoclose": false,
   "autocomplete": false,
   "bibliofile": "biblio.bib",
   "cite_by": "apalike",
   "current_citInitial": 1,
   "eqLabelWithNumbers": true,
   "eqNumInitial": 1,
   "hotkeys": {
    "equation": "Ctrl-E",
    "itemize": "Ctrl-I"
   },
   "labels_anchors": false,
   "latex_user_defs": false,
   "report_style_numbering": false,
   "user_envs_cfg": false
  },
  "varInspector": {
   "cols": {
    "lenName": 16,
    "lenType": 16,
    "lenVar": 40
   },
   "kernels_config": {
    "python": {
     "delete_cmd_postfix": "",
     "delete_cmd_prefix": "del ",
     "library": "var_list.py",
     "varRefreshCmd": "print(var_dic_list())"
    },
    "r": {
     "delete_cmd_postfix": ") ",
     "delete_cmd_prefix": "rm(",
     "library": "var_list.r",
     "varRefreshCmd": "cat(var_dic_list()) "
    }
   },
   "types_to_exclude": [
    "module",
    "function",
    "builtin_function_or_method",
    "instance",
    "_Feature"
   ],
   "window_display": false
  }
 },
 "nbformat": 4,
 "nbformat_minor": 4
}
