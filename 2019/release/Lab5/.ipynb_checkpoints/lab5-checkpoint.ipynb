{
 "cells": [
  {
   "cell_type": "code",
   "execution_count": null,
   "metadata": {},
   "outputs": [],
   "source": [
    "# Initialisation Cell\n",
    "# You should always put imported modules here\n",
    "from math import *\n",
    "import sys\n",
    "import numpy as np\n",
    "import numpy.testing as nt\n",
    "import numpy.linalg as LA\n",
    "from matplotlib import pyplot as plt\n",
    "import seaborn as sns\n",
    "sns.set(style=\"darkgrid\")\n",
    "plt.rcParams['figure.figsize'] = [8, 5]\n",
    "plt.rcParams['figure.dpi'] = 100\n",
    "np.set_printoptions(suppress=True, precision=7)\n",
    "np.set_printoptions(threshold=sys.maxsize)\n",
    "import warnings\n",
    "warnings.filterwarnings('ignore')"
   ]
  },
  {
   "cell_type": "markdown",
   "metadata": {
    "deletable": false,
    "editable": false,
    "nbgrader": {
     "checksum": "92621e51169ff34f7f5baeb22baeea23",
     "grade": false,
     "grade_id": "cell-2efc04e8f2b59bc5",
     "locked": true,
     "schema_version": 1,
     "solution": false
    }
   },
   "source": [
    "# CDES Honours - Lab 5\n",
    "\n",
    "\n",
    "## Instructions\n",
    "\n",
    "* Read all the instructions carefully.\n",
    "* Do not rename the notebook, simply answer the questions and resubmit the file to Moodle.\n",
    "* **Numpy** has a help file for every function if you get stuck. See: https://docs.scipy.org/doc/numpy-1.15.4/reference/\n",
    "* See these useful links:\n",
    "    * https://docs.scipy.org/doc/numpy/user/numpy-for-matlab-users.html\n",
    "    * https://docs.scipy.org/doc/numpy/user/quickstart.html\n",
    "* **Numpy** is not always required.\n",
    "* There are also numerous sources available on the internet, Google is your friend!"
   ]
  },
  {
   "cell_type": "markdown",
   "metadata": {
    "deletable": false,
    "editable": false,
    "nbgrader": {
     "checksum": "98d17960bd965c1fe1f7c239534a0a2b",
     "grade": false,
     "grade_id": "cell-d9325f9a14eb36f1",
     "locked": true,
     "schema_version": 1,
     "solution": false
    }
   },
   "source": [
    "## Warmup Exercises\n",
    "\n",
    "Complete the following problems:\n",
    "\n",
    "## Question 1\n",
    "\n",
    "Write a function that takes in a number sticks of varying length. Your function should iteratrively cut these sticks into smaller sticks and discard the shortest pieces until there are none left. At each iteration, your function should determine the shortest stick, and cut its length from each of the other sticks and then discard all the pieces of that shortest length. Your function should return a list which contains the number of sticks that are left before each iteration until there are none left. \n",
    "\n",
    "Example, given the input `[5 4 4 2 2 8]`, the number of sticks before each iteration are `[6 4 2 1]`."
   ]
  },
  {
   "cell_type": "code",
   "execution_count": null,
   "metadata": {
    "deletable": false,
    "nbgrader": {
     "checksum": "ef782dda0c5f653a563ba394f7740e2c",
     "grade": false,
     "grade_id": "cell-40ff3385a69709b6",
     "locked": false,
     "schema_version": 1,
     "solution": true
    }
   },
   "outputs": [],
   "source": [
    "def minCuts(x):\n",
    "    # YOUR CODE HERE\n",
    "    raise NotImplementedError()"
   ]
  },
  {
   "cell_type": "code",
   "execution_count": null,
   "metadata": {
    "deletable": false,
    "editable": false,
    "nbgrader": {
     "checksum": "200b365de912edac2e2973bd524935ff",
     "grade": true,
     "grade_id": "cell-51ebc8ce634aeb0d",
     "locked": true,
     "points": 1,
     "schema_version": 1,
     "solution": false
    }
   },
   "outputs": [],
   "source": [
    "# Run this test cell to check your code\n",
    "# Do not delete this cell\n",
    "# 1 mark\n",
    "# Unit test\n",
    "test = [5, 4, 4, 2, 2, 8]\n",
    "tans = [6, 4, 2, 1]\n",
    "\n",
    "assert(minCuts(test) == tans)\n",
    "print('Test case passed!!!')"
   ]
  },
  {
   "cell_type": "code",
   "execution_count": null,
   "metadata": {
    "deletable": false,
    "editable": false,
    "nbgrader": {
     "checksum": "f3868d6d18165569c4eb1d0d1ce6bfd2",
     "grade": true,
     "grade_id": "cell-33321ea68dba2e3a",
     "locked": true,
     "points": 4,
     "schema_version": 1,
     "solution": false
    }
   },
   "outputs": [],
   "source": [
    "# Hidden test\n",
    "# No output will be produced\n",
    "# 4 marks"
   ]
  },
  {
   "cell_type": "markdown",
   "metadata": {
    "deletable": false,
    "editable": false,
    "nbgrader": {
     "checksum": "31b462583f8ecabbc467f332b49fe4e3",
     "grade": false,
     "grade_id": "cell-0fdff83852d5d668",
     "locked": true,
     "schema_version": 1,
     "solution": false
    }
   },
   "source": [
    "##  Question 2\n",
    "\n",
    "There are a number of people who will be attending ACM-ICPC World Finals. Each of them may be well versed in a number of topics. Given a list of topics known by each attendee, you must determine the maximum number of topics a 2-person team can know. Also find out how many ways a team can be formed to know that many topics. Lists will be in the form of bit strings, where each string represents an attendee and each position in that string represents a field of knowledge, 1 if its a known field or 0 if not.\n",
    "\n",
    "For example, given three attendees' data as follows:\n",
    "\n",
    "```\n",
    "10101\n",
    "11110\n",
    "00010\n",
    "```\n",
    "\n",
    "These are all possible teams that can be formed:\n",
    "\n",
    "```\n",
    "Members Subjects\n",
    "(1,2)   [1,2,3,4,5]\n",
    "(1,3)   [1,3,4,5]\n",
    "(2,3)   [1,2,3,4]\n",
    "```\n",
    "In this case, the first team will know all 5 subjects. They are the only team that can be created knowing that many subjects.\n",
    "\n",
    "Write a function that takes in an array of strings, where each string is a team, and its binary elements, the topics known or not by the team. Your function should return the maximum number of topics any team could know, as well as the number of teams in the input list that know this maximum number.\n"
   ]
  },
  {
   "cell_type": "code",
   "execution_count": null,
   "metadata": {
    "deletable": false,
    "nbgrader": {
     "checksum": "03684a826dbbaf8a3cfa67f76ff5e237",
     "grade": false,
     "grade_id": "cell-10f1f77ecbe3a0ed",
     "locked": false,
     "schema_version": 1,
     "solution": true
    }
   },
   "outputs": [],
   "source": [
    "def maxTopics(topics):\n",
    "    # YOUR CODE HERE\n",
    "    raise NotImplementedError()\n"
   ]
  },
  {
   "cell_type": "code",
   "execution_count": null,
   "metadata": {
    "deletable": false,
    "editable": false,
    "nbgrader": {
     "checksum": "58e150482acf8a84acd888620c4ae858",
     "grade": true,
     "grade_id": "cell-a638d86d628b8c3a",
     "locked": true,
     "points": 1,
     "schema_version": 1,
     "solution": false
    }
   },
   "outputs": [],
   "source": [
    "# Run this test cell to check your code\n",
    "# Do not delete this cell\n",
    "# 1 mark\n",
    "# Unit test\n",
    "test = ['10101','11100','11010','00101']\n",
    "tans = (5, 2)\n",
    "\n",
    "assert(maxTopics(test) == tans)\n",
    "print('Test case passed!!!')"
   ]
  },
  {
   "cell_type": "code",
   "execution_count": null,
   "metadata": {
    "deletable": false,
    "editable": false,
    "nbgrader": {
     "checksum": "a0b37cae333e1855ab62266994f894b0",
     "grade": true,
     "grade_id": "cell-65ec086701bca192",
     "locked": true,
     "points": 4,
     "schema_version": 1,
     "solution": false
    }
   },
   "outputs": [],
   "source": [
    "# Hidden test\n",
    "# No output will be produced\n",
    "# 4 marks"
   ]
  },
  {
   "cell_type": "markdown",
   "metadata": {
    "deletable": false,
    "editable": false,
    "nbgrader": {
     "checksum": "44f60b55a499efbbde34bfcced12a570",
     "grade": false,
     "grade_id": "cell-c7d1ae9c08e360d9",
     "locked": true,
     "schema_version": 1,
     "solution": false
    }
   },
   "source": [
    "# Main Exercises\n",
    "\n",
    "## Question 1\n",
    "\n",
    "Recall from lab 4, the PDE given by:\n",
    "$$\n",
    "v_t = D\\left( v_{xx} + v_{yy}\\right), \n",
    "$$\n",
    "$$\n",
    "v(-1, y, t) = v(1, y, t) = v(x, -1, t) = v(x, 1, t) = 0, v(x, y, 0) = e^{-(x^2 + y^2)}  \n",
    "$$\n",
    "Assuming one is implementing a FTCS scheme like was done in lab 4, write a function which generates the coefficient matrix $A$. That is, the appropriate block matrix to compute the domain values for each time step.\n",
    "\n",
    "**Hint:** This will be a banded matrix of 5 elements.\n"
   ]
  },
  {
   "cell_type": "code",
   "execution_count": null,
   "metadata": {
    "deletable": false,
    "nbgrader": {
     "checksum": "c1d613e04a894bf878d69045267d7a52",
     "grade": false,
     "grade_id": "cell-5e97a0a37e51c1a3",
     "locked": false,
     "schema_version": 1,
     "solution": true
    }
   },
   "outputs": [],
   "source": [
    "def fiveBandedMatrix(n):\n",
    "    # YOUR CODE HERE\n",
    "    raise NotImplementedError()\n"
   ]
  },
  {
   "cell_type": "code",
   "execution_count": null,
   "metadata": {
    "deletable": false,
    "editable": false,
    "nbgrader": {
     "checksum": "0f8adb5638a6f2e14ac9002f760ccfbe",
     "grade": true,
     "grade_id": "cell-d9476efe9e3c5677",
     "locked": true,
     "points": 1,
     "schema_version": 1,
     "solution": false
    }
   },
   "outputs": [],
   "source": [
    "# Run this test cell to check your code\n",
    "# Do not delete this cell\n",
    "# 1 mark\n",
    "# Unit test\n",
    "test = 9\n",
    "tans = np.array([[  -3.,  1.,  0.,  1.,  0.,  0.,  0.,  0.,  0.],\n",
    "                   [ 1., -3.,  1.,  0.,  1.,  0.,  0.,  0.,  0.],\n",
    "                   [ 0.,  1., -3.,  0.,  0.,  1.,  0.,  0.,  0.],\n",
    "                   [ 1.,  0.,  0., -3.,  1.,  0.,  1.,  0.,  0.],\n",
    "                   [ 0.,  1.,  0.,  1., -3.,  1.,  0.,  1.,  0.],\n",
    "                   [ 0.,  0.,  1.,  0.,  1., -3.,  0.,  0.,  1.],\n",
    "                   [ 0.,  0.,  0.,  1.,  0.,  0., -3.,  1.,  0.],\n",
    "                   [ 0.,  0.,  0.,  0.,  1.,  0.,  1., -3.,  1.],\n",
    "                   [ 0.,  0.,  0.,  0.,  0.,  1.,  0.,  1., -3.]])\n",
    "\n",
    "nt.assert_array_equal(fiveBandedMatrix(test), tans)\n",
    "print('Test case passed!!!')"
   ]
  },
  {
   "cell_type": "code",
   "execution_count": null,
   "metadata": {
    "deletable": false,
    "editable": false,
    "nbgrader": {
     "checksum": "bf19cbea18dbe2c26b73bf9b2f2308bc",
     "grade": true,
     "grade_id": "cell-9ad664ccee276863",
     "locked": true,
     "points": 9,
     "schema_version": 1,
     "solution": false
    }
   },
   "outputs": [],
   "source": [
    "# Hidden test\n",
    "# No output will be produced\n",
    "# 9 marks"
   ]
  },
  {
   "cell_type": "markdown",
   "metadata": {
    "deletable": false,
    "editable": false,
    "nbgrader": {
     "checksum": "6cfad7c8f72634baeb50e43c22eb7440",
     "grade": false,
     "grade_id": "cell-4b344110eeb034dd",
     "locked": true,
     "schema_version": 1,
     "solution": false
    }
   },
   "source": [
    "## Question 2\n",
    "\n",
    "Plot the sparse representation of the matrix structure above, given the input below:\n",
    "\n",
    "i.e. show the sparse diagonal structure of the coefficient matrix via plot, and not via numbers."
   ]
  },
  {
   "cell_type": "code",
   "execution_count": null,
   "metadata": {
    "deletable": false,
    "editable": false,
    "nbgrader": {
     "checksum": "6d19878bcc23b7b11cb6858a2085192d",
     "grade": false,
     "grade_id": "cell-1206926fd81f445f",
     "locked": true,
     "schema_version": 1,
     "solution": false
    }
   },
   "outputs": [],
   "source": [
    "n = 81\n",
    "mat = fiveBandedMatrix(n)"
   ]
  },
  {
   "cell_type": "code",
   "execution_count": null,
   "metadata": {
    "deletable": false,
    "nbgrader": {
     "checksum": "6f7c5add5fdf7639e5d4df83c1bce190",
     "grade": true,
     "grade_id": "cell-5ec3143a7ca185e9",
     "locked": false,
     "points": 5,
     "schema_version": 1,
     "solution": true
    }
   },
   "outputs": [],
   "source": [
    "# YOUR CODE HERE\n",
    "raise NotImplementedError()"
   ]
  },
  {
   "cell_type": "markdown",
   "metadata": {
    "deletable": false,
    "editable": false,
    "nbgrader": {
     "checksum": "dd988586fba468d4f97781e907f26a1c",
     "grade": false,
     "grade_id": "cell-660ee83f991ca19e",
     "locked": true,
     "schema_version": 1,
     "solution": false
    }
   },
   "source": [
    "## Question 3\n",
    "\n",
    "Again, solve the PDE given in Question 1, however, this time, implement an implicit scheme (i.e. BTCS). \n",
    "\n",
    "Note, your function should return a 3 dimensional array containg the 2D heat map at each interation."
   ]
  },
  {
   "cell_type": "code",
   "execution_count": null,
   "metadata": {
    "deletable": false,
    "nbgrader": {
     "checksum": "f6d7cebdb13ddc77464fb1ee3e82343b",
     "grade": false,
     "grade_id": "cell-89dc3db25338dddc",
     "locked": false,
     "schema_version": 1,
     "solution": true
    }
   },
   "outputs": [],
   "source": [
    "def heat2D_matrix_eq(dx, dy, dt, D, N):\n",
    "    # YOUR CODE HERE\n",
    "    raise NotImplementedError()\n"
   ]
  },
  {
   "cell_type": "code",
   "execution_count": null,
   "metadata": {
    "deletable": false,
    "editable": false,
    "nbgrader": {
     "checksum": "57d9bf923754ddcb80a9525c65f024e7",
     "grade": true,
     "grade_id": "cell-e50b11a6c617614c",
     "locked": true,
     "points": 1,
     "schema_version": 1,
     "solution": false
    }
   },
   "outputs": [],
   "source": [
    "# Run this test cell to check your code\n",
    "# Do not delete this cell\n",
    "# 1 mark\n",
    "# Unit test\n",
    "\n",
    "dx = 0.1\n",
    "dy = 0.1\n",
    "dt = 0.1\n",
    "D  = 1\n",
    "N  = 10\n",
    "test = heat2D_matrix_eq(dx, dy, dt, D, N)[:, :, -1]\n",
    "tans = np.array([[0.       , 0.       , 0.       , 0.       , 0.       , 0.       ,\n",
    "        0.       , 0.       , 0.       , 0.       , 0.       , 0.       ,\n",
    "        0.       , 0.       , 0.       , 0.       , 0.       , 0.       ,\n",
    "        0.       , 0.       , 0.       ],\n",
    "       [0.       , 0.0005143, 0.0010158, 0.0014924, 0.0019322, 0.0023244,\n",
    "        0.0026593, 0.0029288, 0.0031261, 0.0032465, 0.003287 , 0.0032465,\n",
    "        0.0031261, 0.0029288, 0.0026593, 0.0023244, 0.0019322, 0.0014924,\n",
    "        0.0010158, 0.0005143, 0.       ],\n",
    "       [0.       , 0.0010158, 0.0020067, 0.002948 , 0.0038168, 0.0045915,\n",
    "        0.0052531, 0.0057854, 0.0061753, 0.0064131, 0.006493 , 0.0064131,\n",
    "        0.0061753, 0.0057854, 0.0052531, 0.0045915, 0.0038168, 0.002948 ,\n",
    "        0.0020067, 0.0010158, 0.       ],\n",
    "       [0.       , 0.0014924, 0.002948 , 0.004331 , 0.0056073, 0.0067455,\n",
    "        0.0077175, 0.0084995, 0.0090722, 0.0094216, 0.009539 , 0.0094216,\n",
    "        0.0090722, 0.0084995, 0.0077175, 0.0067455, 0.0056073, 0.004331 ,\n",
    "        0.002948 , 0.0014924, 0.       ],\n",
    "       [0.       , 0.0019322, 0.0038168, 0.0056073, 0.0072597, 0.0087333,\n",
    "        0.0099918, 0.0110042, 0.0117457, 0.012198 , 0.01235  , 0.012198 ,\n",
    "        0.0117457, 0.0110042, 0.0099918, 0.0087333, 0.0072597, 0.0056073,\n",
    "        0.0038168, 0.0019322, 0.       ],\n",
    "       [0.       , 0.0023244, 0.0045915, 0.0067455, 0.0087333, 0.010506 ,\n",
    "        0.0120199, 0.0132379, 0.0141299, 0.014674 , 0.0148569, 0.014674 ,\n",
    "        0.0141299, 0.0132379, 0.0120199, 0.010506 , 0.0087333, 0.0067455,\n",
    "        0.0045915, 0.0023244, 0.       ],\n",
    "       [0.       , 0.0026593, 0.0052531, 0.0077175, 0.0099918, 0.0120199,\n",
    "        0.013752 , 0.0151455, 0.016166 , 0.0167886, 0.0169978, 0.0167886,\n",
    "        0.016166 , 0.0151455, 0.013752 , 0.0120199, 0.0099918, 0.0077175,\n",
    "        0.0052531, 0.0026593, 0.       ],\n",
    "       [0.       , 0.0029288, 0.0057854, 0.0084995, 0.0110042, 0.0132379,\n",
    "        0.0151455, 0.0166801, 0.0178041, 0.0184897, 0.0187201, 0.0184897,\n",
    "        0.0178041, 0.0166801, 0.0151455, 0.0132379, 0.0110042, 0.0084995,\n",
    "        0.0057854, 0.0029288, 0.       ],\n",
    "       [0.       , 0.0031261, 0.0061753, 0.0090722, 0.0117457, 0.0141299,\n",
    "        0.016166 , 0.0178041, 0.0190038, 0.0197356, 0.0199815, 0.0197356,\n",
    "        0.0190038, 0.0178041, 0.016166 , 0.0141299, 0.0117457, 0.0090722,\n",
    "        0.0061753, 0.0031261, 0.       ],\n",
    "       [0.       , 0.0032465, 0.0064131, 0.0094216, 0.012198 , 0.014674 ,\n",
    "        0.0167886, 0.0184897, 0.0197356, 0.0204956, 0.020751 , 0.0204956,\n",
    "        0.0197356, 0.0184897, 0.0167886, 0.014674 , 0.012198 , 0.0094216,\n",
    "        0.0064131, 0.0032465, 0.       ],\n",
    "       [0.       , 0.003287 , 0.006493 , 0.009539 , 0.01235  , 0.0148569,\n",
    "        0.0169978, 0.0187201, 0.0199815, 0.020751 , 0.0210096, 0.020751 ,\n",
    "        0.0199815, 0.0187201, 0.0169978, 0.0148569, 0.01235  , 0.009539 ,\n",
    "        0.006493 , 0.003287 , 0.       ],\n",
    "       [0.       , 0.0032465, 0.0064131, 0.0094216, 0.012198 , 0.014674 ,\n",
    "        0.0167886, 0.0184897, 0.0197356, 0.0204956, 0.020751 , 0.0204956,\n",
    "        0.0197356, 0.0184897, 0.0167886, 0.014674 , 0.012198 , 0.0094216,\n",
    "        0.0064131, 0.0032465, 0.       ],\n",
    "       [0.       , 0.0031261, 0.0061753, 0.0090722, 0.0117457, 0.0141299,\n",
    "        0.016166 , 0.0178041, 0.0190038, 0.0197356, 0.0199815, 0.0197356,\n",
    "        0.0190038, 0.0178041, 0.016166 , 0.0141299, 0.0117457, 0.0090722,\n",
    "        0.0061753, 0.0031261, 0.       ],\n",
    "       [0.       , 0.0029288, 0.0057854, 0.0084995, 0.0110042, 0.0132379,\n",
    "        0.0151455, 0.0166801, 0.0178041, 0.0184897, 0.0187201, 0.0184897,\n",
    "        0.0178041, 0.0166801, 0.0151455, 0.0132379, 0.0110042, 0.0084995,\n",
    "        0.0057854, 0.0029288, 0.       ],\n",
    "       [0.       , 0.0026593, 0.0052531, 0.0077175, 0.0099918, 0.0120199,\n",
    "        0.013752 , 0.0151455, 0.016166 , 0.0167886, 0.0169978, 0.0167886,\n",
    "        0.016166 , 0.0151455, 0.013752 , 0.0120199, 0.0099918, 0.0077175,\n",
    "        0.0052531, 0.0026593, 0.       ],\n",
    "       [0.       , 0.0023244, 0.0045915, 0.0067455, 0.0087333, 0.010506 ,\n",
    "        0.0120199, 0.0132379, 0.0141299, 0.014674 , 0.0148569, 0.014674 ,\n",
    "        0.0141299, 0.0132379, 0.0120199, 0.010506 , 0.0087333, 0.0067455,\n",
    "        0.0045915, 0.0023244, 0.       ],\n",
    "       [0.       , 0.0019322, 0.0038168, 0.0056073, 0.0072597, 0.0087333,\n",
    "        0.0099918, 0.0110042, 0.0117457, 0.012198 , 0.01235  , 0.012198 ,\n",
    "        0.0117457, 0.0110042, 0.0099918, 0.0087333, 0.0072597, 0.0056073,\n",
    "        0.0038168, 0.0019322, 0.       ],\n",
    "       [0.       , 0.0014924, 0.002948 , 0.004331 , 0.0056073, 0.0067455,\n",
    "        0.0077175, 0.0084995, 0.0090722, 0.0094216, 0.009539 , 0.0094216,\n",
    "        0.0090722, 0.0084995, 0.0077175, 0.0067455, 0.0056073, 0.004331 ,\n",
    "        0.002948 , 0.0014924, 0.       ],\n",
    "       [0.       , 0.0010158, 0.0020067, 0.002948 , 0.0038168, 0.0045915,\n",
    "        0.0052531, 0.0057854, 0.0061753, 0.0064131, 0.006493 , 0.0064131,\n",
    "        0.0061753, 0.0057854, 0.0052531, 0.0045915, 0.0038168, 0.002948 ,\n",
    "        0.0020067, 0.0010158, 0.       ],\n",
    "       [0.       , 0.0005143, 0.0010158, 0.0014924, 0.0019322, 0.0023244,\n",
    "        0.0026593, 0.0029288, 0.0031261, 0.0032465, 0.003287 , 0.0032465,\n",
    "        0.0031261, 0.0029288, 0.0026593, 0.0023244, 0.0019322, 0.0014924,\n",
    "        0.0010158, 0.0005143, 0.       ],\n",
    "       [0.       , 0.       , 0.       , 0.       , 0.       , 0.       ,\n",
    "        0.       , 0.       , 0.       , 0.       , 0.       , 0.       ,\n",
    "        0.       , 0.       , 0.       , 0.       , 0.       , 0.       ,\n",
    "        0.       , 0.       , 0.       ]])\n",
    "\n",
    "nt.assert_almost_equal(test, tans)\n",
    "print('Test case passed!!!')"
   ]
  },
  {
   "cell_type": "code",
   "execution_count": null,
   "metadata": {
    "deletable": false,
    "editable": false,
    "nbgrader": {
     "checksum": "88f7f6bccfc36e89886ed1c0137c09dd",
     "grade": true,
     "grade_id": "cell-7066fa5e938c026a",
     "locked": true,
     "points": 9,
     "schema_version": 1,
     "solution": false
    }
   },
   "outputs": [],
   "source": [
    "# Hidden test\n",
    "# No output will be produced\n",
    "# 9 marks"
   ]
  },
  {
   "cell_type": "markdown",
   "metadata": {
    "deletable": false,
    "editable": false,
    "nbgrader": {
     "checksum": "f4efcff1d93ed574a46bbc32787d970d",
     "grade": false,
     "grade_id": "cell-fae39fa982bbfa69",
     "locked": true,
     "schema_version": 1,
     "solution": false
    }
   },
   "source": [
    "## Question 4\n",
    "\n",
    "Now redo Question 1, however, this time implementing the ADI scheme. \n",
    "\n",
    "**Note:** Compare the runtimes of the explicit, implicit and ADI schemes."
   ]
  },
  {
   "cell_type": "code",
   "execution_count": null,
   "metadata": {
    "deletable": false,
    "nbgrader": {
     "checksum": "7377e11959bdafbff98b505fa6d3822f",
     "grade": false,
     "grade_id": "cell-a2de25dfde860efd",
     "locked": false,
     "schema_version": 1,
     "solution": true
    }
   },
   "outputs": [],
   "source": [
    "def heat2D_ADI(dx, dy, dt, D, N):\n",
    "    # YOUR CODE HERE\n",
    "    raise NotImplementedError()"
   ]
  },
  {
   "cell_type": "code",
   "execution_count": null,
   "metadata": {
    "deletable": false,
    "editable": false,
    "nbgrader": {
     "checksum": "1a32fe9938e2a18514cad514358d3ba8",
     "grade": true,
     "grade_id": "cell-e400ece196d96f79",
     "locked": true,
     "points": 1,
     "schema_version": 1,
     "solution": false
    }
   },
   "outputs": [],
   "source": [
    "# Run this test cell to check your code\n",
    "# Do not delete this cell\n",
    "# 1 mark\n",
    "# Unit test\n",
    "\n",
    "dx = 0.1\n",
    "dy = 0.1\n",
    "dt = 0.1\n",
    "D  = 1\n",
    "N  = 10\n",
    "test = heat2D_ADI(dx, dy, dt, D, N)[:, :, 0]\n",
    "tans = np.array([[0.       , 0.       , 0.       , 0.       , 0.       , 0.       ,\n",
    "        0.       , 0.       , 0.       , 0.       , 0.       , 0.       ,\n",
    "        0.       , 0.       , 0.       , 0.       , 0.       , 0.       ,\n",
    "        0.       , 0.       , 0.       ],\n",
    "       [0.       , 0.1978987, 0.2345703, 0.2725318, 0.3103669, 0.3464558,\n",
    "        0.379083 , 0.4065697, 0.4274149, 0.4404317, 0.4448581, 0.4404317,\n",
    "        0.4274149, 0.4065697, 0.379083 , 0.3464558, 0.3103669, 0.2725318,\n",
    "        0.2345703, 0.1978987, 0.       ],\n",
    "       [0.       , 0.2345703, 0.2780373, 0.3230333, 0.3678794, 0.4106558,\n",
    "        0.449329 , 0.481909 , 0.506617 , 0.5220458, 0.5272924, 0.5220458,\n",
    "        0.506617 , 0.481909 , 0.449329 , 0.4106558, 0.3678794, 0.3230333,\n",
    "        0.2780373, 0.2345703, 0.       ],\n",
    "       [0.       , 0.2725318, 0.3230333, 0.3753111, 0.4274149, 0.4771139,\n",
    "        0.5220458, 0.5598984, 0.588605 , 0.6065307, 0.6126264, 0.6065307,\n",
    "        0.588605 , 0.5598984, 0.5220458, 0.4771139, 0.4274149, 0.3753111,\n",
    "        0.3230333, 0.2725318, 0.       ],\n",
    "       [0.       , 0.3103669, 0.3678794, 0.4274149, 0.4867523, 0.5433509,\n",
    "        0.5945205, 0.6376282, 0.67032  , 0.6907343, 0.6976763, 0.6907343,\n",
    "        0.67032  , 0.6376282, 0.5945205, 0.5433509, 0.4867523, 0.4274149,\n",
    "        0.3678794, 0.3103669, 0.       ],\n",
    "       [0.       , 0.3464558, 0.4106558, 0.4771139, 0.5433509, 0.6065307,\n",
    "        0.6636503, 0.7117703, 0.7482636, 0.7710516, 0.7788008, 0.7710516,\n",
    "        0.7482636, 0.7117703, 0.6636503, 0.6065307, 0.5433509, 0.4771139,\n",
    "        0.4106558, 0.3464558, 0.       ],\n",
    "       [0.       , 0.379083 , 0.449329 , 0.5220458, 0.5945205, 0.6636503,\n",
    "        0.726149 , 0.7788008, 0.8187308, 0.8436648, 0.8521438, 0.8436648,\n",
    "        0.8187308, 0.7788008, 0.726149 , 0.6636503, 0.5945205, 0.5220458,\n",
    "        0.449329 , 0.379083 , 0.       ],\n",
    "       [0.       , 0.4065697, 0.481909 , 0.5598984, 0.6376282, 0.7117703,\n",
    "        0.7788008, 0.8352702, 0.8780954, 0.9048374, 0.9139312, 0.9048374,\n",
    "        0.8780954, 0.8352702, 0.7788008, 0.7117703, 0.6376282, 0.5598984,\n",
    "        0.481909 , 0.4065697, 0.       ],\n",
    "       [0.       , 0.4274149, 0.506617 , 0.588605 , 0.67032  , 0.7482636,\n",
    "        0.8187308, 0.8780954, 0.9231163, 0.9512294, 0.9607894, 0.9512294,\n",
    "        0.9231163, 0.8780954, 0.8187308, 0.7482636, 0.67032  , 0.588605 ,\n",
    "        0.506617 , 0.4274149, 0.       ],\n",
    "       [0.       , 0.4404317, 0.5220458, 0.6065307, 0.6907343, 0.7710516,\n",
    "        0.8436648, 0.9048374, 0.9512294, 0.9801987, 0.9900498, 0.9801987,\n",
    "        0.9512294, 0.9048374, 0.8436648, 0.7710516, 0.6907343, 0.6065307,\n",
    "        0.5220458, 0.4404317, 0.       ],\n",
    "       [0.       , 0.4448581, 0.5272924, 0.6126264, 0.6976763, 0.7788008,\n",
    "        0.8521438, 0.9139312, 0.9607894, 0.9900498, 1.       , 0.9900498,\n",
    "        0.9607894, 0.9139312, 0.8521438, 0.7788008, 0.6976763, 0.6126264,\n",
    "        0.5272924, 0.4448581, 0.       ],\n",
    "       [0.       , 0.4404317, 0.5220458, 0.6065307, 0.6907343, 0.7710516,\n",
    "        0.8436648, 0.9048374, 0.9512294, 0.9801987, 0.9900498, 0.9801987,\n",
    "        0.9512294, 0.9048374, 0.8436648, 0.7710516, 0.6907343, 0.6065307,\n",
    "        0.5220458, 0.4404317, 0.       ],\n",
    "       [0.       , 0.4274149, 0.506617 , 0.588605 , 0.67032  , 0.7482636,\n",
    "        0.8187308, 0.8780954, 0.9231163, 0.9512294, 0.9607894, 0.9512294,\n",
    "        0.9231163, 0.8780954, 0.8187308, 0.7482636, 0.67032  , 0.588605 ,\n",
    "        0.506617 , 0.4274149, 0.       ],\n",
    "       [0.       , 0.4065697, 0.481909 , 0.5598984, 0.6376282, 0.7117703,\n",
    "        0.7788008, 0.8352702, 0.8780954, 0.9048374, 0.9139312, 0.9048374,\n",
    "        0.8780954, 0.8352702, 0.7788008, 0.7117703, 0.6376282, 0.5598984,\n",
    "        0.481909 , 0.4065697, 0.       ],\n",
    "       [0.       , 0.379083 , 0.449329 , 0.5220458, 0.5945205, 0.6636503,\n",
    "        0.726149 , 0.7788008, 0.8187308, 0.8436648, 0.8521438, 0.8436648,\n",
    "        0.8187308, 0.7788008, 0.726149 , 0.6636503, 0.5945205, 0.5220458,\n",
    "        0.449329 , 0.379083 , 0.       ],\n",
    "       [0.       , 0.3464558, 0.4106558, 0.4771139, 0.5433509, 0.6065307,\n",
    "        0.6636503, 0.7117703, 0.7482636, 0.7710516, 0.7788008, 0.7710516,\n",
    "        0.7482636, 0.7117703, 0.6636503, 0.6065307, 0.5433509, 0.4771139,\n",
    "        0.4106558, 0.3464558, 0.       ],\n",
    "       [0.       , 0.3103669, 0.3678794, 0.4274149, 0.4867523, 0.5433509,\n",
    "        0.5945205, 0.6376282, 0.67032  , 0.6907343, 0.6976763, 0.6907343,\n",
    "        0.67032  , 0.6376282, 0.5945205, 0.5433509, 0.4867523, 0.4274149,\n",
    "        0.3678794, 0.3103669, 0.       ],\n",
    "       [0.       , 0.2725318, 0.3230333, 0.3753111, 0.4274149, 0.4771139,\n",
    "        0.5220458, 0.5598984, 0.588605 , 0.6065307, 0.6126264, 0.6065307,\n",
    "        0.588605 , 0.5598984, 0.5220458, 0.4771139, 0.4274149, 0.3753111,\n",
    "        0.3230333, 0.2725318, 0.       ],\n",
    "       [0.       , 0.2345703, 0.2780373, 0.3230333, 0.3678794, 0.4106558,\n",
    "        0.449329 , 0.481909 , 0.506617 , 0.5220458, 0.5272924, 0.5220458,\n",
    "        0.506617 , 0.481909 , 0.449329 , 0.4106558, 0.3678794, 0.3230333,\n",
    "        0.2780373, 0.2345703, 0.       ],\n",
    "       [0.       , 0.1978987, 0.2345703, 0.2725318, 0.3103669, 0.3464558,\n",
    "        0.379083 , 0.4065697, 0.4274149, 0.4404317, 0.4448581, 0.4404317,\n",
    "        0.4274149, 0.4065697, 0.379083 , 0.3464558, 0.3103669, 0.2725318,\n",
    "        0.2345703, 0.1978987, 0.       ],\n",
    "       [0.       , 0.       , 0.       , 0.       , 0.       , 0.       ,\n",
    "        0.       , 0.       , 0.       , 0.       , 0.       , 0.       ,\n",
    "        0.       , 0.       , 0.       , 0.       , 0.       , 0.       ,\n",
    "        0.       , 0.       , 0.       ]])\n",
    "nt.assert_almost_equal(test, tans)\n",
    "print('Test case passed!!!')"
   ]
  },
  {
   "cell_type": "code",
   "execution_count": null,
   "metadata": {
    "deletable": false,
    "editable": false,
    "nbgrader": {
     "checksum": "0cd960df2cceed5f25af8a34b6880d2c",
     "grade": true,
     "grade_id": "cell-bf8008ab4eac94e8",
     "locked": true,
     "points": 9,
     "schema_version": 1,
     "solution": false
    }
   },
   "outputs": [],
   "source": [
    "# Hidden test\n",
    "# No output will be produced\n",
    "# 9 marks"
   ]
  },
  {
   "cell_type": "markdown",
   "metadata": {
    "deletable": false,
    "editable": false,
    "nbgrader": {
     "checksum": "d7c51c2f1c49a556ceef19b72234384b",
     "grade": false,
     "grade_id": "cell-ab71ff5e84c4ea5d",
     "locked": true,
     "schema_version": 1,
     "solution": false
    }
   },
   "source": [
    "## Question 5 \n",
    "\n",
    "Make a 3D simulation/movie of the solutions obtained in Question 4.\n"
   ]
  },
  {
   "cell_type": "code",
   "execution_count": null,
   "metadata": {
    "deletable": false,
    "nbgrader": {
     "checksum": "a731581245bc73430cce7ead47b51350",
     "grade": true,
     "grade_id": "cell-a4b3af3f3297ef48",
     "locked": false,
     "points": 5,
     "schema_version": 1,
     "solution": true
    }
   },
   "outputs": [],
   "source": [
    "# YOUR CODE HERE\n",
    "raise NotImplementedError()"
   ]
  }
 ],
 "metadata": {
  "kernelspec": {
   "display_name": "Python 3",
   "language": "python",
   "name": "python3"
  },
  "language_info": {
   "codemirror_mode": {
    "name": "ipython",
    "version": 3
   },
   "file_extension": ".py",
   "mimetype": "text/x-python",
   "name": "python",
   "nbconvert_exporter": "python",
   "pygments_lexer": "ipython3",
   "version": "3.7.4"
  },
  "latex_envs": {
   "LaTeX_envs_menu_present": true,
   "autoclose": false,
   "autocomplete": false,
   "bibliofile": "biblio.bib",
   "cite_by": "apalike",
   "current_citInitial": 1,
   "eqLabelWithNumbers": true,
   "eqNumInitial": 1,
   "hotkeys": {
    "equation": "Ctrl-E",
    "itemize": "Ctrl-I"
   },
   "labels_anchors": false,
   "latex_user_defs": false,
   "report_style_numbering": false,
   "user_envs_cfg": false
  },
  "varInspector": {
   "cols": {
    "lenName": 16,
    "lenType": 16,
    "lenVar": 40
   },
   "kernels_config": {
    "python": {
     "delete_cmd_postfix": "",
     "delete_cmd_prefix": "del ",
     "library": "var_list.py",
     "varRefreshCmd": "print(var_dic_list())"
    },
    "r": {
     "delete_cmd_postfix": ") ",
     "delete_cmd_prefix": "rm(",
     "library": "var_list.r",
     "varRefreshCmd": "cat(var_dic_list()) "
    }
   },
   "types_to_exclude": [
    "module",
    "function",
    "builtin_function_or_method",
    "instance",
    "_Feature"
   ],
   "window_display": false
  }
 },
 "nbformat": 4,
 "nbformat_minor": 4
}
