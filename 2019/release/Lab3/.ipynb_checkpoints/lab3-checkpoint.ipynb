{
 "cells": [
  {
   "cell_type": "code",
   "execution_count": null,
   "metadata": {},
   "outputs": [],
   "source": [
    "# Initialisation Cell\n",
    "# You should always put imported modules here\n",
    "from math import *\n",
    "import numpy as np\n",
    "import numpy.testing as nt\n",
    "import numpy.linalg as LA\n",
    "from matplotlib import pyplot as plt\n",
    "import seaborn as sns\n",
    "#sns.set_style('dark', {'figure.facecolor': '(0,0,0,0)'}) \n",
    "sns.set(style=\"darkgrid\")\n",
    "plt.rcParams['figure.figsize'] = [8, 5]\n",
    "plt.rcParams['figure.dpi'] = 100\n",
    "np.set_printoptions(suppress=True, precision=7)"
   ]
  },
  {
   "cell_type": "markdown",
   "metadata": {
    "deletable": false,
    "editable": false,
    "nbgrader": {
     "checksum": "7569806f6163b91532d0565e31461dd7",
     "grade": false,
     "grade_id": "cell-dd8cafc585ca3b52",
     "locked": true,
     "schema_version": 1,
     "solution": false
    }
   },
   "source": [
    "# CDES Honours - Lab 3\n",
    "\n",
    "\n",
    "## Instructions\n",
    "\n",
    "* Read all the instructions carefully.\n",
    "* Do not rename the notebook, simply answer the questions and resubmit the file to Moodle.\n",
    "* **Numpy** has a help file for every function if you get stuck. See: https://docs.scipy.org/doc/numpy-1.15.4/reference/\n",
    "* See these useful links:\n",
    "    * https://docs.scipy.org/doc/numpy/user/numpy-for-matlab-users.html\n",
    "    * https://docs.scipy.org/doc/numpy/user/quickstart.html\n",
    "* **Numpy** is not always required.\n",
    "* There are also numerous sources available on the internet, Google is your friend!"
   ]
  },
  {
   "cell_type": "markdown",
   "metadata": {
    "deletable": false,
    "editable": false,
    "nbgrader": {
     "checksum": "45c7e29364a458d733c80344db02db55",
     "grade": false,
     "grade_id": "cell-79c73cc18162403f",
     "locked": true,
     "schema_version": 1,
     "solution": false
    }
   },
   "source": [
    "## Warmup Exercises\n",
    "\n",
    "Complete the following problems:\n",
    "\n",
    "## Question 1\n",
    "\n",
    "Write a function that takes in a integer `n`. The function should determine the number of divisors occuring within the integer. For example, if in the integer was `12`, then both `1` and `2` are perfect divisors of `12` and thus the function should return `2`.\n"
   ]
  },
  {
   "cell_type": "code",
   "execution_count": null,
   "metadata": {
    "deletable": false,
    "nbgrader": {
     "checksum": "66f3768b266d04999451cd85337be203",
     "grade": false,
     "grade_id": "cell-d71c439ecc75f74b",
     "locked": false,
     "schema_version": 1,
     "solution": true
    }
   },
   "outputs": [],
   "source": [
    "def intDivsor(n):\n",
    "    # YOUR CODE HERE\n",
    "    raise NotImplementedError()"
   ]
  },
  {
   "cell_type": "code",
   "execution_count": null,
   "metadata": {
    "deletable": false,
    "editable": false,
    "nbgrader": {
     "checksum": "e8ae0a32eebc6e57cb08126bfd1c6663",
     "grade": true,
     "grade_id": "cell-f77e8f65cb9806ae",
     "locked": true,
     "points": 1,
     "schema_version": 1,
     "solution": false
    }
   },
   "outputs": [],
   "source": [
    "# Run this test cell to check your code\n",
    "# Do not delete this cell\n",
    "# 1 mark\n",
    "# Unit test\n",
    "test = 12\n",
    "assert(intDivsor(test) == 2)\n",
    "print('Test case passed!!!')"
   ]
  },
  {
   "cell_type": "code",
   "execution_count": null,
   "metadata": {
    "deletable": false,
    "editable": false,
    "nbgrader": {
     "checksum": "0519788471c7e96239f55efa40a16016",
     "grade": true,
     "grade_id": "cell-d141059f1b617cb1",
     "locked": true,
     "points": 2,
     "schema_version": 1,
     "solution": false
    }
   },
   "outputs": [],
   "source": [
    "# Hidden test\n",
    "# No output will be produced\n",
    "# 2 marks"
   ]
  },
  {
   "cell_type": "code",
   "execution_count": null,
   "metadata": {
    "deletable": false,
    "editable": false,
    "nbgrader": {
     "checksum": "3e1d44a5cb63384c61128a979d7af864",
     "grade": true,
     "grade_id": "cell-a0e655bf715aa805",
     "locked": true,
     "points": 2,
     "schema_version": 1,
     "solution": false
    }
   },
   "outputs": [],
   "source": [
    "# Hidden test\n",
    "# No output will be produced\n",
    "# 2 marks"
   ]
  },
  {
   "cell_type": "markdown",
   "metadata": {
    "deletable": false,
    "editable": false,
    "nbgrader": {
     "checksum": "5732d8788aee2f34bafcab94684b9d3d",
     "grade": false,
     "grade_id": "cell-03807a045ea2bca1",
     "locked": true,
     "schema_version": 1,
     "solution": false
    }
   },
   "source": [
    "## Question 2\n",
    "\n",
    "Write a function that takes in a list of integers, $p(1), p(2), \\ldots, p(n)$, where each element is distinct and satisfies $1 \\leq p(x) \\leq n$. For each $x$ where $1 \\leq x \\leq n$. The function should find the integer $y$ such that $p(p(y)) = x$ and return the appropriate list. For example, given `p = [5, 2, 1, 3, 4]`, each value of $x$ between 1 and 5 is found as follows:\n",
    "\n",
    "1. $x = 1 = p(3)$, $p(4) = 3$, $\\Rightarrow p(p(4)) = 1$\n",
    "2. $x = 2 = p(2)$, $p(2) = 2$, $\\Rightarrow p(p(4)) = 2$\n",
    "3. $x = 3 = p(4)$, $p(5) = 4$, $\\Rightarrow p(p(4)) = 3$\n",
    "4. $x = 4 = p(5)$, $p(1) = 5$, $\\Rightarrow p(p(4)) = 4$\n",
    "5. $x = 5 = p(1)$, $p(3) = 1$, $\\Rightarrow p(p(4)) = 5$\n",
    "\n",
    "Therefore, the function should return the list `[4, 2, 5, 1, 3]`."
   ]
  },
  {
   "cell_type": "code",
   "execution_count": null,
   "metadata": {
    "deletable": false,
    "nbgrader": {
     "checksum": "40a2fc67be0c782e1f892104ba19b69f",
     "grade": false,
     "grade_id": "cell-11aab327406194a5",
     "locked": false,
     "schema_version": 1,
     "solution": true
    }
   },
   "outputs": [],
   "source": [
    "def sequenceExplore(p):\n",
    "    # YOUR CODE HERE\n",
    "    raise NotImplementedError()"
   ]
  },
  {
   "cell_type": "code",
   "execution_count": null,
   "metadata": {
    "deletable": false,
    "editable": false,
    "nbgrader": {
     "checksum": "a2804c529d9c705bb07a167931097e7b",
     "grade": true,
     "grade_id": "cell-124de6e2b4e75bdb",
     "locked": true,
     "points": 1,
     "schema_version": 1,
     "solution": false
    }
   },
   "outputs": [],
   "source": [
    "# Run this test cell to check your code\n",
    "# Do not delete this cell\n",
    "# 1 mark\n",
    "# Unit test\n",
    "test = [5, 2, 1, 3, 4]\n",
    "assert(sequenceExplore(test) == [4, 2, 5, 1, 3])\n",
    "print('Test case passed!!!')"
   ]
  },
  {
   "cell_type": "code",
   "execution_count": null,
   "metadata": {
    "deletable": false,
    "editable": false,
    "nbgrader": {
     "checksum": "7bf5105724002ab167c0b29e84733f2c",
     "grade": true,
     "grade_id": "cell-55074958c9088317",
     "locked": true,
     "points": 2,
     "schema_version": 1,
     "solution": false
    }
   },
   "outputs": [],
   "source": [
    "# Hidden test\n",
    "# No output will be produced\n",
    "# 2 marks"
   ]
  },
  {
   "cell_type": "code",
   "execution_count": null,
   "metadata": {
    "deletable": false,
    "editable": false,
    "nbgrader": {
     "checksum": "c24d3792ec9d9575e8281479a262087f",
     "grade": true,
     "grade_id": "cell-6a982265ae4dea37",
     "locked": true,
     "points": 2,
     "schema_version": 1,
     "solution": false
    }
   },
   "outputs": [],
   "source": [
    "# Hidden test\n",
    "# No output will be produced\n",
    "# 2 marks"
   ]
  },
  {
   "cell_type": "markdown",
   "metadata": {
    "deletable": false,
    "editable": false,
    "nbgrader": {
     "checksum": "d52974d32dbb789815f7ea8dbf53b76b",
     "grade": false,
     "grade_id": "cell-429c99eedce5b3fd",
     "locked": true,
     "schema_version": 1,
     "solution": false
    }
   },
   "source": [
    "## Question 2\n",
    "\n",
    "Write a function that calculates the growth of a tree over time. Specifically, this species of tree goes through 2 cycles of growth per year. Each spring the tree doubles in height, and in winter only grows 1 meter. Given that a tree is planted in spring with a starting height of 1 meter, compute the height of the tree after `n` growth cycles.\n"
   ]
  },
  {
   "cell_type": "code",
   "execution_count": null,
   "metadata": {
    "deletable": false,
    "nbgrader": {
     "checksum": "9cc47080c623fade9e1422c5a93ba7f8",
     "grade": false,
     "grade_id": "cell-ec4e52698980d30a",
     "locked": false,
     "schema_version": 1,
     "solution": true
    }
   },
   "outputs": [],
   "source": [
    "def treeScaling(n):\n",
    "    # YOUR CODE HERE\n",
    "    raise NotImplementedError()\n"
   ]
  },
  {
   "cell_type": "code",
   "execution_count": null,
   "metadata": {
    "deletable": false,
    "editable": false,
    "nbgrader": {
     "checksum": "5e8e3c499e716239a69ee79e7cf28eaf",
     "grade": true,
     "grade_id": "cell-9254fa3f3ec1cfeb",
     "locked": true,
     "points": 1,
     "schema_version": 1,
     "solution": false
    }
   },
   "outputs": [],
   "source": [
    "# Run this test cell to check your code\n",
    "# Do not delete this cell\n",
    "# 1 mark\n",
    "# Unit test\n",
    "test = 5\n",
    "assert(treeScaling(test) == 14)\n",
    "print('Test case passed!!!')"
   ]
  },
  {
   "cell_type": "code",
   "execution_count": null,
   "metadata": {
    "deletable": false,
    "editable": false,
    "nbgrader": {
     "checksum": "8fea79a5524b77b6d685583121a42a9f",
     "grade": true,
     "grade_id": "cell-77786a5c21b08b06",
     "locked": true,
     "points": 2,
     "schema_version": 1,
     "solution": false
    }
   },
   "outputs": [],
   "source": [
    "# Hidden test\n",
    "# No output will be produced\n",
    "# 2 marks"
   ]
  },
  {
   "cell_type": "code",
   "execution_count": null,
   "metadata": {
    "deletable": false,
    "editable": false,
    "nbgrader": {
     "checksum": "d07beac28650133d877b237019626e7b",
     "grade": true,
     "grade_id": "cell-c413ce12594e5082",
     "locked": true,
     "points": 2,
     "schema_version": 1,
     "solution": false
    }
   },
   "outputs": [],
   "source": [
    "# Hidden test\n",
    "# No output will be produced\n",
    "# 2 marks"
   ]
  },
  {
   "cell_type": "markdown",
   "metadata": {
    "deletable": false,
    "editable": false,
    "nbgrader": {
     "checksum": "1d51efcbb6e3decb6ec0e4b06e5f85cc",
     "grade": false,
     "grade_id": "cell-3624c8bfef8cecf2",
     "locked": true,
     "schema_version": 1,
     "solution": false
    }
   },
   "source": [
    "## Main Exercises\n",
    "\n",
    "Complete the following problems:\n",
    "\n",
    "## Question 1\n",
    "\n",
    "Write a function implements a finite difference scheme to solve the partial differetial equation below. Specifically, the function should implement a Crank-Nicolson scheme. It should take as inputs a time step `dt`, a spatial step `dx`, a number of iterations to march forward in time `N`, the coefficient `D`, and an initial function `f` passed as a handle and Dirichlet boundary conditions `alpha` and `beta`. The function should output the solution space matrix `u`. The PDE is given below:\n",
    "\n",
    "$$v_t = D v_{xx},$$\n",
    "\n",
    "$$\\text{BC}: v(0, t) = \\alpha = v(1, t) = \\beta = 0;\\quad\\text{IC}: v(x, 0) = f(x); \\quad t > 0, \\ x \\in [0, 1]$$"
   ]
  },
  {
   "cell_type": "code",
   "execution_count": null,
   "metadata": {
    "deletable": false,
    "nbgrader": {
     "checksum": "76c0800df558af91e5db82b0dadfbd2a",
     "grade": false,
     "grade_id": "cell-2e07bb46c2451706",
     "locked": false,
     "schema_version": 1,
     "solution": true
    }
   },
   "outputs": [],
   "source": [
    "def crankNicolson(dt, dx, N, f, D, alpha, beta):\n",
    "    # YOUR CODE HERE\n",
    "    raise NotImplementedError()"
   ]
  },
  {
   "cell_type": "code",
   "execution_count": null,
   "metadata": {
    "deletable": false,
    "editable": false,
    "nbgrader": {
     "checksum": "ba9dae5d01396a6a10dd27ced209fa5c",
     "grade": true,
     "grade_id": "cell-347b5f26c968eadc",
     "locked": true,
     "points": 1,
     "schema_version": 1,
     "solution": false
    }
   },
   "outputs": [],
   "source": [
    "# Run this test cell to check your code\n",
    "# Do not delete this cell\n",
    "# 1 mark\n",
    "# Unit test\n",
    "D     = 1\n",
    "dx    = 0.05\n",
    "dt    = (dx**2)/(4*D)\n",
    "alpha = 0\n",
    "beta  = 0\n",
    "f     = lambda x: np.exp(-100*(x - 0.5)**2) \n",
    "N     = 10\n",
    "tans  = np.array( [0.          , 0.0000000016, 0.0000001125, 0.0000047851,\n",
    "                   0.0001234098, 0.0019304541, 0.0183156389, 0.1053992246,\n",
    "                   0.3678794412, 0.7788007831, 1.          , 0.7788007831,\n",
    "                   0.3678794412, 0.1053992246, 0.0183156389, 0.0019304541,\n",
    "                   0.0001234098, 0.0000047851, 0.0000001125, 0.0000000016,\n",
    "                   0.          ])\n",
    "ans   = crankNicolson(dt, dx, N, f, D, alpha, beta)\n",
    "nt.assert_array_almost_equal(tans, ans[0])\n",
    "print('Test case passed!!!')"
   ]
  },
  {
   "cell_type": "code",
   "execution_count": null,
   "metadata": {
    "deletable": false,
    "editable": false,
    "nbgrader": {
     "checksum": "01de761ee5e46ba5e5f974b71edda3b0",
     "grade": true,
     "grade_id": "cell-2f2454e7a0c0acfe",
     "locked": true,
     "points": 1,
     "schema_version": 1,
     "solution": false
    }
   },
   "outputs": [],
   "source": [
    "# Run this test cell to check your code\n",
    "# Do not delete this cell\n",
    "# 1 mark\n",
    "# Unit test\n",
    "D     = 1\n",
    "dx    = 0.05\n",
    "dt    = (dx**2)/(4*D)\n",
    "alpha = 0\n",
    "beta  = 0\n",
    "f     = lambda x: np.exp(-100*(x - 0.5)**2) \n",
    "N     = 10\n",
    "tans  = np.array( [0.          , 0.0019064527, 0.0061716818, 0.0167692648,\n",
    "                   0.0406427189, 0.0876029261, 0.1665959209, 0.277337753 ,\n",
    "                   0.4013713724, 0.5022251969, 0.5414110658, 0.5022251969,\n",
    "                   0.4013713724, 0.277337753 , 0.1665959209, 0.0876029261,\n",
    "                   0.0406427189, 0.0167692648, 0.0061716818, 0.0019064527,\n",
    "                   0.          ])\n",
    "ans   = crankNicolson(dt, dx, N, f, D, alpha, beta)\n",
    "nt.assert_array_almost_equal(tans, ans[-1])\n",
    "print('Test case passed!!!')"
   ]
  },
  {
   "cell_type": "code",
   "execution_count": null,
   "metadata": {
    "deletable": false,
    "editable": false,
    "nbgrader": {
     "checksum": "a2c9e3ad5d88df8170a8ecc1d93afae5",
     "grade": true,
     "grade_id": "cell-7df8b9c44226847f",
     "locked": true,
     "points": 13,
     "schema_version": 1,
     "solution": false
    }
   },
   "outputs": [],
   "source": [
    "# Hidden test\n",
    "# No output will be produced\n",
    "# 2 marks"
   ]
  }
 ],
 "metadata": {
  "kernelspec": {
   "display_name": "Python 3",
   "language": "python",
   "name": "python3"
  },
  "language_info": {
   "codemirror_mode": {
    "name": "ipython",
    "version": 3
   },
   "file_extension": ".py",
   "mimetype": "text/x-python",
   "name": "python",
   "nbconvert_exporter": "python",
   "pygments_lexer": "ipython3",
   "version": "3.7.4"
  },
  "latex_envs": {
   "LaTeX_envs_menu_present": true,
   "autoclose": false,
   "autocomplete": false,
   "bibliofile": "biblio.bib",
   "cite_by": "apalike",
   "current_citInitial": 1,
   "eqLabelWithNumbers": true,
   "eqNumInitial": 1,
   "hotkeys": {
    "equation": "Ctrl-E",
    "itemize": "Ctrl-I"
   },
   "labels_anchors": false,
   "latex_user_defs": false,
   "report_style_numbering": false,
   "user_envs_cfg": false
  },
  "varInspector": {
   "cols": {
    "lenName": 16,
    "lenType": 16,
    "lenVar": 40
   },
   "kernels_config": {
    "python": {
     "delete_cmd_postfix": "",
     "delete_cmd_prefix": "del ",
     "library": "var_list.py",
     "varRefreshCmd": "print(var_dic_list())"
    },
    "r": {
     "delete_cmd_postfix": ") ",
     "delete_cmd_prefix": "rm(",
     "library": "var_list.r",
     "varRefreshCmd": "cat(var_dic_list()) "
    }
   },
   "types_to_exclude": [
    "module",
    "function",
    "builtin_function_or_method",
    "instance",
    "_Feature"
   ],
   "window_display": false
  }
 },
 "nbformat": 4,
 "nbformat_minor": 2
}
