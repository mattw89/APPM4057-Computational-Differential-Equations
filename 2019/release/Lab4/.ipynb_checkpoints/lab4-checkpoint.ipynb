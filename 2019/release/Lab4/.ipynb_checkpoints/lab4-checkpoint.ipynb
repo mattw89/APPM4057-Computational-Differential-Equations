{
 "cells": [
  {
   "cell_type": "code",
   "execution_count": null,
   "metadata": {},
   "outputs": [],
   "source": [
    "# Initialisation Cell\n",
    "# You should always put imported modules here\n",
    "from math import *\n",
    "import numpy as np\n",
    "import numpy.testing as nt\n",
    "import numpy.linalg as LA\n",
    "from matplotlib import pyplot as plt\n",
    "import seaborn as sns\n",
    "#sns.set_style('dark', {'figure.facecolor': '(0,0,0,0)'}) \n",
    "sns.set(style=\"darkgrid\")\n",
    "plt.rcParams['figure.figsize'] = [8, 5]\n",
    "plt.rcParams['figure.dpi'] = 100\n",
    "np.set_printoptions(suppress=True, precision=7)\n",
    "import warnings\n",
    "warnings.filterwarnings('ignore')"
   ]
  },
  {
   "cell_type": "markdown",
   "metadata": {
    "deletable": false,
    "editable": false,
    "nbgrader": {
     "checksum": "738038de69231ef472d567ad8a70f7c1",
     "grade": false,
     "grade_id": "cell-11efc92f0d7cbebb",
     "locked": true,
     "schema_version": 1,
     "solution": false
    }
   },
   "source": [
    "# CDES Honours - Lab 4\n",
    "\n",
    "\n",
    "## Instructions\n",
    "\n",
    "* Read all the instructions carefully.\n",
    "* Do not rename the notebook, simply answer the questions and resubmit the file to Moodle.\n",
    "* **Numpy** has a help file for every function if you get stuck. See: https://docs.scipy.org/doc/numpy-1.15.4/reference/\n",
    "* See these useful links:\n",
    "    * https://docs.scipy.org/doc/numpy/user/numpy-for-matlab-users.html\n",
    "    * https://docs.scipy.org/doc/numpy/user/quickstart.html\n",
    "* **Numpy** is not always required.\n",
    "* There are also numerous sources available on the internet, Google is your friend!"
   ]
  },
  {
   "cell_type": "markdown",
   "metadata": {
    "deletable": false,
    "editable": false,
    "nbgrader": {
     "checksum": "04d4eb5828f9a73c379255ec04be4961",
     "grade": false,
     "grade_id": "cell-04ace423c42dcee9",
     "locked": true,
     "schema_version": 1,
     "solution": false
    }
   },
   "source": [
    "## Warmup Exercises\n",
    "\n",
    "Complete the following problems:\n",
    "\n",
    "## Question 1\n",
    "\n",
    "Given a $6 \\times 6$ matrix `mat`, for example:\n",
    "```\n",
    "1 1 1 0 0 0\n",
    "0 1 0 0 0 0\n",
    "1 1 1 0 0 0\n",
    "0 0 0 0 0 0\n",
    "0 0 0 0 0 0\n",
    "0 0 0 0 0 0\n",
    "```\n",
    "We can define an hourglass `A` to be a subset of values with indices falling in this pattern in `mat`'s graphical representation, i.e:\n",
    "```\n",
    "a b c\n",
    "  d\n",
    "e f g\n",
    "```\n",
    "Continuing with this example, there are 16 hourglasses of the form above in initial `mat` given. The hourglass sum, is the sum of all of the hourglass's values. Write a function that takes in any matrix `mat` ($\\forall\\ \\mathbb{z}$) and calculates the maximum hourglass sum within `mat`.\n",
    "\n"
   ]
  },
  {
   "cell_type": "code",
   "execution_count": null,
   "metadata": {
    "deletable": false,
    "nbgrader": {
     "checksum": "e2c4e269f7d44746bf93863f1b5e0cf5",
     "grade": false,
     "grade_id": "cell-70e910fd8da22c87",
     "locked": false,
     "schema_version": 1,
     "solution": true
    }
   },
   "outputs": [],
   "source": [
    "def hourglass(mat):\n",
    "    # YOUR CODE HERE\n",
    "    raise NotImplementedError()"
   ]
  },
  {
   "cell_type": "code",
   "execution_count": null,
   "metadata": {
    "deletable": false,
    "editable": false,
    "nbgrader": {
     "checksum": "7699c8a66cb1502ced3e9147c181f5a6",
     "grade": true,
     "grade_id": "cell-9ef45eb345a400c4",
     "locked": true,
     "points": 1,
     "schema_version": 1,
     "solution": false
    }
   },
   "outputs": [],
   "source": [
    "# Run this test cell to check your code\n",
    "# Do not delete this cell\n",
    "# 1 mark\n",
    "# Unit test\n",
    "mat =  [[1, 1, 1, 0, 0, 0],\n",
    "        [0, 1, 0, 0, 0, 0],\n",
    "        [1, 1, 1, 0, 0, 0],\n",
    "        [0, 0, 2, 4, 4, 0],\n",
    "        [0, 0, 0, 2, 0, 0],\n",
    "        [0, 0, 1, 2, 4, 0]]\n",
    "\n",
    "tans = 19\n",
    "assert(hourglass(mat) == tans)\n",
    "print('Test case passed!!!')"
   ]
  },
  {
   "cell_type": "code",
   "execution_count": null,
   "metadata": {
    "deletable": false,
    "editable": false,
    "nbgrader": {
     "checksum": "ec2b84ea7af19b2b74a9161a92a8f1e0",
     "grade": true,
     "grade_id": "cell-0d867c5cd7f32416",
     "locked": true,
     "points": 2,
     "schema_version": 1,
     "solution": false
    }
   },
   "outputs": [],
   "source": [
    "# Hidden test\n",
    "# No output will be produced\n",
    "# 2 marks"
   ]
  },
  {
   "cell_type": "code",
   "execution_count": null,
   "metadata": {
    "deletable": false,
    "editable": false,
    "nbgrader": {
     "checksum": "f1101e3f6ba28d0f5734397ea92658e8",
     "grade": true,
     "grade_id": "cell-f5ba8ee217d424da",
     "locked": true,
     "points": 2,
     "schema_version": 1,
     "solution": false
    }
   },
   "outputs": [],
   "source": [
    "# Hidden test\n",
    "# No output will be produced\n",
    "# 2 marks"
   ]
  },
  {
   "cell_type": "markdown",
   "metadata": {
    "deletable": false,
    "editable": false,
    "nbgrader": {
     "checksum": "bb076b22ca0285eba2039ba46ea348a7",
     "grade": false,
     "grade_id": "cell-94d3d0c8398d8a1d",
     "locked": true,
     "schema_version": 1,
     "solution": false
    }
   },
   "source": [
    "## Question 2\n",
    "\n",
    "Write a function that performs `d` left rotations on an array, `a`. For example, if 2 left rotations are applied on the array `[1, 2, 3, 4, 5]`, then the returned array would become `[3, 4, 5, 1, 2]`."
   ]
  },
  {
   "cell_type": "code",
   "execution_count": null,
   "metadata": {
    "deletable": false,
    "nbgrader": {
     "checksum": "95854f3363d44b21209c7e79c845d09b",
     "grade": false,
     "grade_id": "cell-6db4b2c42d0be31b",
     "locked": false,
     "schema_version": 1,
     "solution": true
    }
   },
   "outputs": [],
   "source": [
    "def rotateLeft(a, k):\n",
    "    # YOUR CODE HERE\n",
    "    raise NotImplementedError()"
   ]
  },
  {
   "cell_type": "code",
   "execution_count": null,
   "metadata": {
    "deletable": false,
    "editable": false,
    "nbgrader": {
     "checksum": "4125eeac1a7e3a4b1bba7ec5ea5e0335",
     "grade": true,
     "grade_id": "cell-4809b281086095fa",
     "locked": true,
     "points": 1,
     "schema_version": 1,
     "solution": false
    }
   },
   "outputs": [],
   "source": [
    "# Run this test cell to check your code\n",
    "# Do not delete this cell\n",
    "# 1 mark\n",
    "# Unit test\n",
    "a    = [1, 2, 3, 4, 5]\n",
    "d    = 4\n",
    "tans = [5, 1, 2, 3, 4]\n",
    "assert(rotateLeft(a, d) == tans)\n",
    "print('Test case passed!!!')"
   ]
  },
  {
   "cell_type": "code",
   "execution_count": null,
   "metadata": {
    "deletable": false,
    "editable": false,
    "nbgrader": {
     "checksum": "f961e9ab86d074447ba0dd2130f7f47a",
     "grade": true,
     "grade_id": "cell-eddc930fab9f3b8e",
     "locked": true,
     "points": 4,
     "schema_version": 1,
     "solution": false
    }
   },
   "outputs": [],
   "source": [
    "# Hidden test\n",
    "# No output will be produced\n",
    "# 4 marks"
   ]
  },
  {
   "cell_type": "markdown",
   "metadata": {
    "deletable": false,
    "editable": false,
    "nbgrader": {
     "checksum": "21b115b054ef2b6669c0e6dc057ccaf1",
     "grade": false,
     "grade_id": "cell-a34dbc22bf5e750f",
     "locked": true,
     "schema_version": 1,
     "solution": false
    }
   },
   "source": [
    "## Question 3\n",
    "\n",
    "\n",
    "Consider a list of integers denoting the positions of people queuing in a line, where the person in the front of the queue is integer 1, the second person 2, all the way to the last person in position $n$. In this queue an individual has the potential to bribe the person directly in front of them and can at most make two brides. Write a function that takes in a array of integers and determines the number of brides required to get the queue into its current state. If the queue is not possible to acheive through the bribing mechanism described above, then the function should return the string `not possible`. \n",
    "\n",
    "**Example:**\n",
    "\n",
    "Given the input `[2, 1, 5, 3, 4]`, the function should return 3. This being the number of bribes to move from `[1, 2, 3, 4, 5]` to the given input."
   ]
  },
  {
   "cell_type": "code",
   "execution_count": null,
   "metadata": {
    "deletable": false,
    "nbgrader": {
     "checksum": "208e2bc233bcad498794e530caf14cd9",
     "grade": false,
     "grade_id": "cell-d10a9f680fac442a",
     "locked": false,
     "schema_version": 1,
     "solution": true
    }
   },
   "outputs": [],
   "source": [
    "def queueBribe(q):\n",
    "    # YOUR CODE HERE\n",
    "    raise NotImplementedError()\n"
   ]
  },
  {
   "cell_type": "code",
   "execution_count": null,
   "metadata": {
    "deletable": false,
    "editable": false,
    "nbgrader": {
     "checksum": "5ecfcf36cef9f4e0a659a81c2e2411ef",
     "grade": true,
     "grade_id": "cell-a03a7867b4d7926e",
     "locked": true,
     "points": 1,
     "schema_version": 1,
     "solution": false
    }
   },
   "outputs": [],
   "source": [
    "# Run this test cell to check your code\n",
    "# Do not delete this cell\n",
    "# 1 mark\n",
    "# Unit test\n",
    "q = [2, 1, 5, 3, 4]\n",
    "tans = 3\n",
    "assert(queueBribe(q) == tans)\n",
    "print('Test case passed!!!')"
   ]
  },
  {
   "cell_type": "code",
   "execution_count": null,
   "metadata": {
    "deletable": false,
    "editable": false,
    "nbgrader": {
     "checksum": "26b3010347eb323091d45c458cca4a7f",
     "grade": true,
     "grade_id": "cell-a2f9d17ca10dff12",
     "locked": true,
     "points": 1,
     "schema_version": 1,
     "solution": false
    }
   },
   "outputs": [],
   "source": [
    "# Run this test cell to check your code\n",
    "# Do not delete this cell\n",
    "# 1 mark\n",
    "# Unit test\n",
    "q = [2, 5, 1, 3, 4]\n",
    "tans = 'not possible'\n",
    "assert(queueBribe(q) == tans)\n",
    "print('Test case passed!!!')"
   ]
  },
  {
   "cell_type": "code",
   "execution_count": null,
   "metadata": {
    "deletable": false,
    "editable": false,
    "nbgrader": {
     "checksum": "07067fcbaa21197f03a2f1e1de4f4d6c",
     "grade": true,
     "grade_id": "cell-8949c5962c51991e",
     "locked": true,
     "points": 3,
     "schema_version": 1,
     "solution": false
    }
   },
   "outputs": [],
   "source": [
    "# Hidden test\n",
    "# No output will be produced\n",
    "# 3 marks"
   ]
  },
  {
   "cell_type": "markdown",
   "metadata": {
    "deletable": false,
    "editable": false,
    "nbgrader": {
     "checksum": "389895b0f644672f2116852ef772d7c9",
     "grade": false,
     "grade_id": "cell-d07cc5c17cc018a0",
     "locked": true,
     "schema_version": 1,
     "solution": false
    }
   },
   "source": [
    "## Question 4\n",
    "\n",
    "A game of tennis consists of two players contests for points within a game. To win a set, a player must be the first to 6 games and win by 2 clear games (if the opposing player is on 5 games, then the winning player will need to win 7 games to win the set). Assuming that the winner of the match, is the player winning the best of 5 sets, write a function that does the following. The function should take in an input string of `A`'s and `B`'s denoting that player `A` or `B` won that particular point. The function should then return the winner of the match, i.e. return `A` or `B`.\n",
    "\n",
    "\n",
    "**Rules of Tennis:**\n",
    "\n",
    "* Points are awarded in scores of 15, 30 and 40. 15 represent 1 point, 30 = 2 and 40 = 3. \n",
    "* You need 4 points to win a game. If a game lands on 40-40 it’s known as deuce. From deuce a player needs to win 2 consecutive points to win the game. After winning one point from deuce they player is on advantage. If the player wins the next point they win the game, if they lose it goes back to deuce.\n",
    "* To win the set a player must win 6 games by 2 or more. The opening sets will go to a tie break if its ends up 6-6 where players play first to 7 points. The final set will not have a tie break and requires players to win by two games with no limits."
   ]
  },
  {
   "cell_type": "code",
   "execution_count": null,
   "metadata": {
    "deletable": false,
    "nbgrader": {
     "checksum": "b75e8d60c81edeaf607ab61eb303dcc8",
     "grade": false,
     "grade_id": "cell-effbcaf0907eea39",
     "locked": false,
     "schema_version": 1,
     "solution": true
    }
   },
   "outputs": [],
   "source": [
    "def tennisWinner(score):\n",
    "    # YOUR CODE HERE\n",
    "    raise NotImplementedError()\n",
    "    \n",
    "\n"
   ]
  },
  {
   "cell_type": "code",
   "execution_count": null,
   "metadata": {
    "deletable": false,
    "editable": false,
    "nbgrader": {
     "checksum": "26bd16f83eb5d6ee1289f7e1319fccb9",
     "grade": true,
     "grade_id": "cell-f5e4aa9e23cf20e8",
     "locked": true,
     "points": 1,
     "schema_version": 1,
     "solution": false
    }
   },
   "outputs": [],
   "source": [
    "# Run this test cell to check your code\n",
    "# Do not delete this cell\n",
    "# 1 mark\n",
    "# Unit test\n",
    "score = 'AAAABABBABBBBABAABABBB'\n",
    "tans = 'B'\n",
    "assert(tennisWinner(score) == tans)\n",
    "print('Test case passed!!!')"
   ]
  },
  {
   "cell_type": "code",
   "execution_count": null,
   "metadata": {
    "deletable": false,
    "editable": false,
    "nbgrader": {
     "checksum": "39c166a90887b65034aa49221e2b1c58",
     "grade": true,
     "grade_id": "cell-c17a007c936ad082",
     "locked": true,
     "points": 1,
     "schema_version": 1,
     "solution": false
    }
   },
   "outputs": [],
   "source": [
    "# Run this test cell to check your code\n",
    "# Do not delete this cell\n",
    "# 1 mark\n",
    "# Unit test\n",
    "score = 'BBBAAAABABBABBBBAAABABAAAAAABA'\n",
    "tans = 'A'\n",
    "assert(tennisWinner(score) == tans)\n",
    "print('Test case passed!!!')"
   ]
  },
  {
   "cell_type": "code",
   "execution_count": null,
   "metadata": {
    "deletable": false,
    "editable": false,
    "nbgrader": {
     "checksum": "fd64a3224bf0bc7b88c0633b1679951a",
     "grade": true,
     "grade_id": "cell-d66b080d5e287463",
     "locked": true,
     "points": 3,
     "schema_version": 1,
     "solution": false
    }
   },
   "outputs": [],
   "source": [
    "# Hidden test\n",
    "# No output will be produced\n",
    "# 3 marks"
   ]
  },
  {
   "cell_type": "markdown",
   "metadata": {
    "deletable": false,
    "editable": false,
    "nbgrader": {
     "checksum": "3a0c3f7cd7b7928be5fa64f43dabed26",
     "grade": false,
     "grade_id": "cell-b1b2aad504cc6b80",
     "locked": true,
     "schema_version": 1,
     "solution": false
    }
   },
   "source": [
    "# Main Exercises\n",
    "\n",
    "## Question 1\n",
    "\n",
    "Given the equation:\n",
    "$$\n",
    "\\frac{\\partial^{2} T}{\\partial r^{2}}+\\frac{1}{r} \\frac{\\partial T}{\\partial r}=\\frac{1}{4 K} \\frac{\\partial T}{\\partial t}, \\quad 0 \\leq r \\leq 1, \\quad t \\geq 0,\n",
    "$$\n",
    "where:\n",
    "$$\n",
    "T^\\prime\\left(0, t\\right)=0, \\qquad T(1, t)=100+40 t, \\quad T(r, 0)=200r\n",
    "$$\n",
    "Write a function that uses central difference approximations for the spatial derivatives and a backward difference approximation for temporal derivatives. The function should take as inputs, the time step `dt`, the spatial step `dr`, a final temperature to approximate `tf`, and the diffusivity coefficient `K`. The function should return the matrix of solutions ended with the approximation at `tf`."
   ]
  },
  {
   "cell_type": "code",
   "execution_count": null,
   "metadata": {
    "deletable": false,
    "nbgrader": {
     "checksum": "0e03985edce7a8dad413098313568939",
     "grade": false,
     "grade_id": "cell-f0a611185c66f60b",
     "locked": false,
     "schema_version": 1,
     "solution": true
    }
   },
   "outputs": [],
   "source": [
    "def heatEqnCylinderNBC(dt, dr, tf, K):\n",
    "    # YOUR CODE HERE\n",
    "    raise NotImplementedError()"
   ]
  },
  {
   "cell_type": "code",
   "execution_count": null,
   "metadata": {
    "deletable": false,
    "editable": false,
    "nbgrader": {
     "checksum": "5117f81a1a17a0276c20a52761f1653c",
     "grade": true,
     "grade_id": "cell-37001f6c73d5b2a2",
     "locked": true,
     "points": 2,
     "schema_version": 1,
     "solution": false
    }
   },
   "outputs": [],
   "source": [
    "# Run this test cell to check your code\n",
    "# Do not delete this cell\n",
    "# 2 marks\n",
    "# Unit test\n",
    "dr = 0.01\n",
    "dt = 0.005\n",
    "K  = 0.1\n",
    "tf = 0.5\n",
    "u = heatEqnCylinderNBC(dt, dr, tf, K)\n",
    "tans = np.array(  [  0.,   2.,   4.,   6.,   8.,  10.,  12.,  14.,  16.,  18.,  20.,\n",
    "                    22.,  24.,  26.,  28.,  30.,  32.,  34.,  36.,  38.,  40.,  42.,\n",
    "                    44.,  46.,  48.,  50.,  52.,  54.,  56.,  58.,  60.,  62.,  64.,\n",
    "                    66.,  68.,  70.,  72.,  74.,  76.,  78.,  80.,  82.,  84.,  86.,\n",
    "                    88.,  90.,  92.,  94.,  96.,  98., 100., 102., 104., 106., 108.,\n",
    "                   110., 112., 114., 116., 118., 120., 122., 124., 126., 128., 130.,\n",
    "                   132., 134., 136., 138., 140., 142., 144., 146., 148., 150., 152.,\n",
    "                   154., 156., 158., 160., 162., 164., 166., 168., 170., 172., 174.,\n",
    "                   176., 178., 180., 182., 184., 186., 188., 190., 192., 194., 196.,\n",
    "                   198., 100.])\n",
    "nt.assert_array_almost_equal(u[0, :], tans)\n",
    "print('Test case passed!!!')"
   ]
  },
  {
   "cell_type": "code",
   "execution_count": null,
   "metadata": {
    "deletable": false,
    "editable": false,
    "nbgrader": {
     "checksum": "c9d9ce63d285412077ee0f49b5400670",
     "grade": true,
     "grade_id": "cell-379f44bb41763c50",
     "locked": true,
     "points": 2,
     "schema_version": 1,
     "solution": false
    }
   },
   "outputs": [],
   "source": [
    "# Run this test cell to check your code\n",
    "# Do not delete this cell\n",
    "# 2 marks\n",
    "# Unit test\n",
    "dr = 0.01\n",
    "dt = 0.005\n",
    "K  = 0.1\n",
    "tf = 0.5\n",
    "u = heatEqnCylinderNBC(dt, dr, tf, K)\n",
    "tans = np.array([  104.3703931, 104.3730376, 104.3774451, 104.384321 , 104.3937662,\n",
    "                   104.4058146, 104.4204818, 104.4377766, 104.4577045, 104.4802694,\n",
    "                   104.5054745, 104.5333223, 104.5638153, 104.5969559, 104.6327464,\n",
    "                   104.6711895, 104.7122877, 104.7560442, 104.8024621, 104.8515451,\n",
    "                   104.9032973, 104.9577229, 105.0148271, 105.0746152, 105.1370932,\n",
    "                   105.2022677, 105.2701459, 105.3407359, 105.4140462, 105.4900863,\n",
    "                   105.5688665, 105.6503978, 105.7346923, 105.821763 , 105.9116237,\n",
    "                   106.0042894, 106.0997761, 106.198101 , 106.2992822, 106.4033391,\n",
    "                   106.5102925, 106.620164 , 106.7329769, 106.8487556, 106.9675257,\n",
    "                   107.0893144, 107.21415  , 107.3420625, 107.4730831, 107.6072445,\n",
    "                   107.7445808, 107.8851276, 108.0289219, 108.1760023, 108.3264087,\n",
    "                   108.4801825, 108.6373668, 108.7980059, 108.9621456, 109.1298333,\n",
    "                   109.3011176, 109.4760487, 109.6546782, 109.8370589, 110.0232452,\n",
    "                   110.2132925, 110.4072579, 110.6051992, 110.807176 , 111.0132486,\n",
    "                   111.2234788, 111.4379292, 111.6566637, 111.8797468, 112.1072444,\n",
    "                   112.339223 , 112.5757499, 112.8168933, 113.062722 , 113.3133055,\n",
    "                   113.5687138, 113.8290176, 114.0942876, 114.3645954, 114.6400125,\n",
    "                   114.9206108, 115.2064623, 115.4976391, 115.7942133, 116.0962567,\n",
    "                   116.4038414, 116.7170389, 117.0359206, 117.3605573, 117.6910195,\n",
    "                   118.0273773, 118.3696999, 118.7180559, 119.0725134, 119.4331394,\n",
    "                   120.       ])\n",
    "nt.assert_array_almost_equal(u[-1, :], tans)\n",
    "print('Test case passed!!!')"
   ]
  },
  {
   "cell_type": "code",
   "execution_count": null,
   "metadata": {
    "deletable": false,
    "editable": false,
    "nbgrader": {
     "checksum": "a24455f30e1bfd9e7eb911f9cc092ff5",
     "grade": true,
     "grade_id": "cell-dfd1b5fec14211cf",
     "locked": true,
     "points": 11,
     "schema_version": 1,
     "solution": false
    }
   },
   "outputs": [],
   "source": [
    "# Hidden test\n",
    "# No output will be produced\n",
    "# 11 marks"
   ]
  },
  {
   "cell_type": "markdown",
   "metadata": {
    "deletable": false,
    "editable": false,
    "nbgrader": {
     "checksum": "62ce668bc28f3a5dd8f5270a1210528a",
     "grade": false,
     "grade_id": "cell-2981b78f8fd568c2",
     "locked": true,
     "schema_version": 1,
     "solution": false
    }
   },
   "source": [
    "### Question 2\n",
    "\n",
    "Given the input below. Plot the surface plot of the solution `u` to the problem given in Question 1."
   ]
  },
  {
   "cell_type": "code",
   "execution_count": null,
   "metadata": {
    "deletable": false,
    "editable": false,
    "nbgrader": {
     "checksum": "db58290327bba76b49b19ef622d11435",
     "grade": false,
     "grade_id": "cell-57a3197448904b60",
     "locked": true,
     "schema_version": 1,
     "solution": false
    }
   },
   "outputs": [],
   "source": [
    "dr = 0.01\n",
    "dt = 0.005\n",
    "K  = 0.1\n",
    "tf = 0.5\n",
    "u = heatEqnCylinderNBC(dt, dr, tf, K)"
   ]
  },
  {
   "cell_type": "code",
   "execution_count": null,
   "metadata": {
    "deletable": false,
    "nbgrader": {
     "checksum": "ef4defb621913617eeaf35595f2a0bec",
     "grade": true,
     "grade_id": "cell-940ab89c0b356cef",
     "locked": false,
     "points": 5,
     "schema_version": 1,
     "solution": true
    }
   },
   "outputs": [],
   "source": [
    "# YOUR CODE HERE\n",
    "raise NotImplementedError()"
   ]
  },
  {
   "cell_type": "markdown",
   "metadata": {
    "deletable": false,
    "editable": false,
    "nbgrader": {
     "checksum": "672f050ce5895b709490637378c71dc0",
     "grade": false,
     "grade_id": "cell-2039f9698ac87fb2",
     "locked": true,
     "schema_version": 1,
     "solution": false
    }
   },
   "source": [
    "### Question 3\n",
    "\n",
    "Write a function that solves the 2D Heat equation given below. Specifically, your function should take as inputs, the constant `D`, the stepsizes, `dx`, `dy`, `dt`, as well as the number of time steps to perform `N`. \n",
    "\n",
    "$$\n",
    "v_t = D\\left( v_{xx} + v_{yy}\\right), \n",
    "$$\n",
    "$$\n",
    "v(-1, y, t) = v(1, y, t) = v(x, -1, t) = v(x, 1, t) = 0, v(x, y, 0) = e^{-(x^2 + y^2)}  \n",
    "$$\n",
    "\n",
    "The function should return the 3D array over all time steps, i.e. $U(x, y, t)$"
   ]
  },
  {
   "cell_type": "code",
   "execution_count": null,
   "metadata": {
    "deletable": false,
    "nbgrader": {
     "checksum": "f6f9e1b8324613a9e3b3f682402cf730",
     "grade": false,
     "grade_id": "cell-0b5e0947a573c843",
     "locked": false,
     "schema_version": 1,
     "solution": true
    }
   },
   "outputs": [],
   "source": [
    "def heat2d(dx, dy, dt, D, N):\n",
    "    # YOUR CODE HERE\n",
    "    raise NotImplementedError()\n"
   ]
  },
  {
   "cell_type": "code",
   "execution_count": null,
   "metadata": {
    "deletable": false,
    "editable": false,
    "nbgrader": {
     "checksum": "dea7bb9ce5c6dee44054ef91776bb263",
     "grade": true,
     "grade_id": "cell-91445c2dc8919927",
     "locked": true,
     "points": 2,
     "schema_version": 1,
     "solution": false
    }
   },
   "outputs": [],
   "source": [
    "# Run this test cell to check your code\n",
    "# Do not delete this cell\n",
    "# 2 marks\n",
    "# Unit test\n",
    "D  = 1\n",
    "dx = 0.2\n",
    "dy = 0.2\n",
    "dt = dx**2 / 4*D\n",
    "N  = 10\n",
    "u = heat2d(dx, dy, dt, D, N)\n",
    "tans = np.array([[  0.       , 0.       , 0.       , 0.       , 0.       , 0.       ,\n",
    "                    0.       , 0.       , 0.       , 0.       , 0.       ],\n",
    "                   [0.       , 0.2780373, 0.3678794, 0.449329 , 0.506617 , 0.5272924,\n",
    "                    0.506617 , 0.449329 , 0.3678794, 0.2780373, 0.       ],\n",
    "                   [0.       , 0.3678794, 0.4867523, 0.5945205, 0.67032  , 0.6976763,\n",
    "                    0.67032  , 0.5945205, 0.4867523, 0.3678794, 0.       ],\n",
    "                   [0.       , 0.449329 , 0.5945205, 0.726149 , 0.8187308, 0.8521438,\n",
    "                    0.8187308, 0.726149 , 0.5945205, 0.449329 , 0.       ],\n",
    "                   [0.       , 0.506617 , 0.67032  , 0.8187308, 0.9231163, 0.9607894,\n",
    "                    0.9231163, 0.8187308, 0.67032  , 0.506617 , 0.       ],\n",
    "                   [0.       , 0.5272924, 0.6976763, 0.8521438, 0.9607894, 1.       ,\n",
    "                    0.9607894, 0.8521438, 0.6976763, 0.5272924, 0.       ],\n",
    "                   [0.       , 0.506617 , 0.67032  , 0.8187308, 0.9231163, 0.9607894,\n",
    "                    0.9231163, 0.8187308, 0.67032  , 0.506617 , 0.       ],\n",
    "                   [0.       , 0.449329 , 0.5945205, 0.726149 , 0.8187308, 0.8521438,\n",
    "                    0.8187308, 0.726149 , 0.5945205, 0.449329 , 0.       ],\n",
    "                   [0.       , 0.3678794, 0.4867523, 0.5945205, 0.67032  , 0.6976763,\n",
    "                    0.67032  , 0.5945205, 0.4867523, 0.3678794, 0.       ],\n",
    "                   [0.       , 0.2780373, 0.3678794, 0.449329 , 0.506617 , 0.5272924,\n",
    "                    0.506617 , 0.449329 , 0.3678794, 0.2780373, 0.       ],\n",
    "                   [0.       , 0.       , 0.       , 0.       , 0.       , 0.       ,\n",
    "                    0.       , 0.       , 0.       , 0.       , 0.       ]])\n",
    "nt.assert_array_almost_equal(u[:, :, 0], tans)\n",
    "print('Test case passed!!!')"
   ]
  },
  {
   "cell_type": "code",
   "execution_count": null,
   "metadata": {
    "deletable": false,
    "editable": false,
    "nbgrader": {
     "checksum": "56f4362b64c6eef880287f6225a42598",
     "grade": true,
     "grade_id": "cell-1f29bdc2bdb458a0",
     "locked": true,
     "points": 13,
     "schema_version": 1,
     "solution": false
    }
   },
   "outputs": [],
   "source": [
    "# Hidden test\n",
    "# No output will be produced\n",
    "# 13 marks"
   ]
  },
  {
   "cell_type": "markdown",
   "metadata": {
    "deletable": false,
    "editable": false,
    "nbgrader": {
     "checksum": "53107bfa7da666566b6c23a052f9a509",
     "grade": false,
     "grade_id": "cell-2e4e2bd5cc678749",
     "locked": true,
     "schema_version": 1,
     "solution": false
    }
   },
   "source": [
    "### Question 4\n",
    "\n",
    "Given the input below for Question 3, plot the 2D heat map of the surface over every 20 time steps. Plot each time on its on set of axes."
   ]
  },
  {
   "cell_type": "code",
   "execution_count": null,
   "metadata": {
    "deletable": false,
    "editable": false,
    "nbgrader": {
     "checksum": "85b069c2d70aee59769858ad2f31639e",
     "grade": false,
     "grade_id": "cell-8eedbf3739756c8a",
     "locked": true,
     "schema_version": 1,
     "solution": false
    }
   },
   "outputs": [],
   "source": [
    "D  = 1\n",
    "dx = 0.1\n",
    "dy = 0.1\n",
    "dt = dx**2 / 4*D\n",
    "N  = 100\n",
    "u  = heat2d(dx, dy, dt, D, N)"
   ]
  },
  {
   "cell_type": "code",
   "execution_count": null,
   "metadata": {
    "deletable": false,
    "nbgrader": {
     "checksum": "25194df2aea47fef4b57712a46ba6679",
     "grade": true,
     "grade_id": "cell-fe28447e5ea1cd4e",
     "locked": false,
     "points": 5,
     "schema_version": 1,
     "solution": true
    }
   },
   "outputs": [],
   "source": [
    "# YOUR CODE HERE\n",
    "raise NotImplementedError()"
   ]
  }
 ],
 "metadata": {
  "kernelspec": {
   "display_name": "Python 3",
   "language": "python",
   "name": "python3"
  },
  "language_info": {
   "codemirror_mode": {
    "name": "ipython",
    "version": 3
   },
   "file_extension": ".py",
   "mimetype": "text/x-python",
   "name": "python",
   "nbconvert_exporter": "python",
   "pygments_lexer": "ipython3",
   "version": "3.7.4"
  },
  "latex_envs": {
   "LaTeX_envs_menu_present": true,
   "autoclose": false,
   "autocomplete": false,
   "bibliofile": "biblio.bib",
   "cite_by": "apalike",
   "current_citInitial": 1,
   "eqLabelWithNumbers": true,
   "eqNumInitial": 1,
   "hotkeys": {
    "equation": "Ctrl-E",
    "itemize": "Ctrl-I"
   },
   "labels_anchors": false,
   "latex_user_defs": false,
   "report_style_numbering": false,
   "user_envs_cfg": false
  },
  "varInspector": {
   "cols": {
    "lenName": 16,
    "lenType": 16,
    "lenVar": 40
   },
   "kernels_config": {
    "python": {
     "delete_cmd_postfix": "",
     "delete_cmd_prefix": "del ",
     "library": "var_list.py",
     "varRefreshCmd": "print(var_dic_list())"
    },
    "r": {
     "delete_cmd_postfix": ") ",
     "delete_cmd_prefix": "rm(",
     "library": "var_list.r",
     "varRefreshCmd": "cat(var_dic_list()) "
    }
   },
   "types_to_exclude": [
    "module",
    "function",
    "builtin_function_or_method",
    "instance",
    "_Feature"
   ],
   "window_display": false
  }
 },
 "nbformat": 4,
 "nbformat_minor": 4
}
