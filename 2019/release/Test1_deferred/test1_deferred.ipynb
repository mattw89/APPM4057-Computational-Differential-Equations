{
 "cells": [
  {
   "cell_type": "code",
   "execution_count": null,
   "metadata": {},
   "outputs": [],
   "source": [
    "# Initialisation Cell\n",
    "# You should always put imported modules here\n",
    "from math import *\n",
    "import numpy as np\n",
    "import numpy.testing as nt\n",
    "import numpy.linalg as LA\n",
    "from matplotlib import pyplot as plt\n",
    "np.set_printoptions(suppress=True, precision=7)"
   ]
  },
  {
   "cell_type": "markdown",
   "metadata": {
    "deletable": false,
    "editable": false,
    "nbgrader": {
     "checksum": "6615cf3c5dd6dcbd4f97efd328664e98",
     "grade": false,
     "grade_id": "cell-1f3c22af846a039a",
     "locked": true,
     "schema_version": 1,
     "solution": false
    }
   },
   "source": [
    "# CDES Honours - Test 1 Deferred\n",
    "\n",
    "\n",
    "## Instructions\n",
    "\n",
    "* Read all the instructions carefully.\n",
    "* The test consists of **50 Marks**, with **two** hours available.\n",
    "* The written section is to be answered in the book provided.\n",
    "* You must only access Moodle tests and NOT Moodle.\n",
    "* The programming section is to be answered within this Jupyter notebook and resubmitted to Moodle.\n",
    "* Do not rename the notebook, simply answer the questions and resubmit the file to Moodle.\n",
    "* The moodle submission link will expire at exactly **15:00** and **NO** late submission will be accepted. Please make sure you submit timeously!\n",
    "* You may use the **Numpy** help file at: https://docs.scipy.org/doc/numpy-1.15.4/reference/\n",
    "* **NB!!!** Anyone caught using Moodle (and its file storing), flash drives or external notes will be awarded zero and reported to the legal office."
   ]
  },
  {
   "cell_type": "markdown",
   "metadata": {
    "deletable": false,
    "editable": false,
    "nbgrader": {
     "checksum": "9594b92a5ac81c955f234c8a4ead47c3",
     "grade": false,
     "grade_id": "cell-1dd260b87d68aa31",
     "locked": true,
     "schema_version": 1,
     "solution": false
    }
   },
   "source": [
    "## Written Section\n",
    "\n",
    "* Answer the following questions in the answer book provided.\n",
    "\n",
    "\n",
    "### Question 1 (10 Marks)\n",
    "\n",
    "Consider the following difference scheme and conduct a von Neumann stability analysis to determine its stability:\n",
    "$$\n",
    "\\dfrac{u_n^m - u_n^{m-1}}{\\Delta t} = \\dfrac{a}{2\\Delta x^2}\\left(u_{n + 1}^{m} - 2u_{n}^{m} + u_{n - 1}^{m}\\right) + \\dfrac{a}{2\\Delta x^2}\\left(u_{n + 1}^{m - 1} - 2u_{n}^{m - 1} + u_{n - 1}^{m - 1}\\right)\n",
    "$$\n",
    "You may assume that $a>0$.\n"
   ]
  },
  {
   "cell_type": "markdown",
   "metadata": {
    "deletable": false,
    "editable": false,
    "nbgrader": {
     "checksum": "5ba6fa6bf9be02c8f1b006e86809f783",
     "grade": false,
     "grade_id": "cell-86baab2cb4b53421",
     "locked": true,
     "schema_version": 1,
     "solution": false
    }
   },
   "source": [
    "### Question 2 (5 Marks)\n",
    "\n",
    "Establish the Taylor expansion for the following finite difference approximation to $u_x$ at the point $(i, j)$ for a uniform mesh:\n",
    "$$\n",
    "\\frac{\\partial u}{\\partial x} \\approx \\frac{-3 u_{i, j}+4 u_{i, j+1}-u_{i, j+2}}{2 \\Delta x}\n",
    "$$"
   ]
  },
  {
   "cell_type": "markdown",
   "metadata": {
    "deletable": false,
    "editable": false,
    "nbgrader": {
     "checksum": "ed7c4860ba30b899ba98a2a1edc5ad1f",
     "grade": false,
     "grade_id": "cell-20611157fd611cc5",
     "locked": true,
     "schema_version": 1,
     "solution": false
    }
   },
   "source": [
    "### Question 3 (5 Marks)\n",
    "\n",
    "Verify that:\n",
    "$$\n",
    "\\left.\\frac{\\partial^{3} u}{\\partial x^{3}}\\right|_{i, j}=\\frac{\\Delta_{x}^{3} u_{i, j}}{(\\Delta x)^{3}}+O(\\Delta x)\n",
    "$$\n",
    "(Hint: Taylor series)"
   ]
  },
  {
   "cell_type": "markdown",
   "metadata": {
    "deletable": false,
    "editable": false,
    "nbgrader": {
     "checksum": "1a7ca3473dd98ed3e4713c25dacae812",
     "grade": false,
     "grade_id": "cell-7fb9c6e4a7c7d3de",
     "locked": true,
     "schema_version": 1,
     "solution": false
    }
   },
   "source": [
    "## Programming Section \n",
    "\n",
    "### Question 1 (10 Marks)\n",
    "\n",
    "\n",
    "Write a function which implements a finite difference scheme to solve the partial differential equation below. Specifically, the function should implement an explicit scheme which is forward difference in time and central difference in space. It should take as inputs a time step `dt`, a spatial step `dx`, a number of iterations to march forward in time `N`, the coefficients `D` and `nu`, an initial function `ic` passed as a handle and boundary values `alpha` and `beta`. The function should output the solution space matrix `u`, as well as the `xvals` (i.e. vector of $x$ steps) and `tvals` (i.e the vector of time steps). The PDE is given below:\n",
    "\n",
    "\n",
    "$$v_t + \\nu v_x = D v_{xx},$$\n",
    "\n",
    "$$\\text{BC}: v(0, t) = \\alpha = v(1, t) = \\beta = 0;\\quad\\text{IC}: v(x, 0) = \\sin(8\\pi x); \\quad t \\geq 0, \\ x \\in [0, 1]$$"
   ]
  },
  {
   "cell_type": "code",
   "execution_count": null,
   "metadata": {
    "deletable": false,
    "nbgrader": {
     "checksum": "055946c28a44631c91f7b9acbb21753c",
     "grade": false,
     "grade_id": "cell-9e6c20fef606ad4f",
     "locked": false,
     "schema_version": 1,
     "solution": true
    }
   },
   "outputs": [],
   "source": [
    "def heatEqn(dt, dx, N, ic, D, alpha, beta, nu):\n",
    "    # YOUR CODE HERE\n",
    "    raise NotImplementedError()\n",
    "    \n"
   ]
  },
  {
   "cell_type": "code",
   "execution_count": null,
   "metadata": {
    "deletable": false,
    "editable": false,
    "nbgrader": {
     "checksum": "7c0f147ae09d3c0d10b74d973be1888d",
     "grade": true,
     "grade_id": "cell-61884124e5db0039",
     "locked": true,
     "points": 1,
     "schema_version": 1,
     "solution": false
    }
   },
   "outputs": [],
   "source": [
    "# Run this test cell to check your code\n",
    "# Do not delete this cell\n",
    "# 1 mark\n",
    "# Unit test\n",
    "dx = 0.01\n",
    "dt = 0.01\n",
    "N  = 2\n",
    "D  = 0.1\n",
    "nu = 1\n",
    "alpha = 0\n",
    "beta  = 0\n",
    "ic = lambda x: np.sin(8*np.pi*x) \n",
    "u, xx, tt = heatEqn(dt, dx, N, ic, D, alpha, beta, nu)\n",
    "tans = np.array(  [ 0.       ,  0.2486899,  0.4817537,  0.6845471,  0.8443279,\n",
    "                    0.9510565,  0.9980267,  0.9822873,  0.9048271,  0.7705132,\n",
    "                    0.5877853,  0.3681246,  0.1253332, -0.1253332, -0.3681246,\n",
    "                   -0.5877853, -0.7705132, -0.9048271, -0.9822873, -0.9980267,\n",
    "                   -0.9510565, -0.8443279, -0.6845471, -0.4817537, -0.2486899,\n",
    "                   -0.       ,  0.2486899,  0.4817537,  0.6845471,  0.8443279,\n",
    "                    0.9510565,  0.9980267,  0.9822873,  0.9048271,  0.7705132,\n",
    "                    0.5877853,  0.3681246,  0.1253332, -0.1253332, -0.3681246,\n",
    "                   -0.5877853, -0.7705132, -0.9048271, -0.9822873, -0.9980267,\n",
    "                   -0.9510565, -0.8443279, -0.6845471, -0.4817537, -0.2486899,\n",
    "                   -0.       ,  0.2486899,  0.4817537,  0.6845471,  0.8443279,\n",
    "                    0.9510565,  0.9980267,  0.9822873,  0.9048271,  0.7705132,\n",
    "                    0.5877853,  0.3681246,  0.1253332, -0.1253332, -0.3681246,\n",
    "                   -0.5877853, -0.7705132, -0.9048271, -0.9822873, -0.9980267,\n",
    "                   -0.9510565, -0.8443279, -0.6845471, -0.4817537, -0.2486899,\n",
    "                   -0.       ,  0.2486899,  0.4817537,  0.6845471,  0.8443279,\n",
    "                    0.9510565,  0.9980267,  0.9822873,  0.9048271,  0.7705132,\n",
    "                    0.5877853,  0.3681246,  0.1253332, -0.1253332, -0.3681246,\n",
    "                   -0.5877853, -0.7705132, -0.9048271, -0.9822873, -0.9980267,\n",
    "                   -0.9510565, -0.8443279, -0.6845471, -0.4817537, -0.2486899,\n",
    "                    0.       ])\n",
    "nt.assert_array_almost_equal(tans, u[0])\n",
    "print('Test case passed!!!')"
   ]
  },
  {
   "cell_type": "code",
   "execution_count": null,
   "metadata": {
    "deletable": false,
    "editable": false,
    "nbgrader": {
     "checksum": "c0845179cf5f8534f96e9ad01f7e5f99",
     "grade": true,
     "grade_id": "cell-daa46aed8cf80257",
     "locked": true,
     "points": 9,
     "schema_version": 1,
     "solution": false
    }
   },
   "outputs": [],
   "source": [
    "# Hidden test\n",
    "# No output will be produced\n",
    "# 9 marks"
   ]
  },
  {
   "cell_type": "markdown",
   "metadata": {
    "deletable": false,
    "editable": false,
    "nbgrader": {
     "checksum": "0681f2433b4553b77931c8f220316caa",
     "grade": false,
     "grade_id": "cell-5957261667cad9da",
     "locked": true,
     "schema_version": 1,
     "solution": false
    }
   },
   "source": [
    "### Question 2 (10 Marks)\n",
    "\n",
    "Write a function which implements a finite difference scheme to solve the partial differential equation given in Question 1 (above). Now, however, the function should implement an implicit scheme which is forward in time and central in space."
   ]
  },
  {
   "cell_type": "code",
   "execution_count": null,
   "metadata": {
    "deletable": false,
    "nbgrader": {
     "checksum": "a354a510198ecbf669a9122ca09b12cc",
     "grade": false,
     "grade_id": "cell-cae972cea5502f8c",
     "locked": false,
     "schema_version": 1,
     "solution": true
    }
   },
   "outputs": [],
   "source": [
    "def heatEqnImp(dt, dx, N, ic, D, alpha, beta, nu):\n",
    "    # YOUR CODE HERE\n",
    "    raise NotImplementedError()\n",
    "    "
   ]
  },
  {
   "cell_type": "code",
   "execution_count": null,
   "metadata": {
    "deletable": false,
    "editable": false,
    "nbgrader": {
     "checksum": "4c3fce72fa521050650a4eb2e4213913",
     "grade": true,
     "grade_id": "cell-ecdd711747a7d4d5",
     "locked": true,
     "points": 1,
     "schema_version": 1,
     "solution": false
    }
   },
   "outputs": [],
   "source": [
    "# Run this test cell to check your code\n",
    "# Do not delete this cell\n",
    "# 1 mark\n",
    "# Unit test\n",
    "dx = 0.01\n",
    "dt = 0.01\n",
    "N  = 2\n",
    "D  = 0.1\n",
    "nu = 1\n",
    "alpha = 0\n",
    "beta  = 0\n",
    "ic = lambda x: np.sin(8*np.pi*x) \n",
    "u, xx, tt = heatEqnImp(dt, dx, N, ic, D, alpha, beta, nu)\n",
    "tans = np.array(  [ 0.       ,  0.2486899,  0.4817537,  0.6845471,  0.8443279,\n",
    "                    0.9510565,  0.9980267,  0.9822873,  0.9048271,  0.7705132,\n",
    "                    0.5877853,  0.3681246,  0.1253332, -0.1253332, -0.3681246,\n",
    "                   -0.5877853, -0.7705132, -0.9048271, -0.9822873, -0.9980267,\n",
    "                   -0.9510565, -0.8443279, -0.6845471, -0.4817537, -0.2486899,\n",
    "                   -0.       ,  0.2486899,  0.4817537,  0.6845471,  0.8443279,\n",
    "                    0.9510565,  0.9980267,  0.9822873,  0.9048271,  0.7705132,\n",
    "                    0.5877853,  0.3681246,  0.1253332, -0.1253332, -0.3681246,\n",
    "                   -0.5877853, -0.7705132, -0.9048271, -0.9822873, -0.9980267,\n",
    "                   -0.9510565, -0.8443279, -0.6845471, -0.4817537, -0.2486899,\n",
    "                   -0.       ,  0.2486899,  0.4817537,  0.6845471,  0.8443279,\n",
    "                    0.9510565,  0.9980267,  0.9822873,  0.9048271,  0.7705132,\n",
    "                    0.5877853,  0.3681246,  0.1253332, -0.1253332, -0.3681246,\n",
    "                   -0.5877853, -0.7705132, -0.9048271, -0.9822873, -0.9980267,\n",
    "                   -0.9510565, -0.8443279, -0.6845471, -0.4817537, -0.2486899,\n",
    "                   -0.       ,  0.2486899,  0.4817537,  0.6845471,  0.8443279,\n",
    "                    0.9510565,  0.9980267,  0.9822873,  0.9048271,  0.7705132,\n",
    "                    0.5877853,  0.3681246,  0.1253332, -0.1253332, -0.3681246,\n",
    "                   -0.5877853, -0.7705132, -0.9048271, -0.9822873, -0.9980267,\n",
    "                   -0.9510565, -0.8443279, -0.6845471, -0.4817537, -0.2486899,\n",
    "                    0.       ])\n",
    "nt.assert_array_almost_equal(tans, u[0])\n",
    "print('Test case passed!!!')"
   ]
  },
  {
   "cell_type": "code",
   "execution_count": null,
   "metadata": {
    "deletable": false,
    "editable": false,
    "nbgrader": {
     "checksum": "8917fa0676e2a3c5bbcbac7b50952646",
     "grade": true,
     "grade_id": "cell-ec3e6aeaa0f32805",
     "locked": true,
     "points": 9,
     "schema_version": 1,
     "solution": false
    }
   },
   "outputs": [],
   "source": [
    "# Hidden test\n",
    "# No output will be produced\n",
    "# 9 marks"
   ]
  },
  {
   "cell_type": "markdown",
   "metadata": {
    "deletable": false,
    "editable": false,
    "nbgrader": {
     "checksum": "8c23024e4e461adc6e6550be22ab9dd5",
     "grade": false,
     "grade_id": "cell-ffd4e0f2d9d81407",
     "locked": true,
     "schema_version": 1,
     "solution": false
    }
   },
   "source": [
    "### Question 3 (5 Marks)\n",
    "\n",
    "\n",
    "Given the input below, plot your solutions for both schemes on two different sets of axes. That is a 2D plot, illustrating `N` iterations per plot."
   ]
  },
  {
   "cell_type": "code",
   "execution_count": null,
   "metadata": {
    "deletable": false,
    "editable": false,
    "nbgrader": {
     "checksum": "7fa5d6ca0c96f5263dbef521e9f08ed7",
     "grade": false,
     "grade_id": "cell-da5dd62386079a6a",
     "locked": true,
     "schema_version": 1,
     "solution": false
    }
   },
   "outputs": [],
   "source": [
    "dx    = 0.01\n",
    "dt    = 0.01\n",
    "N     = 2\n",
    "D     = 0.1\n",
    "nu    = 1\n",
    "alpha = 0\n",
    "beta  = 0\n",
    "ic    = lambda x: np.sin(8*np.pi*x) "
   ]
  },
  {
   "cell_type": "code",
   "execution_count": null,
   "metadata": {
    "deletable": false,
    "nbgrader": {
     "checksum": "a3424562959983db4d489b3eac7314bc",
     "grade": true,
     "grade_id": "cell-e3f7296873429171",
     "locked": false,
     "points": 5,
     "schema_version": 1,
     "solution": true
    }
   },
   "outputs": [],
   "source": [
    "# YOUR CODE HERE\n",
    "raise NotImplementedError()"
   ]
  },
  {
   "cell_type": "markdown",
   "metadata": {
    "deletable": false,
    "editable": false,
    "nbgrader": {
     "checksum": "57d27b37dfc267d899a08809479b20de",
     "grade": false,
     "grade_id": "cell-d555ab79afdce1b7",
     "locked": true,
     "schema_version": 1,
     "solution": false
    }
   },
   "source": [
    "### Question 4 (5 Marks)\n",
    "\n",
    "Write a function implements a finite difference scheme to solve the heat equation with Neumann boundary conditions. Specifically, the function should implement an explicit scheme which is forward difference in time and central difference in space. It should take as inputs a time step `dt`, a spatial step `dx`, a number of iterations to march forward in time `N`, the coefficient `D`, an initial function `f(x)` passed as a handle and boundary values `alpha` and `beta`. The function should output the solution space matrix `u`. Recall the heat equation problem as:\n",
    "$$\n",
    "u_{t} = Du_{xx},\\ \\ \\quad u_x(0, t) = \\alpha, \\ \\ u_x(1, t) = \\beta,\\ \\ \\qquad u(x, 0) = f(x) \n",
    "$$\n",
    "\n",
    "Note: the solution matrix here is matrix of all $x$ through time $t$. That is row one is at time zero and the matrix should have `N + 1` rows."
   ]
  },
  {
   "cell_type": "code",
   "execution_count": null,
   "metadata": {
    "deletable": false,
    "nbgrader": {
     "checksum": "21bd0d7fb77382d7e3db7bea4030490f",
     "grade": false,
     "grade_id": "cell-eabcb39964951637",
     "locked": false,
     "schema_version": 1,
     "solution": true
    }
   },
   "outputs": [],
   "source": [
    "def heat_eq_matrix(dt, dx, N, f, D, alpha, beta):\n",
    "    # YOUR CODE HERE\n",
    "    raise NotImplementedError()\n"
   ]
  },
  {
   "cell_type": "code",
   "execution_count": null,
   "metadata": {
    "deletable": false,
    "editable": false,
    "nbgrader": {
     "checksum": "7f8113293d4431a13445704c434ec610",
     "grade": true,
     "grade_id": "cell-d44e89d66c0319c0",
     "locked": true,
     "points": 2,
     "schema_version": 1,
     "solution": false
    }
   },
   "outputs": [],
   "source": [
    "# Run this test cell to check your code\n",
    "# Do not delete this cell\n",
    "# 2 mark\n",
    "# Unit test\n",
    "dx    = 0.05\n",
    "D     = 1 \n",
    "dt    = (dx**2)/(4*D)\n",
    "alpha = -0.5\n",
    "beta  = -0.5\n",
    "f     = lambda x: x*(1 - x)*(x - 0.5)\n",
    "N     = 50\n",
    "ans   = heat_eq_matrix(dt, dx, N, f, D, alpha, beta)\n",
    "t1    = np.array([-0.      , -0.021375, -0.036   , -0.044625, -0.048   , -0.046875,\n",
    "       -0.042   , -0.034125, -0.024   , -0.012375,  0.      ,  0.012375,\n",
    "        0.024   ,  0.034125,  0.042   ,  0.046875,  0.048   ,  0.044625,\n",
    "        0.036   ,  0.021375,  0.      ])\n",
    "t2    = np.array([ 0.0688784,  0.0461262,  0.0278104,  0.0137554,  0.0036763,\n",
    "       -0.002811 , -0.0061764, -0.0069613, -0.0057633, -0.003221 ,\n",
    "        0.       ,  0.003221 ,  0.0057633,  0.0069613,  0.0061764,\n",
    "        0.002811 , -0.0036763, -0.0137554, -0.0278104, -0.0461262,\n",
    "       -0.0688784])\n",
    "nt.assert_array_almost_equal(ans[0, ::], t1, 5)\n",
    "nt.assert_array_almost_equal(ans[-1, ::], t2, 5)\n",
    "print('Test case passed!!!')"
   ]
  },
  {
   "cell_type": "code",
   "execution_count": null,
   "metadata": {
    "deletable": false,
    "editable": false,
    "nbgrader": {
     "checksum": "abf152d45c77754ef4741bed1bfc3083",
     "grade": true,
     "grade_id": "cell-80f47e1925d3ba03",
     "locked": true,
     "points": 3,
     "schema_version": 1,
     "solution": false
    }
   },
   "outputs": [],
   "source": [
    "# Hidden test\n",
    "# No output will be produced\n",
    "# 3 marks"
   ]
  }
 ],
 "metadata": {
  "kernelspec": {
   "display_name": "Python 3",
   "language": "python",
   "name": "python3"
  },
  "language_info": {
   "codemirror_mode": {
    "name": "ipython",
    "version": 3
   },
   "file_extension": ".py",
   "mimetype": "text/x-python",
   "name": "python",
   "nbconvert_exporter": "python",
   "pygments_lexer": "ipython3",
   "version": "3.7.4"
  }
 },
 "nbformat": 4,
 "nbformat_minor": 4
}
