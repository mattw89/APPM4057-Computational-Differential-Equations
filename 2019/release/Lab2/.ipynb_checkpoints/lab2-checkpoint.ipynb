{
 "cells": [
  {
   "cell_type": "code",
   "execution_count": null,
   "metadata": {},
   "outputs": [],
   "source": [
    "# Initialisation Cell\n",
    "# You should always put imported modules here\n",
    "from math import *\n",
    "import numpy as np\n",
    "import numpy.testing as nt\n",
    "import numpy.linalg as LA\n",
    "from matplotlib import pyplot as plt\n",
    "import seaborn as sns\n",
    "#sns.set_style('dark', {'figure.facecolor': '(0,0,0,0)'}) \n",
    "sns.set(style=\"darkgrid\")\n",
    "plt.rcParams['figure.figsize'] = [8, 5]\n",
    "plt.rcParams['figure.dpi'] = 100\n",
    "np.set_printoptions(suppress=True, precision=7)"
   ]
  },
  {
   "cell_type": "markdown",
   "metadata": {
    "deletable": false,
    "editable": false,
    "nbgrader": {
     "checksum": "b7fa19a20fce3c61935d00ab14bfcee9",
     "grade": false,
     "grade_id": "cell-05b695dba46ec5ec",
     "locked": true,
     "schema_version": 1,
     "solution": false
    }
   },
   "source": [
    "# CDES Honours - Lab 2\n",
    "\n",
    "\n",
    "## Instructions\n",
    "\n",
    "* Read all the instructions carefully.\n",
    "* Do not rename the notebook, simply answer the questions and resubmit the file to Moodle.\n",
    "* **Numpy** has a help file for every function if you get stuck. See: https://docs.scipy.org/doc/numpy-1.15.4/reference/\n",
    "* See these useful links:\n",
    "    * https://docs.scipy.org/doc/numpy/user/numpy-for-matlab-users.html\n",
    "    * https://docs.scipy.org/doc/numpy/user/quickstart.html\n",
    "* **Numpy** is not always required.\n",
    "* There are also numerous sources available on the internet, Google is your friend!"
   ]
  },
  {
   "cell_type": "markdown",
   "metadata": {
    "deletable": false,
    "editable": false,
    "nbgrader": {
     "checksum": "59b6a8bb31f16a3038030234694f1427",
     "grade": false,
     "grade_id": "cell-f5272afb1c1f5036",
     "locked": true,
     "schema_version": 1,
     "solution": false
    }
   },
   "source": [
    "# Warm-up Exercises\n",
    "\n",
    "Complete the following warm-up tasks without the use of numpy.\n",
    "\n",
    "## Question 1\n",
    "\n",
    "Write a function that takes in a binary array of length `n`. The function must compute the minimum number of steps to navigate the array, where zero elements are values that may be traversed and ones **taboo** and must be avoided. The maximum size of the step allowable is 2, i.e. a shift of 1 or 2. For example, if $c = [0, 1, 0, 0, 0, 1, 0]$ indexed from $0, \\ldots, 6$. The possible paths are $0 \\rightarrow 2 \\rightarrow 4 \\rightarrow 6$ or $0 \\rightarrow 2 \\rightarrow 3 \\rightarrow 4 \\rightarrow 6$. The first path requires 3 shifts and the second 4 shifts. Therefore, the function should return the shortest number of shifts."
   ]
  },
  {
   "cell_type": "code",
   "execution_count": null,
   "metadata": {
    "deletable": false,
    "nbgrader": {
     "checksum": "5fc2f388062ee9ac2b77b8e69640f9cb",
     "grade": false,
     "grade_id": "cell-33a7b525f1c7eafa",
     "locked": false,
     "schema_version": 1,
     "solution": true
    }
   },
   "outputs": [],
   "source": [
    "def jumping(c):\n",
    "    # YOUR CODE HERE\n",
    "    raise NotImplementedError()"
   ]
  },
  {
   "cell_type": "code",
   "execution_count": null,
   "metadata": {
    "deletable": false,
    "editable": false,
    "nbgrader": {
     "checksum": "9d014362808cc0e24d8b5bd82c79c939",
     "grade": true,
     "grade_id": "cell-45f90e5be90d1f74",
     "locked": true,
     "points": 1,
     "schema_version": 1,
     "solution": false
    }
   },
   "outputs": [],
   "source": [
    "# Run this test cell to check your code\n",
    "# Do not delete this cell\n",
    "# 1 mark\n",
    "# Unit test\n",
    "c = [0, 1, 0, 0, 0, 1, 0]\n",
    "assert(jumping(c) == 3)\n",
    "print('Test case passed!!!')"
   ]
  },
  {
   "cell_type": "code",
   "execution_count": null,
   "metadata": {
    "deletable": false,
    "editable": false,
    "nbgrader": {
     "checksum": "ce263326724cf196ab86eef81d087e46",
     "grade": true,
     "grade_id": "cell-92a50b983b44b1bc",
     "locked": true,
     "points": 4,
     "schema_version": 1,
     "solution": false
    }
   },
   "outputs": [],
   "source": [
    "# Hidden test\n",
    "# No output will be produced\n",
    "# 4 marks"
   ]
  },
  {
   "cell_type": "markdown",
   "metadata": {
    "deletable": false,
    "editable": false,
    "nbgrader": {
     "checksum": "a17cc4212cf54180ec2466bc88a53710",
     "grade": false,
     "grade_id": "cell-a25affd8f7b6a5f7",
     "locked": true,
     "schema_version": 1,
     "solution": false
    }
   },
   "source": [
    "## Question 2\n",
    "\n",
    "Write a function that takes in two arrays and determines all integers satisfying the following:\n",
    "* The elements of the first array that are all factors of the integer being considered.\n",
    "* The integer being considered is a factor of all elements in the second array. \n",
    "    \n",
    "Your function must the amount of such numbers. For example, if $a = [2, 6]$ and $b = [24, 36]$, there are 2 numbers between them: 6 and 12, i.e. 6 % 2 = 0, 6 % 6 = 0, 24 % 6 = 0 and 36 % 6 for the first value. Similarly, 12 % 2 = 0, 12 % 6 = 0,  24 % 12 = 0 and 36 % 12 = 0."
   ]
  },
  {
   "cell_type": "code",
   "execution_count": null,
   "metadata": {
    "deletable": false,
    "nbgrader": {
     "checksum": "6f48a691ea4e8d45887f8705acb83875",
     "grade": false,
     "grade_id": "cell-dd05e8cd61245fe0",
     "locked": false,
     "schema_version": 1,
     "solution": true
    }
   },
   "outputs": [],
   "source": [
    "def getTotalX(a, b):\n",
    "    # YOUR CODE HERE\n",
    "    raise NotImplementedError()"
   ]
  },
  {
   "cell_type": "code",
   "execution_count": null,
   "metadata": {
    "deletable": false,
    "editable": false,
    "nbgrader": {
     "checksum": "80aa2b82ba720f29a5892281818226f3",
     "grade": true,
     "grade_id": "cell-fa0876445603db79",
     "locked": true,
     "points": 1,
     "schema_version": 1,
     "solution": false
    }
   },
   "outputs": [],
   "source": [
    "# Run this test cell to check your code\n",
    "# Do not delete this cell\n",
    "# 1 mark\n",
    "# Unit test\n",
    "a = [2, 6]\n",
    "b = [24, 36]\n",
    "assert(getTotalX(a, b) == 2)\n",
    "print('Test case passed!!!')"
   ]
  },
  {
   "cell_type": "code",
   "execution_count": null,
   "metadata": {
    "deletable": false,
    "editable": false,
    "nbgrader": {
     "checksum": "f791294b0c373eab9038f9a0c4928c73",
     "grade": true,
     "grade_id": "cell-72cfaf7279fcabad",
     "locked": true,
     "points": 4,
     "schema_version": 1,
     "solution": false
    }
   },
   "outputs": [],
   "source": [
    "# Hidden test\n",
    "# No output will be produced\n",
    "# 4 marks"
   ]
  },
  {
   "cell_type": "markdown",
   "metadata": {
    "deletable": false,
    "editable": false,
    "nbgrader": {
     "checksum": "2c170ab2920b078ebe85af64148d6cd8",
     "grade": false,
     "grade_id": "cell-1de94fe468719ffb",
     "locked": true,
     "schema_version": 1,
     "solution": false
    }
   },
   "source": [
    "## Question 3\n",
    "\n",
    "\n",
    "An advertising firm is adopting a new viral advertising strategy. When they launch a new product, they advertise it to exactly  people on social media.\n",
    "\n",
    "On the first day, half of those 5 people (i.e., $\\text{floor}(5/2) = 2$) like the advertisement and each shares it with 3 of their friends. At the beginning of the second day, $\\text{floor}(5/2) \\times 3 = 6$ people receive the advertisement.\n",
    "\n",
    "Each day, $\\text{floor(recipients}/2)$ of the recipients like the advertisement and will share it with 3 friends on the following day. Assuming nobody receives the advertisement twice, determine how many people have liked the ad by the end of a given day, beginning with launch day as day 1.\n",
    "\n",
    "Complete the advertisement function below. It should return the cumulative number of people who have liked the ad at a given time.\n",
    "\n",
    "Write a function that takes in a single integer, `n`, denoting the number of days. The function should return the number of people who liked the advertisement during the first `n` days.\n",
    "\n"
   ]
  },
  {
   "cell_type": "code",
   "execution_count": null,
   "metadata": {
    "deletable": false,
    "nbgrader": {
     "checksum": "a5445fd5287c63fa3e8522b4045a3917",
     "grade": false,
     "grade_id": "cell-f884903a402ad569",
     "locked": false,
     "schema_version": 1,
     "solution": true
    }
   },
   "outputs": [],
   "source": [
    "def advertisement(n):\n",
    "    # YOUR CODE HERE\n",
    "    raise NotImplementedError()\n",
    "\n"
   ]
  },
  {
   "cell_type": "code",
   "execution_count": null,
   "metadata": {
    "deletable": false,
    "editable": false,
    "nbgrader": {
     "checksum": "29f52129ccc9ab242417c737a5f7e245",
     "grade": true,
     "grade_id": "cell-871affbdbb2c3ff3",
     "locked": true,
     "points": 1,
     "schema_version": 1,
     "solution": false
    }
   },
   "outputs": [],
   "source": [
    "# Run this test cell to check your code\n",
    "# Do not delete this cell\n",
    "# 1 mark\n",
    "# Unit test\n",
    "n = 3\n",
    "assert(advertisement(n) == 9)\n",
    "print('Test case passed!!!')"
   ]
  },
  {
   "cell_type": "code",
   "execution_count": null,
   "metadata": {
    "deletable": false,
    "editable": false,
    "nbgrader": {
     "checksum": "10d61ff015c1e99fb5e0460347996f9d",
     "grade": true,
     "grade_id": "cell-689b92d49dd4f73b",
     "locked": true,
     "points": 1,
     "schema_version": 1,
     "solution": false
    }
   },
   "outputs": [],
   "source": [
    "# Run this test cell to check your code\n",
    "# Do not delete this cell\n",
    "# 1 mark\n",
    "# Unit test\n",
    "n = 5\n",
    "assert(advertisement(n) == 24)\n",
    "print('Test case passed!!!')"
   ]
  },
  {
   "cell_type": "code",
   "execution_count": null,
   "metadata": {
    "deletable": false,
    "editable": false,
    "nbgrader": {
     "checksum": "2783d123cdadd08eb6377be2f5db27cc",
     "grade": true,
     "grade_id": "cell-586a38cec884ce87",
     "locked": true,
     "points": 3,
     "schema_version": 1,
     "solution": false
    }
   },
   "outputs": [],
   "source": [
    "# Hidden test\n",
    "# No output will be produced\n",
    "# 3 marks"
   ]
  },
  {
   "cell_type": "markdown",
   "metadata": {
    "deletable": false,
    "editable": false,
    "nbgrader": {
     "checksum": "f3072b06d95b8a4f820c221b0ca65b56",
     "grade": false,
     "grade_id": "cell-a3e62b19ce71d838",
     "locked": true,
     "schema_version": 1,
     "solution": false
    }
   },
   "source": [
    "## Main Exercises\n",
    "\n",
    "Complete the following problems:\n",
    "\n",
    "## Question 1\n",
    "\n",
    "Write a function implements a finite difference scheme to solve the partial differetial equation below. Specifically, the function should implement an explicit scheme which is forward difference in time and central difference in space. It should take as inputs a time step `dt`, a spatial step `dx`, a number of iterations to march forward in time `N`, the coefficients `D` and `nu`, an initial function `ic` passed as a handle and boundary values `alpha` and `beta`. The function should output the solution space matrix `u`, as well as the `xvals` (i.e. vector of $x$ steps) and `tvals` (i.e the vector of time steps). The PDE is given below:\n",
    "\n",
    "\n",
    "$$v_t + \\nu v_x = D v_{xx},$$\n",
    "\n",
    "$$\\text{BC}: v(0, t) = \\alpha = v(1, t) = \\beta = 0;\\quad\\text{IC}: v(x, 0) = \\sin(8\\pi x); \\quad t > 0, \\ x \\in [0, 1]$$"
   ]
  },
  {
   "cell_type": "code",
   "execution_count": null,
   "metadata": {
    "deletable": false,
    "nbgrader": {
     "checksum": "d0098cb99d96dfe2a5e0b8dc637a418c",
     "grade": false,
     "grade_id": "cell-3534765da7bdd30d",
     "locked": false,
     "schema_version": 1,
     "solution": true
    }
   },
   "outputs": [],
   "source": [
    "def heatEqn(dt, dx, N, ic, D, alpha, beta, nu):\n",
    "    # YOUR CODE HERE\n",
    "    raise NotImplementedError()\n",
    "   \n"
   ]
  },
  {
   "cell_type": "code",
   "execution_count": null,
   "metadata": {
    "deletable": false,
    "editable": false,
    "nbgrader": {
     "checksum": "1ff136cff45249119108a5ff294612ac",
     "grade": true,
     "grade_id": "cell-f803b54443115114",
     "locked": true,
     "points": 1,
     "schema_version": 1,
     "solution": false
    }
   },
   "outputs": [],
   "source": [
    "# Run this test cell to check your code\n",
    "# Do not delete this cell\n",
    "# 1 mark\n",
    "# Unit test\n",
    "dx = 0.01\n",
    "dt = 0.01\n",
    "N  = 2\n",
    "D  = 0.1\n",
    "nu = 1\n",
    "alpha = 0\n",
    "beta  = 0\n",
    "ic = lambda x: np.sin(8*np.pi*x) \n",
    "u, xx, tt = heatEqn(dt, dx, N, ic, D, alpha, beta, nu)\n",
    "tans = np.array(  [ 0.       ,  0.2486899,  0.4817537,  0.6845471,  0.8443279,\n",
    "                    0.9510565,  0.9980267,  0.9822873,  0.9048271,  0.7705132,\n",
    "                    0.5877853,  0.3681246,  0.1253332, -0.1253332, -0.3681246,\n",
    "                   -0.5877853, -0.7705132, -0.9048271, -0.9822873, -0.9980267,\n",
    "                   -0.9510565, -0.8443279, -0.6845471, -0.4817537, -0.2486899,\n",
    "                   -0.       ,  0.2486899,  0.4817537,  0.6845471,  0.8443279,\n",
    "                    0.9510565,  0.9980267,  0.9822873,  0.9048271,  0.7705132,\n",
    "                    0.5877853,  0.3681246,  0.1253332, -0.1253332, -0.3681246,\n",
    "                   -0.5877853, -0.7705132, -0.9048271, -0.9822873, -0.9980267,\n",
    "                   -0.9510565, -0.8443279, -0.6845471, -0.4817537, -0.2486899,\n",
    "                   -0.       ,  0.2486899,  0.4817537,  0.6845471,  0.8443279,\n",
    "                    0.9510565,  0.9980267,  0.9822873,  0.9048271,  0.7705132,\n",
    "                    0.5877853,  0.3681246,  0.1253332, -0.1253332, -0.3681246,\n",
    "                   -0.5877853, -0.7705132, -0.9048271, -0.9822873, -0.9980267,\n",
    "                   -0.9510565, -0.8443279, -0.6845471, -0.4817537, -0.2486899,\n",
    "                   -0.       ,  0.2486899,  0.4817537,  0.6845471,  0.8443279,\n",
    "                    0.9510565,  0.9980267,  0.9822873,  0.9048271,  0.7705132,\n",
    "                    0.5877853,  0.3681246,  0.1253332, -0.1253332, -0.3681246,\n",
    "                   -0.5877853, -0.7705132, -0.9048271, -0.9822873, -0.9980267,\n",
    "                   -0.9510565, -0.8443279, -0.6845471, -0.4817537, -0.2486899,\n",
    "                    0.       ])\n",
    "nt.assert_array_almost_equal(tans, u[0])\n",
    "print('Test case passed!!!')"
   ]
  },
  {
   "cell_type": "code",
   "execution_count": null,
   "metadata": {
    "deletable": false,
    "editable": false,
    "nbgrader": {
     "checksum": "677337c5488c79c5cfa752f5beda17d9",
     "grade": true,
     "grade_id": "cell-ed54ca3d904eb16a",
     "locked": true,
     "points": 1,
     "schema_version": 1,
     "solution": false
    }
   },
   "outputs": [],
   "source": [
    "# Run this test cell to check your code\n",
    "# Do not delete this cell\n",
    "# 1 mark\n",
    "# Unit test\n",
    "dx = 0.01\n",
    "dt = 0.01\n",
    "N  = 2\n",
    "D  = 0.1\n",
    "nu = 1\n",
    "alpha = 0\n",
    "beta  = 0\n",
    "ic = lambda x: np.sin(8*np.pi*x) \n",
    "u, xx, tt = heatEqn(dt, dx, N, ic, D, alpha, beta, nu)\n",
    "tans = np.array(  [ 0.       ,  2.4511655, -0.1252406, -0.0825335, -0.0346406,\n",
    "                    0.015429 ,  0.064529 ,  0.1095745,  0.1477351,  0.1766128,\n",
    "                    0.1943934,  0.1999595,  0.1929614,  0.1738388,  0.1437933,\n",
    "                    0.1047128,  0.0590527,  0.0096822, -0.0402967, -0.0877437,\n",
    "                   -0.1296773, -0.1634629, -0.1869775, -0.1987436, -0.1980219,\n",
    "                   -0.1848578, -0.1600783, -0.1252406, -0.0825335, -0.0346406,\n",
    "                    0.015429 ,  0.064529 ,  0.1095745,  0.1477351,  0.1766128,\n",
    "                    0.1943934,  0.1999595,  0.1929614,  0.1738388,  0.1437933,\n",
    "                    0.1047128,  0.0590527,  0.0096822, -0.0402967, -0.0877437,\n",
    "                   -0.1296773, -0.1634629, -0.1869775, -0.1987436, -0.1980219,\n",
    "                   -0.1848578, -0.1600783, -0.1252406, -0.0825335, -0.0346406,\n",
    "                    0.015429 ,  0.064529 ,  0.1095745,  0.1477351,  0.1766128,\n",
    "                    0.1943934,  0.1999595,  0.1929614,  0.1738388,  0.1437933,\n",
    "                    0.1047128,  0.0590527,  0.0096822, -0.0402967, -0.0877437,\n",
    "                   -0.1296773, -0.1634629, -0.1869775, -0.1987436, -0.1980219,\n",
    "                   -0.1848578, -0.1600783, -0.1252406, -0.0825335, -0.0346406,\n",
    "                    0.015429 ,  0.064529 ,  0.1095745,  0.1477351,  0.1766128,\n",
    "                    0.1943934,  0.1999595,  0.1929614,  0.1738388,  0.1437933,\n",
    "                    0.1047128,  0.0590527,  0.0096822, -0.0402967, -0.0877437,\n",
    "                   -0.1296773, -0.1634629, -0.1869775, -0.1987436,  2.164532 ,\n",
    "                    0.       ])\n",
    "nt.assert_array_almost_equal(tans, u[-1])\n",
    "print('Test case passed!!!')"
   ]
  },
  {
   "cell_type": "code",
   "execution_count": null,
   "metadata": {
    "deletable": false,
    "editable": false,
    "nbgrader": {
     "checksum": "035bce15b36805972ea3d5aedaa835d4",
     "grade": true,
     "grade_id": "cell-a0c2c18a5c9c871e",
     "locked": true,
     "points": 8,
     "schema_version": 1,
     "solution": false
    }
   },
   "outputs": [],
   "source": [
    "# Hidden test\n",
    "# No output will be produced\n",
    "# 8 marks"
   ]
  },
  {
   "cell_type": "markdown",
   "metadata": {
    "deletable": false,
    "editable": false,
    "nbgrader": {
     "checksum": "89233aa369c2464f3cd059397bd75b6b",
     "grade": false,
     "grade_id": "cell-e008904e1d42a836",
     "locked": true,
     "schema_version": 1,
     "solution": false
    }
   },
   "source": [
    "## Question 2\n",
    "\n",
    "Using your solution for Question 1, plot the profile of each time step on the same set of axes, given the following inputs (be sure to use a legend indicating which interation and curve is which):"
   ]
  },
  {
   "cell_type": "code",
   "execution_count": null,
   "metadata": {
    "deletable": false,
    "editable": false,
    "nbgrader": {
     "checksum": "e05b84190feb312fdb646eb59092d147",
     "grade": false,
     "grade_id": "cell-140c3808392f1368",
     "locked": true,
     "schema_version": 1,
     "solution": false
    }
   },
   "outputs": [],
   "source": [
    "dx    = 0.01\n",
    "dt    = 0.01\n",
    "N     = 2\n",
    "D     = 0.1\n",
    "nu    = 1\n",
    "alpha = 0\n",
    "beta  = 0\n",
    "ic    = lambda x: np.sin(8*np.pi*x) "
   ]
  },
  {
   "cell_type": "code",
   "execution_count": null,
   "metadata": {
    "deletable": false,
    "nbgrader": {
     "checksum": "6a0a6c90a76a4dce082152ed63e4cf6b",
     "grade": true,
     "grade_id": "cell-c883b239da7821fb",
     "locked": false,
     "points": 5,
     "schema_version": 1,
     "solution": true
    }
   },
   "outputs": [],
   "source": [
    "# YOUR CODE HERE\n",
    "raise NotImplementedError()"
   ]
  },
  {
   "cell_type": "markdown",
   "metadata": {
    "deletable": false,
    "editable": false,
    "nbgrader": {
     "checksum": "0513b9f8125aa11f4872fe4e2253d54c",
     "grade": false,
     "grade_id": "cell-3834f2e8bb9a0eef",
     "locked": true,
     "schema_version": 1,
     "solution": false
    }
   },
   "source": [
    "## Question 3\n",
    "\n",
    "Using your solution for Question 1, plot the 3D surface plot for eacg of the following $\\nu$ values = 1, 10, 100, given the following inputs:"
   ]
  },
  {
   "cell_type": "code",
   "execution_count": null,
   "metadata": {
    "deletable": false,
    "editable": false,
    "nbgrader": {
     "checksum": "10b83da25f1b71080c4c5fd255e74e53",
     "grade": false,
     "grade_id": "cell-1d1a13889b2c1e91",
     "locked": true,
     "schema_version": 1,
     "solution": false
    }
   },
   "outputs": [],
   "source": [
    "dx    = 0.01\n",
    "dt    = 0.01\n",
    "N     = 2\n",
    "D     = 0.1\n",
    "nu    = [1, 10, 100]\n",
    "alpha = 0\n",
    "beta  = 0\n",
    "ic    = lambda x: np.sin(8*np.pi*x) "
   ]
  },
  {
   "cell_type": "code",
   "execution_count": null,
   "metadata": {
    "deletable": false,
    "nbgrader": {
     "checksum": "d942ae17b1a32b8493ae0cb82f9f8ad6",
     "grade": true,
     "grade_id": "cell-d982d69f37bce703",
     "locked": false,
     "points": 5,
     "schema_version": 1,
     "solution": true
    }
   },
   "outputs": [],
   "source": [
    "# YOUR CODE HERE\n",
    "raise NotImplementedError()"
   ]
  },
  {
   "cell_type": "markdown",
   "metadata": {
    "deletable": false,
    "editable": false,
    "nbgrader": {
     "checksum": "f37067bdd59f76e69500caff3cf8becf",
     "grade": false,
     "grade_id": "cell-15b72a97e9517b9a",
     "locked": true,
     "schema_version": 1,
     "solution": false
    }
   },
   "source": [
    "## Question 4\n",
    "\n",
    "Given the equation:\n",
    "$$\n",
    "\\frac{\\partial^{2} T}{\\partial r^{2}}+\\frac{1}{r} \\frac{\\partial T}{\\partial r}=\\frac{1}{4 K} \\frac{\\partial T}{\\partial t}, \\quad \\frac{1}{2} \\leq r \\leq 1, \\quad t \\geq 0,\n",
    "$$\n",
    "where:\n",
    "$$\n",
    "T\\left(\\frac{1}{2}, t\\right)=t, \\qquad T(1, t)=100+40 t, \\quad T(r, 0)=200(r-0.5) \n",
    "$$\n",
    "Write a function that uses central difference approximations for the spatial derivatives and a backward difference approximation for temporal derivatives. The function should take as inputs, the time step `dt`, the spatial step `dx`, a final temperature to approximate `tf`, and the diffusivity coefficient `K`. The function should return the matrix of solutions ended with the approximation at `tf`."
   ]
  },
  {
   "cell_type": "code",
   "execution_count": null,
   "metadata": {
    "deletable": false,
    "nbgrader": {
     "checksum": "473bd852e8877af31271c0627e87ed91",
     "grade": false,
     "grade_id": "cell-e9667e8a2d79fc1c",
     "locked": false,
     "schema_version": 1,
     "solution": true
    }
   },
   "outputs": [],
   "source": [
    "def heatEqnCylinder(dt, dx, tf, K):\n",
    "    # YOUR CODE HERE\n",
    "    raise NotImplementedError()\n"
   ]
  },
  {
   "cell_type": "code",
   "execution_count": null,
   "metadata": {
    "deletable": false,
    "editable": false,
    "nbgrader": {
     "checksum": "8542ce6acf43365812f832de586ed1db",
     "grade": true,
     "grade_id": "cell-6f5a61b1dfd92bcf",
     "locked": true,
     "points": 2,
     "schema_version": 1,
     "solution": false
    }
   },
   "outputs": [],
   "source": [
    "# Run this test cell to check your code\n",
    "# Do not delete this cell\n",
    "# 2 marks\n",
    "# Unit test\n",
    "dt   = 0.05\n",
    "dx   = 0.1\n",
    "tf   = 0.5\n",
    "K    = 0.1\n",
    "tans = np.array([  0.,  20.,  40.,  60.,  80., 100.])\n",
    "nt.assert_array_almost_equal(tans, heatEqnCylinder(dt, dx, tf, K)[0])\n",
    "print('Test case passed!!!')"
   ]
  },
  {
   "cell_type": "code",
   "execution_count": null,
   "metadata": {
    "deletable": false,
    "editable": false,
    "nbgrader": {
     "checksum": "06b9314564faea288a0c5c33f84a3092",
     "grade": true,
     "grade_id": "cell-18a7db46e7c8583d",
     "locked": true,
     "points": 2,
     "schema_version": 1,
     "solution": false
    }
   },
   "outputs": [],
   "source": [
    "# Run this test cell to check your code\n",
    "# Do not delete this cell\n",
    "# 2 marks\n",
    "# Unit test\n",
    "dt   = 0.05\n",
    "dx   = 0.1\n",
    "tf   = 0.5\n",
    "K    = 0.1\n",
    "tans = np.array([  0.5      ,  30.2410464,  55.7128268,  78.2598203,  98.806032 ,120.       ])\n",
    "nt.assert_array_almost_equal(tans, heatEqnCylinder(dt, dx, tf, K)[-1])\n",
    "print('Test case passed!!!')"
   ]
  },
  {
   "cell_type": "code",
   "execution_count": null,
   "metadata": {
    "deletable": false,
    "editable": false,
    "nbgrader": {
     "checksum": "7926482192fb80fdeaefaf59724d5d22",
     "grade": true,
     "grade_id": "cell-045f57e89aeb4189",
     "locked": true,
     "points": 11,
     "schema_version": 1,
     "solution": false
    }
   },
   "outputs": [],
   "source": [
    "# Hidden test\n",
    "# No output will be produced\n",
    "# 11 marks"
   ]
  },
  {
   "cell_type": "markdown",
   "metadata": {
    "deletable": false,
    "editable": false,
    "nbgrader": {
     "checksum": "acced91a090e359d85b83997c88a7302",
     "grade": false,
     "grade_id": "cell-3239a8b1e9d87b82",
     "locked": true,
     "schema_version": 1,
     "solution": false
    }
   },
   "source": [
    "## Question 5\n",
    "\n",
    "Repurpose your solution in Question 4 and perform a surface plot on the given inputs:\n"
   ]
  },
  {
   "cell_type": "code",
   "execution_count": null,
   "metadata": {
    "deletable": false,
    "editable": false,
    "nbgrader": {
     "checksum": "c55c9349dcebf1ececbdb50c4a7d3dc7",
     "grade": false,
     "grade_id": "cell-171d2b4373855eed",
     "locked": true,
     "schema_version": 1,
     "solution": false
    }
   },
   "outputs": [],
   "source": [
    "dt = 0.05\n",
    "dx = 0.1\n",
    "tf = 0.5\n",
    "K  = 0.1\n",
    "u  = heatEqnCylinder(dt, dx, tf, K)"
   ]
  },
  {
   "cell_type": "code",
   "execution_count": null,
   "metadata": {
    "deletable": false,
    "nbgrader": {
     "checksum": "0827f8aea68dc20e019c1beecef26e88",
     "grade": true,
     "grade_id": "cell-b7d28306793e0576",
     "locked": false,
     "points": 5,
     "schema_version": 1,
     "solution": true
    }
   },
   "outputs": [],
   "source": [
    "# YOUR CODE HERE\n",
    "raise NotImplementedError()"
   ]
  }
 ],
 "metadata": {
  "kernelspec": {
   "display_name": "Python 3",
   "language": "python",
   "name": "python3"
  },
  "language_info": {
   "codemirror_mode": {
    "name": "ipython",
    "version": 3
   },
   "file_extension": ".py",
   "mimetype": "text/x-python",
   "name": "python",
   "nbconvert_exporter": "python",
   "pygments_lexer": "ipython3",
   "version": "3.7.3"
  }
 },
 "nbformat": 4,
 "nbformat_minor": 2
}
