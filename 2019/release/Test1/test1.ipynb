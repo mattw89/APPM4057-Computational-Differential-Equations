{
 "cells": [
  {
   "cell_type": "code",
   "execution_count": null,
   "metadata": {},
   "outputs": [],
   "source": [
    "# Initialisation Cell\n",
    "# You should always put imported modules here\n",
    "from math import *\n",
    "import numpy as np\n",
    "import numpy.testing as nt\n",
    "import numpy.linalg as LA\n",
    "from matplotlib import pyplot as plt\n",
    "np.set_printoptions(suppress=True, precision=7)"
   ]
  },
  {
   "cell_type": "markdown",
   "metadata": {
    "deletable": false,
    "editable": false,
    "nbgrader": {
     "checksum": "c35e3ff63cb1ec8fa911a6a2f13b1a1e",
     "grade": false,
     "grade_id": "cell-f88fea7cef2649c6",
     "locked": true,
     "schema_version": 1,
     "solution": false
    }
   },
   "source": [
    "# CDES Honours - Test 1\n",
    "\n",
    "\n",
    "## Instructions\n",
    "\n",
    "* Read all the instructions carefully.\n",
    "* The test consists of **50 Marks**, with **two** hours available.\n",
    "* The written section is to be answered in the book provided.\n",
    "* You must only access Moodle tests and NOT Moodle.\n",
    "* The programming section is to be answered within this Jupyter notebook and resubmitted to Moodle.\n",
    "* Do not rename the notebook, simply answer the questions and resubmit the file to Moodle.\n",
    "* The moodle submission link will expire at exactly **11:15** and **NO** late submission will be accepted. Please make sure you submit timeously!\n",
    "* You may use the **Numpy** help file at: https://docs.scipy.org/doc/numpy-1.15.4/reference/\n",
    "* **NB!!!** Anyone caught using Moodle (and its file storing), flash drives or external notes will be awarded zero and reported to the legal office."
   ]
  },
  {
   "cell_type": "markdown",
   "metadata": {
    "deletable": false,
    "editable": false,
    "nbgrader": {
     "checksum": "1ae5a65d1f61948f4dd5931cc6cee088",
     "grade": false,
     "grade_id": "cell-edf1cfb9194ed999",
     "locked": true,
     "schema_version": 1,
     "solution": false
    }
   },
   "source": [
    "## Written Section\n",
    "\n",
    "* Answer the following questions in the answer book provided.\n",
    "\n",
    "\n",
    "### Question 1 (15 Marks)\n",
    "\n",
    "\n",
    "1. Consider the following equation:\n",
    "$$\n",
    "v_t = a v_{xx}.\n",
    "$$\n",
    "\n",
    "    1. Set up an **implicit** scheme using a forward difference approximation for time and a Crank-Nicolson difference approximation for the spatial variable. (5 marks)\n",
    "    2. Using the von Neumann stability analysis, discuss the stability of the scheme given in (A). You may assume that $a >0$. (10 marks)\n",
    "    \n",
    "### Question 2 (5 Marks)\n",
    "\n",
    "2. Given the equation produced by the operation $P = \\dfrac{\\partial}{\\partial t} + \\alpha\\dfrac{\\partial}{\\partial x}$:\n",
    "\n",
    "$$\n",
    "Pu = u_t + \\alpha u_{x}, \\qquad \\alpha > 0.\n",
    "$$\n",
    "\n",
    "Evaluate the consistency of the FTFS scheme with the difference operator $P_{\\Delta t, \\Delta x}$.\n"
   ]
  },
  {
   "cell_type": "markdown",
   "metadata": {
    "deletable": false,
    "editable": false,
    "nbgrader": {
     "checksum": "8a49f75b147546310c4220b1f5677b5a",
     "grade": false,
     "grade_id": "cell-8d0b2b333cc0caf3",
     "locked": true,
     "schema_version": 1,
     "solution": false
    }
   },
   "source": [
    "## Programming Section \n",
    "\n",
    "### Question 1\n",
    "\n",
    "Given the heat equation where:\n",
    "$$\n",
    "u_t = u_{xx}, \\quad 0 < x < 1, \\quad t \\geq 0, \\quad u(0, t) = u(1, t) = 0, \\quad u(x, 0) = \\sin(\\pi x),\n",
    "$$\n",
    "and:\n",
    "$$\n",
    "\\Delta x = 0.1, \\quad \\Delta t = 0.0005.\n",
    "$$\n",
    "Note: the analytical solution is:\n",
    "$$\n",
    "u(x, t) = e^{-\\pi^2 t}\\sin(\\pi x)\n",
    "$$\n",
    "\n",
    "Implement an FTCS scheme to find an approximation at $t = 0.5$. The function should return the solution matrix $U$.\n"
   ]
  },
  {
   "cell_type": "code",
   "execution_count": null,
   "metadata": {
    "deletable": false,
    "nbgrader": {
     "checksum": "c165af7d270727d201b17d1ac56e572c",
     "grade": false,
     "grade_id": "cell-0dbefe2a1ec6fa65",
     "locked": false,
     "schema_version": 1,
     "solution": true
    }
   },
   "outputs": [],
   "source": [
    "def heat_eq(dt, dx, tf, f, D, alpha, beta):\n",
    "    # YOUR CODE HERE\n",
    "    raise NotImplementedError()"
   ]
  },
  {
   "cell_type": "code",
   "execution_count": null,
   "metadata": {
    "deletable": false,
    "editable": false,
    "nbgrader": {
     "checksum": "2aed94a2b9effd0e38bc519b8de28acd",
     "grade": true,
     "grade_id": "cell-1cecedc20bff111f",
     "locked": true,
     "points": 1,
     "schema_version": 1,
     "solution": false
    }
   },
   "outputs": [],
   "source": [
    "# Run this test cell to check your code\n",
    "# Do not delete this cell\n",
    "# 1 mark\n",
    "# Unit test\n",
    "dx    = 0.1\n",
    "dt    = 0.005\n",
    "tf    = 0.5\n",
    "f     = lambda x: np.sin(np.pi * x) \n",
    "D     = 1\n",
    "alpha = 0\n",
    "beta  = 0\n",
    "tans  = np.array([0.       , 0.309017 , 0.5877853, 0.809017 , 0.9510565, 1.       ,\n",
    "                  0.9510565, 0.809017 , 0.5877853, 0.309017 , 0.       ])\n",
    "ans   = heat_eq(dt, dx, tf, f, D, alpha, beta)\n",
    "nt.assert_array_almost_equal(tans, ans[0])\n",
    "print('Test case passed!!!')"
   ]
  },
  {
   "cell_type": "code",
   "execution_count": null,
   "metadata": {
    "deletable": false,
    "editable": false,
    "nbgrader": {
     "checksum": "dd4959a42acf1c143097ee58a85eebc0",
     "grade": true,
     "grade_id": "cell-f4fc955c9d57585a",
     "locked": true,
     "points": 9,
     "schema_version": 1,
     "solution": false
    }
   },
   "outputs": [],
   "source": [
    "# Hidden test\n",
    "# No output will be produced\n",
    "# 9 marks"
   ]
  },
  {
   "cell_type": "markdown",
   "metadata": {
    "deletable": false,
    "editable": false,
    "nbgrader": {
     "checksum": "97db8b11b2f76a825443f199d8a35b0b",
     "grade": false,
     "grade_id": "cell-cd569b4bdd821e8e",
     "locked": true,
     "schema_version": 1,
     "solution": false
    }
   },
   "source": [
    "### Question 2\n",
    "\n",
    "Implement a Crank-Nicolson scheme on the heat equation given in Question 1 and find an approximation to $t = 0.5$. The function should return the solution matrix $U$.\n"
   ]
  },
  {
   "cell_type": "code",
   "execution_count": null,
   "metadata": {
    "deletable": false,
    "nbgrader": {
     "checksum": "82fbedb7ed68686c00a9e5dcdb48a4a8",
     "grade": false,
     "grade_id": "cell-587bca95350529d1",
     "locked": false,
     "schema_version": 1,
     "solution": true
    }
   },
   "outputs": [],
   "source": [
    "def crankNicolson(dt, dx, tf, f, D, alpha, beta):\n",
    "    # YOUR CODE HERE\n",
    "    raise NotImplementedError()"
   ]
  },
  {
   "cell_type": "code",
   "execution_count": null,
   "metadata": {
    "deletable": false,
    "editable": false,
    "nbgrader": {
     "checksum": "3af9dbbb92cb73253eb9cf69fac990ff",
     "grade": true,
     "grade_id": "cell-107dc991ce9e3f86",
     "locked": true,
     "points": 1,
     "schema_version": 1,
     "solution": false
    }
   },
   "outputs": [],
   "source": [
    "# Run this test cell to check your code\n",
    "# Do not delete this cell\n",
    "# 1 mark\n",
    "# Unit test\n",
    "dx    = 0.1\n",
    "dt    = 0.005\n",
    "tf    = 0.5\n",
    "f     = lambda x: np.sin(np.pi * x) \n",
    "D     = 1\n",
    "alpha = 0\n",
    "beta  = 0\n",
    "tans  = np.array([0.       , 0.309017 , 0.5877853, 0.809017 , 0.9510565, 1.       ,\n",
    "                  0.9510565, 0.809017 , 0.5877853, 0.309017 , 0.       ])\n",
    "ans   = crankNicolson(dt, dx, tf, f, D, alpha, beta)\n",
    "nt.assert_array_almost_equal(tans, ans[0])\n",
    "print('Test case passed!!!')"
   ]
  },
  {
   "cell_type": "code",
   "execution_count": null,
   "metadata": {
    "deletable": false,
    "editable": false,
    "nbgrader": {
     "checksum": "4fe551acb0617f0264ff9c4801db156e",
     "grade": true,
     "grade_id": "cell-f6fcf1058afb0340",
     "locked": true,
     "points": 9,
     "schema_version": 1,
     "solution": false
    }
   },
   "outputs": [],
   "source": [
    "# Hidden test\n",
    "# No output will be produced\n",
    "# 9 marks"
   ]
  },
  {
   "cell_type": "markdown",
   "metadata": {
    "deletable": false,
    "editable": false,
    "nbgrader": {
     "checksum": "d0841ccbffefd3430afd694658143b39",
     "grade": false,
     "grade_id": "cell-55fde39746f66279",
     "locked": true,
     "schema_version": 1,
     "solution": false
    }
   },
   "source": [
    "### Question 3\n",
    "\n",
    "1. Write a function which computes the absolute error and relative error (across the whole vector) at the final time `tf` of the two schemes in Questions 1 and 2. The function should also compute the norm at `tf` of the absolute difference between the approximate solution (of each scheme) and the true solution. The function should return 6 outputs, namely; `errExpAbs, errExpRel, errCNAbs, errCNRel, normExp, normCN`.\n",
    "\n"
   ]
  },
  {
   "cell_type": "code",
   "execution_count": null,
   "metadata": {
    "deletable": false,
    "nbgrader": {
     "checksum": "1d8125ef0d208fbcdd668f8c23de466e",
     "grade": false,
     "grade_id": "cell-8aa4ba40059ed31f",
     "locked": false,
     "schema_version": 1,
     "solution": true
    }
   },
   "outputs": [],
   "source": [
    "dx    = 0.1\n",
    "dt    = 0.005\n",
    "tf    = 0.5\n",
    "f     = lambda x: np.sin(np.pi * x) \n",
    "D     = 1\n",
    "alpha = 0\n",
    "beta  = 0\n",
    "\n",
    "def errorFunction():\n",
    "    # YOUR CODE HERE\n",
    "    raise NotImplementedError()"
   ]
  },
  {
   "cell_type": "code",
   "execution_count": null,
   "metadata": {
    "deletable": false,
    "editable": false,
    "nbgrader": {
     "checksum": "2ef6075fb1d886256b0f31329ee89735",
     "grade": true,
     "grade_id": "cell-b1824c2d2b507320",
     "locked": true,
     "points": 1,
     "schema_version": 1,
     "solution": false
    }
   },
   "outputs": [],
   "source": [
    "# Run this test cell to check your code\n",
    "# Do not delete this cell\n",
    "# 1 mark\n",
    "# Unit test\n",
    "ans   = errorFunction()\n",
    "# test output1 is vector\n",
    "assert(ans[0].shape[0] > 1)\n",
    "# test output2 is vector\n",
    "assert(ans[1].shape[0] > 1)\n",
    "# test output3 is vector\n",
    "assert(ans[2].shape[0] > 1)\n",
    "# test output4 is vector\n",
    "assert(ans[3].shape[0] > 1)\n",
    "# test output5 is scalar\n",
    "assert(ans[4].shape == ())\n",
    "# test output6 is scalar\n",
    "assert(ans[5].shape == ())\n",
    "print('Test case passed!!!')"
   ]
  },
  {
   "cell_type": "code",
   "execution_count": null,
   "metadata": {
    "deletable": false,
    "editable": false,
    "nbgrader": {
     "checksum": "6a833ffd56a7fb63ebc4b7a53d2fe9bc",
     "grade": true,
     "grade_id": "cell-7648629763573407",
     "locked": true,
     "points": 1,
     "schema_version": 1,
     "solution": false
    }
   },
   "outputs": [],
   "source": [
    "# Hidden test\n",
    "# No output will be produced\n",
    "# 1marks"
   ]
  },
  {
   "cell_type": "code",
   "execution_count": null,
   "metadata": {
    "deletable": false,
    "editable": false,
    "nbgrader": {
     "checksum": "e00861733a4c1a5f395d1542e301f884",
     "grade": true,
     "grade_id": "cell-bded96bd354558ff",
     "locked": true,
     "points": 1,
     "schema_version": 1,
     "solution": false
    }
   },
   "outputs": [],
   "source": [
    "# Hidden test\n",
    "# No output will be produced\n",
    "# 1 marks"
   ]
  },
  {
   "cell_type": "code",
   "execution_count": null,
   "metadata": {
    "deletable": false,
    "editable": false,
    "nbgrader": {
     "checksum": "2aff0b0c68c640d461b44cfd1bd8c499",
     "grade": true,
     "grade_id": "cell-231e1685f24f87b8",
     "locked": true,
     "points": 1,
     "schema_version": 1,
     "solution": false
    }
   },
   "outputs": [],
   "source": [
    "# Hidden test\n",
    "# No output will be produced\n",
    "# 1 marks"
   ]
  },
  {
   "cell_type": "code",
   "execution_count": null,
   "metadata": {
    "deletable": false,
    "editable": false,
    "nbgrader": {
     "checksum": "9fd7534dacc809d4ed105ef38a64d132",
     "grade": true,
     "grade_id": "cell-e29e2e535603db60",
     "locked": true,
     "points": 1,
     "schema_version": 1,
     "solution": false
    }
   },
   "outputs": [],
   "source": [
    "# Hidden test\n",
    "# No output will be produced\n",
    "# 1 marks"
   ]
  },
  {
   "cell_type": "code",
   "execution_count": null,
   "metadata": {
    "deletable": false,
    "editable": false,
    "nbgrader": {
     "checksum": "73298761943ac0f95eb3e024c21b35b8",
     "grade": true,
     "grade_id": "cell-1d5d79525191d64f",
     "locked": true,
     "points": 1,
     "schema_version": 1,
     "solution": false
    }
   },
   "outputs": [],
   "source": [
    "# Hidden test\n",
    "# No output will be produced\n",
    "# 1 marks"
   ]
  },
  {
   "cell_type": "code",
   "execution_count": null,
   "metadata": {
    "deletable": false,
    "editable": false,
    "nbgrader": {
     "checksum": "922e8400acd40805a2cc4b81520a62ed",
     "grade": true,
     "grade_id": "cell-97582bdb056a1180",
     "locked": true,
     "points": 1,
     "schema_version": 1,
     "solution": false
    }
   },
   "outputs": [],
   "source": [
    "# Hidden test\n",
    "# No output will be produced\n",
    "# 1 marks"
   ]
  },
  {
   "cell_type": "markdown",
   "metadata": {
    "deletable": false,
    "editable": false,
    "nbgrader": {
     "checksum": "e4abd6885209d4ed5751a731ce7a91eb",
     "grade": false,
     "grade_id": "cell-2462c299c32ce0c2",
     "locked": true,
     "schema_version": 1,
     "solution": false
    }
   },
   "source": [
    "2. Using the information of Question 3(1), plot the absolute and relative errors for both schemes on the same set of axis."
   ]
  },
  {
   "cell_type": "code",
   "execution_count": null,
   "metadata": {
    "deletable": false,
    "nbgrader": {
     "checksum": "7daf7a89cefc33ad9f03d6120810fac6",
     "grade": true,
     "grade_id": "cell-0f0850ce96969a59",
     "locked": false,
     "points": 3,
     "schema_version": 1,
     "solution": true
    }
   },
   "outputs": [],
   "source": [
    "# 3 marks\n",
    "# YOUR CODE HERE\n",
    "raise NotImplementedError()"
   ]
  }
 ],
 "metadata": {
  "kernelspec": {
   "display_name": "Python 3",
   "language": "python",
   "name": "python3"
  },
  "language_info": {
   "codemirror_mode": {
    "name": "ipython",
    "version": 3
   },
   "file_extension": ".py",
   "mimetype": "text/x-python",
   "name": "python",
   "nbconvert_exporter": "python",
   "pygments_lexer": "ipython3",
   "version": "3.7.4"
  }
 },
 "nbformat": 4,
 "nbformat_minor": 2
}
