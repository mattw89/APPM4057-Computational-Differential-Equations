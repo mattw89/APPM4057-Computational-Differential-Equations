{
 "cells": [
  {
   "cell_type": "code",
   "execution_count": null,
   "metadata": {},
   "outputs": [],
   "source": [
    "# Initialisation Cell\n",
    "# You should always put imported modules here\n",
    "import numpy as np\n",
    "import numpy.testing as nt\n",
    "import numpy.linalg as LA\n",
    "from matplotlib import pyplot as plt\n",
    "np.set_printoptions(suppress=True, precision=7)"
   ]
  },
  {
   "cell_type": "markdown",
   "metadata": {
    "deletable": false,
    "editable": false,
    "nbgrader": {
     "checksum": "470daa083cd1314779402a99a65b1caf",
     "grade": false,
     "grade_id": "cell-843e154fe98626da",
     "locked": true,
     "schema_version": 1,
     "solution": false
    }
   },
   "source": [
    "# CDES Honours - Lab 1\n",
    "\n",
    "\n",
    "## Instructions\n",
    "\n",
    "* Read all the instructions carefully.\n",
    "* Do not rename the notebook, simply answer the questions and resubmit the file to Moodle.\n",
    "* **Numpy** has a help file for every function if you get stuck. See: https://docs.scipy.org/doc/numpy-1.15.4/reference/\n",
    "* See these useful links:\n",
    "    * https://docs.scipy.org/doc/numpy/user/numpy-for-matlab-users.html\n",
    "    * https://docs.scipy.org/doc/numpy/user/quickstart.html\n",
    "* **Numpy** is not always required.\n",
    "* There are also numerous sources available on the internet, Google is your friend!"
   ]
  },
  {
   "cell_type": "markdown",
   "metadata": {
    "deletable": false,
    "editable": false,
    "nbgrader": {
     "checksum": "455b73eb929c3eec29dcebdea75ea04f",
     "grade": false,
     "grade_id": "cell-4eb27b5e5edd3b7d",
     "locked": true,
     "schema_version": 1,
     "solution": false
    }
   },
   "source": [
    "# Warm-up Exercises\n",
    "\n",
    "Complete the following warm-up tasks without the use of numpy.\n",
    "\n",
    "## Question 1\n",
    "\n",
    "Write a function which takes in a matrix and computes the absolute difference between the sums of its diagonals (i.e. left-to-right and right-to-left)."
   ]
  },
  {
   "cell_type": "code",
   "execution_count": null,
   "metadata": {
    "deletable": false,
    "nbgrader": {
     "checksum": "bf53af7d7b83d76948309f5d0bd3ee35",
     "grade": false,
     "grade_id": "cell-3ac1b7539439cad0",
     "locked": false,
     "schema_version": 1,
     "solution": true
    }
   },
   "outputs": [],
   "source": [
    "def diagonalDifference(arr):\n",
    "    # YOUR CODE HERE\n",
    "    raise NotImplementedError()\n",
    "    \n"
   ]
  },
  {
   "cell_type": "code",
   "execution_count": null,
   "metadata": {
    "deletable": false,
    "editable": false,
    "nbgrader": {
     "checksum": "103f5e3c36355fb43b0a7671c09916f1",
     "grade": true,
     "grade_id": "cell-e6927b4b248aa48d",
     "locked": true,
     "points": 1,
     "schema_version": 1,
     "solution": false
    }
   },
   "outputs": [],
   "source": [
    "# Run this test cell to check your code\n",
    "# Do not delete this cell\n",
    "# 1 mark\n",
    "# Unit test\n",
    "test =  [[11, 2,   4],\n",
    "         [4,  5,   6],\n",
    "         [10, 8, -12]]\n",
    "\n",
    "assert(diagonalDifference(test) == 15)\n",
    "print('Test case passed!!!')"
   ]
  },
  {
   "cell_type": "code",
   "execution_count": null,
   "metadata": {
    "deletable": false,
    "editable": false,
    "nbgrader": {
     "checksum": "2d25d6a7f27e789cad81af0890c9f905",
     "grade": true,
     "grade_id": "cell-290d5589a75e5222",
     "locked": true,
     "points": 4,
     "schema_version": 1,
     "solution": false
    }
   },
   "outputs": [],
   "source": [
    "# Hidden test\n",
    "# No output will be produced\n",
    "# 4 marks"
   ]
  },
  {
   "cell_type": "markdown",
   "metadata": {
    "deletable": false,
    "editable": false,
    "nbgrader": {
     "checksum": "246ade8444fbaea126ee38324f7074ac",
     "grade": false,
     "grade_id": "cell-f0f6665cadd779d6",
     "locked": true,
     "schema_version": 1,
     "solution": false
    }
   },
   "source": [
    "# Question 2\n",
    "\n",
    "Write a function that takes as input an array of integers. The function should compute the fractions of its elements that are positive, negative and are zeros. These fractions should be returned rounded to 4 decimal places."
   ]
  },
  {
   "cell_type": "code",
   "execution_count": null,
   "metadata": {
    "deletable": false,
    "nbgrader": {
     "checksum": "90c88ee57ecaa707c6733f3a78366e97",
     "grade": false,
     "grade_id": "cell-57cfe1c93be8c7c4",
     "locked": false,
     "schema_version": 1,
     "solution": true
    }
   },
   "outputs": [],
   "source": [
    "def plusMinus(arr):\n",
    "    # YOUR CODE HERE\n",
    "    raise NotImplementedError()\n"
   ]
  },
  {
   "cell_type": "code",
   "execution_count": null,
   "metadata": {
    "deletable": false,
    "editable": false,
    "nbgrader": {
     "checksum": "5719314880fd56270ae14a97b052669a",
     "grade": true,
     "grade_id": "cell-aa8ec8e474837f88",
     "locked": true,
     "points": 1,
     "schema_version": 1,
     "solution": false
    }
   },
   "outputs": [],
   "source": [
    "# Run this test cell to check your code\n",
    "# Do not delete this cell\n",
    "# 1 mark\n",
    "# Unit test\n",
    "arr = [-4, 3, -9, 0, 4, 1]\n",
    "nt.assert_array_almost_equal(plusMinus(arr),(0.5, 0.3333, 0.1667))\n",
    "print('Test case passed!!!')"
   ]
  },
  {
   "cell_type": "code",
   "execution_count": null,
   "metadata": {
    "deletable": false,
    "editable": false,
    "nbgrader": {
     "checksum": "b17720dac244ed9abecc0b8eb22f9fff",
     "grade": true,
     "grade_id": "cell-b407ab91621a8e55",
     "locked": true,
     "points": 4,
     "schema_version": 1,
     "solution": false
    }
   },
   "outputs": [],
   "source": [
    "# Hidden test\n",
    "# No output will be produced\n",
    "# 4 marks"
   ]
  },
  {
   "cell_type": "markdown",
   "metadata": {
    "deletable": false,
    "editable": false,
    "nbgrader": {
     "checksum": "17633d7b84ca5500ac9063c7c8937142",
     "grade": false,
     "grade_id": "cell-71ca135e9fe6a9e4",
     "locked": true,
     "schema_version": 1,
     "solution": false
    }
   },
   "source": [
    "# Question 3\n",
    "\n",
    "Write a function that takes as input a matrix and determines whether or not the matrix is symmetric. The function should return the strings `not symmetric` or `symmetric`. You may not use any obvious builtin function."
   ]
  },
  {
   "cell_type": "code",
   "execution_count": null,
   "metadata": {
    "deletable": false,
    "nbgrader": {
     "checksum": "ac2d824e3fb38d19cacb4eb5e12721e5",
     "grade": false,
     "grade_id": "cell-7dc873ee1e1ae80f",
     "locked": false,
     "schema_version": 1,
     "solution": true
    }
   },
   "outputs": [],
   "source": [
    "# Question 1\n",
    "def symCheck(A):\n",
    "    # YOUR CODE HERE\n",
    "    raise NotImplementedError()\n",
    "    "
   ]
  },
  {
   "cell_type": "code",
   "execution_count": null,
   "metadata": {
    "deletable": false,
    "editable": false,
    "nbgrader": {
     "checksum": "2fe1203dd6b55c63cb3db7b412147a28",
     "grade": true,
     "grade_id": "cell-f50586567f175f23",
     "locked": true,
     "points": 1,
     "schema_version": 1,
     "solution": false
    }
   },
   "outputs": [],
   "source": [
    "# Run this test cell to check your code\n",
    "# Do not delete this cell\n",
    "# 1 mark\n",
    "# Unit test\n",
    "A = np.array([[1, 2, 3], [2, 1, 3]])\n",
    "assert(symCheck(A) == 'not symmetric')\n",
    "print('Test case passed!!!')"
   ]
  },
  {
   "cell_type": "code",
   "execution_count": null,
   "metadata": {
    "deletable": false,
    "editable": false,
    "nbgrader": {
     "checksum": "58069fd99471d5c505bbd237057936cc",
     "grade": true,
     "grade_id": "cell-1a748bc0acde524d",
     "locked": true,
     "points": 1,
     "schema_version": 1,
     "solution": false
    }
   },
   "outputs": [],
   "source": [
    "# Run this test cell to check your code\n",
    "# Do not delete this cell\n",
    "# 1 mark\n",
    "# Unit test\n",
    "A = np.array([[1, 2, 3], [2, 1, 3],  [2, 1, 3]])\n",
    "assert(symCheck(A) == 'not symmetric')\n",
    "print('Test case passed!!!')"
   ]
  },
  {
   "cell_type": "code",
   "execution_count": null,
   "metadata": {
    "deletable": false,
    "editable": false,
    "nbgrader": {
     "checksum": "05558598e97d2b0f7223d24c71a0e66d",
     "grade": true,
     "grade_id": "cell-e46c86ccd91521b3",
     "locked": true,
     "points": 1,
     "schema_version": 1,
     "solution": false
    }
   },
   "outputs": [],
   "source": [
    "# Run this test cell to check your code\n",
    "# Do not delete this cell\n",
    "# 1 mark\n",
    "# Unit test\n",
    "A = np.array([[1, 2, 3], [2, 1, 3],  [3, 3, 3]])\n",
    "assert(symCheck(A) == 'symmetric')\n",
    "print('Test case passed!!!')"
   ]
  },
  {
   "cell_type": "code",
   "execution_count": null,
   "metadata": {
    "deletable": false,
    "editable": false,
    "nbgrader": {
     "checksum": "4c407fb33598a866c08c216d3895c698",
     "grade": true,
     "grade_id": "cell-915baceaa05a0dbb",
     "locked": true,
     "points": 3,
     "schema_version": 1,
     "solution": false
    }
   },
   "outputs": [],
   "source": [
    "# Hidden test\n",
    "# No output will be produced\n",
    "# 3 marks"
   ]
  },
  {
   "cell_type": "code",
   "execution_count": null,
   "metadata": {
    "deletable": false,
    "editable": false,
    "nbgrader": {
     "checksum": "18355cab5e403366092709d8b42fd34d",
     "grade": true,
     "grade_id": "cell-d2c1d23eded8be04",
     "locked": true,
     "points": 4,
     "schema_version": 1,
     "solution": false
    }
   },
   "outputs": [],
   "source": [
    "# Hidden test\n",
    "# No output will be produced\n",
    "# 4 marks"
   ]
  },
  {
   "cell_type": "markdown",
   "metadata": {
    "deletable": false,
    "editable": false,
    "nbgrader": {
     "checksum": "22a04a2c95c308ca8b2b212915da8b36",
     "grade": false,
     "grade_id": "cell-1b63af4455a9c70b",
     "locked": true,
     "schema_version": 1,
     "solution": false
    }
   },
   "source": [
    "# Question 4\n",
    "\n",
    "Write a function that takes in 3 inputs, a list of integers `a`, a integer `k`, and input `q` (which may be an integer or list). The function should rotate the array `a` `k` times. For example, if `ar =  [1, 2, 3]` and `k = 2`, then we rotate the array rightwards, resulting in `[2, 3, 1]`. THe function should then return the `q` indices of `ar`. Thus, in our example, in `q = [1, 2]`, then the function should return the array `[3, 1]`. "
   ]
  },
  {
   "cell_type": "code",
   "execution_count": null,
   "metadata": {
    "deletable": false,
    "nbgrader": {
     "checksum": "7d1d378b3ee717741fe29e7745232485",
     "grade": false,
     "grade_id": "cell-3052d86ef80162af",
     "locked": false,
     "schema_version": 1,
     "solution": true
    }
   },
   "outputs": [],
   "source": [
    "def indexRotation(a, k, q):\n",
    "    # YOUR CODE HERE\n",
    "    raise NotImplementedError()"
   ]
  },
  {
   "cell_type": "code",
   "execution_count": null,
   "metadata": {
    "deletable": false,
    "editable": false,
    "nbgrader": {
     "checksum": "5ce5b3f172dbfa0b807389c8f7874ac8",
     "grade": true,
     "grade_id": "cell-4731f7efad11bdee",
     "locked": true,
     "points": 1,
     "schema_version": 1,
     "solution": false
    }
   },
   "outputs": [],
   "source": [
    "# Run this test cell to check your code\n",
    "# Do not delete this cell\n",
    "# 1 mark\n",
    "# Unit test\n",
    "ar   = [1, 2, 3]\n",
    "k    = 2\n",
    "q    = [0, 1, 2] \n",
    "tans = [2, 3, 1]\n",
    "assert(tans == indexRotation(ar, k, q))\n",
    "print('Test case passed!!!')"
   ]
  },
  {
   "cell_type": "code",
   "execution_count": null,
   "metadata": {
    "deletable": false,
    "editable": false,
    "nbgrader": {
     "checksum": "9734134ab5f38bd720c5dbd7c9d0f0a2",
     "grade": true,
     "grade_id": "cell-66d317fdef2c8a9e",
     "locked": true,
     "points": 1,
     "schema_version": 1,
     "solution": false
    }
   },
   "outputs": [],
   "source": [
    "# Run this test cell to check your code\n",
    "# Do not delete this cell\n",
    "# 1 mark\n",
    "# Unit test\n",
    "ar   = [1, 2, 3]\n",
    "k    = 4\n",
    "q    = [0, 1, 2] \n",
    "tans = [3, 1, 2]\n",
    "assert(tans == indexRotation(ar, k, q))\n",
    "print('Test case passed!!!')"
   ]
  },
  {
   "cell_type": "code",
   "execution_count": null,
   "metadata": {
    "deletable": false,
    "editable": false,
    "nbgrader": {
     "checksum": "88de66d7c8c02ba97be09ea6954c1271",
     "grade": true,
     "grade_id": "cell-b1910c675e531b32",
     "locked": true,
     "points": 4,
     "schema_version": 1,
     "solution": false
    }
   },
   "outputs": [],
   "source": [
    "# Hidden test\n",
    "# No output will be produced\n",
    "# 4 marks"
   ]
  },
  {
   "cell_type": "markdown",
   "metadata": {
    "deletable": false,
    "editable": false,
    "nbgrader": {
     "checksum": "f8d7105f2e05701073c1149e507453ed",
     "grade": false,
     "grade_id": "cell-0d3d2ef141e2b09d",
     "locked": true,
     "schema_version": 1,
     "solution": false
    }
   },
   "source": [
    "## Main Exercises\n",
    "\n",
    "Complete the following problems:\n",
    "\n",
    "## Question 1\n",
    "\n",
    "Write a function implements a finite difference scheme to solve the heat equation. Specifically, the function should implement an implicit scheme which is backward difference in time and central difference in space. It should take as inputs a time step `dt`, a spatial step `dx`, a number of iterations to march forward in time `N`, the coefficient `D`, an initial function `f(x)` passed as a handle and boundary values `alpha` and `beta`. The function should output the solution space matrix `u`. Recall the heat equation problem as:\n",
    "$$\n",
    "u_{t} = Du_{xx},\\ \\ \\quad u(0, t) = \\alpha, \\ \\ u(1, t) = \\beta,\\ \\ \\qquad u(x, 0) = f(x) \n",
    "$$\n",
    "\n",
    "Note: the solution matrix here is matrix of all $x$ through time $t$. That is row one is at time zero and the matrix should have `N + 1` rows."
   ]
  },
  {
   "cell_type": "code",
   "execution_count": null,
   "metadata": {
    "deletable": false,
    "nbgrader": {
     "checksum": "092a432444e48b48c836040de60a0cb4",
     "grade": false,
     "grade_id": "cell-b274afb8bbf0527d",
     "locked": false,
     "schema_version": 1,
     "solution": true
    }
   },
   "outputs": [],
   "source": [
    "def heat_eq_matrix(dt, dx, N, f, D, alpha, beta):\n",
    "    # YOUR CODE HERE\n",
    "    raise NotImplementedError()\n",
    "\n"
   ]
  },
  {
   "cell_type": "code",
   "execution_count": null,
   "metadata": {
    "deletable": false,
    "editable": false,
    "nbgrader": {
     "checksum": "63dae8b279dada89d332f8a0d19dab9c",
     "grade": true,
     "grade_id": "cell-d1e357f3a78c090b",
     "locked": true,
     "points": 2,
     "schema_version": 1,
     "solution": false
    }
   },
   "outputs": [],
   "source": [
    "# Run this test cell to check your code\n",
    "# Do not delete this cell\n",
    "# 2 mark\n",
    "# Unit test\n",
    "D     = 1\n",
    "dx    = 0.05\n",
    "dt    = (dx**2)/(4*D)\n",
    "alpha = 0\n",
    "beta  = 0\n",
    "f     = lambda x: np.exp(-100*(x - 0.5)**2) \n",
    "N     = 30\n",
    "ans   = heat_eq_matrix(dt, dx, N, f, D, alpha, beta)\n",
    "t1    = np.array([0.       , 0.       , 0.0000001, 0.0000048, 0.0001234, 0.0019305,\n",
    "       0.0183156, 0.1053992, 0.3678794, 0.7788008, 1.       , 0.7788008,\n",
    "       0.3678794, 0.1053992, 0.0183156, 0.0019305, 0.0001234, 0.0000048,\n",
    "       0.0000001, 0.       , 0.       ])\n",
    "t2    = np.array([0.       , 0.0209475, 0.0452638, 0.0757908, 0.1142184, 0.1603843,\n",
    "       0.211701 , 0.26306  , 0.3075325, 0.3379146, 0.3487257, 0.3379146,\n",
    "       0.3075325, 0.26306  , 0.211701 , 0.1603843, 0.1142184, 0.0757908,\n",
    "       0.0452638, 0.0209475, 0.       ])\n",
    "\n",
    "nt.assert_array_almost_equal(ans[0, ::], t1, 5)\n",
    "nt.assert_array_almost_equal(ans[-1, ::], t2, 5)\n",
    "print('Test case passed!!!')"
   ]
  },
  {
   "cell_type": "code",
   "execution_count": null,
   "metadata": {
    "deletable": false,
    "editable": false,
    "nbgrader": {
     "checksum": "f6297cc68af11d4c3d6cdaa6cc13218e",
     "grade": true,
     "grade_id": "cell-2451db0239faa657",
     "locked": true,
     "points": 13,
     "schema_version": 1,
     "solution": false
    }
   },
   "outputs": [],
   "source": [
    "# Hidden test\n",
    "# No output will be produced\n",
    "# 13 marks"
   ]
  },
  {
   "cell_type": "markdown",
   "metadata": {
    "deletable": false,
    "editable": false,
    "nbgrader": {
     "checksum": "b2c951d618f9006312ec75f83b88cfd9",
     "grade": false,
     "grade_id": "cell-b74a28ca1fda7cc3",
     "locked": true,
     "schema_version": 1,
     "solution": false
    }
   },
   "source": [
    "## Question 2\n",
    "\n",
    "Write a function implements a finite difference scheme to solve the heat equation with Neumann boundary conditions. Specifically, the function should implement an explicit scheme which is forward difference in time and central difference in space. It should take as inputs a time step `dt`, a spatial step `dx`, a number of iterations to march forward in time `N`, the coefficient `D`, an initial function `f(x)` passed as a handle and boundary values `alpha` and `beta`. The function should output the solution space matrix `u`. Recall the heat equation problem as:\n",
    "$$\n",
    "u_{t} = Du_{xx},\\ \\ \\quad u_x(0, t) = \\alpha, \\ \\ u_x(1, t) = \\beta,\\ \\ \\qquad u(x, 0) = f(x) \n",
    "$$\n",
    "\n",
    "Note: the solution matrix here is matrix of all $x$ through time $t$. That is row one is at time zero and the matrix should have `N + 1` rows."
   ]
  },
  {
   "cell_type": "code",
   "execution_count": null,
   "metadata": {
    "deletable": false,
    "nbgrader": {
     "checksum": "d022d92ad18a8f7bcc4de2903e51d174",
     "grade": false,
     "grade_id": "cell-68752a06d6be3520",
     "locked": false,
     "schema_version": 1,
     "solution": true
    }
   },
   "outputs": [],
   "source": [
    "def heat_eq_matrix(dt, dx, N, f, D, alpha, beta):\n",
    "    # YOUR CODE HERE\n",
    "    raise NotImplementedError()\n"
   ]
  },
  {
   "cell_type": "code",
   "execution_count": null,
   "metadata": {
    "deletable": false,
    "editable": false,
    "nbgrader": {
     "checksum": "4d68bee519f4e78d6ac3595588bcd19d",
     "grade": true,
     "grade_id": "cell-198828b23835c862",
     "locked": true,
     "points": 2,
     "schema_version": 1,
     "solution": false
    }
   },
   "outputs": [],
   "source": [
    "# Run this test cell to check your code\n",
    "# Do not delete this cell\n",
    "# 2 mark\n",
    "# Unit test\n",
    "dx    = 0.05\n",
    "D     = 1 \n",
    "dt    = (dx**2)/(4*D)\n",
    "alpha = -0.5\n",
    "beta  = -0.5\n",
    "f     = lambda x: x*(1 - x)*(x - 0.5)\n",
    "N     = 50\n",
    "ans   = heat_eq_matrix(dt, dx, N, f, D, alpha, beta)\n",
    "t1    = np.array([-0.      , -0.021375, -0.036   , -0.044625, -0.048   , -0.046875,\n",
    "       -0.042   , -0.034125, -0.024   , -0.012375,  0.      ,  0.012375,\n",
    "        0.024   ,  0.034125,  0.042   ,  0.046875,  0.048   ,  0.044625,\n",
    "        0.036   ,  0.021375,  0.      ])\n",
    "t2    = np.array([ 0.0688784,  0.0461262,  0.0278104,  0.0137554,  0.0036763,\n",
    "       -0.002811 , -0.0061764, -0.0069613, -0.0057633, -0.003221 ,\n",
    "        0.       ,  0.003221 ,  0.0057633,  0.0069613,  0.0061764,\n",
    "        0.002811 , -0.0036763, -0.0137554, -0.0278104, -0.0461262,\n",
    "       -0.0688784])\n",
    "nt.assert_array_almost_equal(ans[0, ::], t1, 5)\n",
    "nt.assert_array_almost_equal(ans[-1, ::], t2, 5)\n",
    "print('Test case passed!!!')"
   ]
  },
  {
   "cell_type": "code",
   "execution_count": null,
   "metadata": {
    "deletable": false,
    "editable": false,
    "nbgrader": {
     "checksum": "1588000c84d2586aa5dea0c82c8e0749",
     "grade": true,
     "grade_id": "cell-82920529b11ad1b6",
     "locked": true,
     "points": 13,
     "schema_version": 1,
     "solution": false
    }
   },
   "outputs": [],
   "source": [
    "# Hidden test\n",
    "# No output will be produced\n",
    "# 13 marks"
   ]
  }
 ],
 "metadata": {
  "kernelspec": {
   "display_name": "Python 3",
   "language": "python",
   "name": "python3"
  },
  "language_info": {
   "codemirror_mode": {
    "name": "ipython",
    "version": 3
   },
   "file_extension": ".py",
   "mimetype": "text/x-python",
   "name": "python",
   "nbconvert_exporter": "python",
   "pygments_lexer": "ipython3",
   "version": "3.7.4"
  },
  "latex_envs": {
   "LaTeX_envs_menu_present": true,
   "autoclose": false,
   "autocomplete": false,
   "bibliofile": "biblio.bib",
   "cite_by": "apalike",
   "current_citInitial": 1,
   "eqLabelWithNumbers": true,
   "eqNumInitial": 1,
   "hotkeys": {
    "equation": "Ctrl-E",
    "itemize": "Ctrl-I"
   },
   "labels_anchors": false,
   "latex_user_defs": false,
   "report_style_numbering": false,
   "user_envs_cfg": false
  },
  "varInspector": {
   "cols": {
    "lenName": 16,
    "lenType": 16,
    "lenVar": 40
   },
   "kernels_config": {
    "python": {
     "delete_cmd_postfix": "",
     "delete_cmd_prefix": "del ",
     "library": "var_list.py",
     "varRefreshCmd": "print(var_dic_list())"
    },
    "r": {
     "delete_cmd_postfix": ") ",
     "delete_cmd_prefix": "rm(",
     "library": "var_list.r",
     "varRefreshCmd": "cat(var_dic_list()) "
    }
   },
   "types_to_exclude": [
    "module",
    "function",
    "builtin_function_or_method",
    "instance",
    "_Feature"
   ],
   "window_display": false
  }
 },
 "nbformat": 4,
 "nbformat_minor": 2
}
