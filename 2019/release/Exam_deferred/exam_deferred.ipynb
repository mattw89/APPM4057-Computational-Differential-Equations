{
 "cells": [
  {
   "cell_type": "code",
   "execution_count": null,
   "metadata": {
    "ExecuteTime": {
     "end_time": "2019-10-10T08:16:23.125172Z",
     "start_time": "2019-10-10T08:16:23.120370Z"
    }
   },
   "outputs": [],
   "source": [
    "# Initialisation Cell\n",
    "# You should always put imported modules here\n",
    "from math import *\n",
    "import numpy as np\n",
    "import numpy.testing as nt\n",
    "import numpy.linalg as LA\n",
    "import warnings\n",
    "warnings.filterwarnings(\"ignore\")\n",
    "from matplotlib import pyplot as plt\n",
    "np.set_printoptions(suppress=True, precision=7)"
   ]
  },
  {
   "cell_type": "markdown",
   "metadata": {
    "deletable": false,
    "editable": false,
    "nbgrader": {
     "checksum": "d5639bc259037d1eed342d0d43a1b093",
     "grade": false,
     "grade_id": "cell-82d884b198e7fbac",
     "locked": true,
     "schema_version": 1,
     "solution": false
    }
   },
   "source": [
    "# APPM4057  - November 2019\n",
    "\n",
    "# Exam Office Info\n",
    "\n",
    "| Examiner          | Name              |\n",
    "|-------------------|-------------------|\n",
    "| Internal Examiner | Prof B. A. Jacobs |\n",
    "| External Examiner | Prof N. Hale (Stellenbosch) |"
   ]
  },
  {
   "cell_type": "markdown",
   "metadata": {
    "deletable": false,
    "editable": false,
    "nbgrader": {
     "checksum": "eccbcbe02779da30d6a58f92e6a7ffb8",
     "grade": false,
     "grade_id": "cell-24f51178dd46731a",
     "locked": true,
     "schema_version": 1,
     "solution": false
    }
   },
   "source": [
    "# CDEs Honours - Exam Deferred\n",
    "\n",
    "## Instructions\n",
    "\n",
    "* Read all the instructions carefully.\n",
    "* The exam consists of **80 Marks**, with **three and a half** hours available.\n",
    "* The written section is to be answered in the book provided.\n",
    "* You must only access Moodle **TESTS** and NOT Moodle.\n",
    "* The programming section is to be answered within this Jupyter notebook and resubmitted to Moodle **TESTS**.\n",
    "* Do not rename the notebook, simply answer the questions and resubmit the file to Moodle.\n",
    "* The moodle submission link will expire at exactly **12:30** and **NO** late submission will be accepted. Please make sure you submit timeously!\n",
    "* The **Numpy** and **Matplotlib** documentation has been downloaded and is open on your current machine.\n",
    "* **NB!!!** Anyone caught using Moodle (and its file storing), flash drives or external notes will be awarded zero and reported to the legal office."
   ]
  },
  {
   "cell_type": "markdown",
   "metadata": {
    "deletable": false,
    "editable": false,
    "nbgrader": {
     "checksum": "ba5f16da7a5f18d229433aa6b59452ae",
     "grade": false,
     "grade_id": "cell-f3922cea15224a0b",
     "locked": true,
     "schema_version": 1,
     "solution": false
    }
   },
   "source": [
    "## Written Section\n",
    "\n",
    "* Answer the following questions in the answer book provided.\n",
    "\n",
    "### Question 1 - 10 Marks\n",
    "\n",
    "Discuss each of the below listed terms and their relation to one another (i.e. the theorem which describes this relationship):\n",
    "\n",
    "* Consistency,\n",
    "* Stability, \n",
    "* Convergence,\n",
    "\n",
    "Be sure to give potential methods of analysing consistency, stability and convergence of a  linear PDE."
   ]
  },
  {
   "cell_type": "markdown",
   "metadata": {
    "deletable": false,
    "editable": false,
    "nbgrader": {
     "checksum": "5e121563d57ed554d4f5688cc9c72430",
     "grade": false,
     "grade_id": "cell-89d8407775550faa",
     "locked": true,
     "schema_version": 1,
     "solution": false
    }
   },
   "source": [
    "### Question 2 - 10 Marks\n",
    "\n",
    "Analyse the stability of the given ADI scheme by taking the discrete Fourier Transform of the equation:\n",
    "$$\n",
    "u_{j, n}^{m+1 / 2}-u_{j, n}^{m}=\\frac{\\nu}{\\Delta x^{2}} A u_{j, n}^{m+1 / 2}+\\frac{\\nu}{\\Delta y^{2}} B u_{j, n}^{m},\n",
    "$$\n",
    "which can be rewritten as:\n",
    "$$\n",
    "\\left(1-\\frac{\\beta_{x}}{2} A\\right) u^{m+1 / 2}=\\left(1+\\frac{\\beta_{x}}{2} B\\right) u^{m+1 / 2},\n",
    "$$\n",
    "with $\\beta_x = \\frac{\\Delta t}{\\Delta x^2}$ and $\\beta_y = \\frac{\\Delta t}{\\Delta y^2}$."
   ]
  },
  {
   "cell_type": "markdown",
   "metadata": {
    "deletable": false,
    "editable": false,
    "nbgrader": {
     "checksum": "170a6f2019b700b378be4650a8ff7af6",
     "grade": false,
     "grade_id": "cell-ac67a8dc4d26c3cc",
     "locked": true,
     "schema_version": 1,
     "solution": false
    }
   },
   "source": [
    "### Question 3 - 10 Marks\n",
    "Verify that:\n",
    "$$\n",
    "\\left.\\frac{\\partial^{3} u}{\\partial x^{3}}\\right|_{i, j}=\\frac{\\delta_{+}^{3} u_{i, j}}{(\\Delta x)^{3}}+O(\\Delta x).\n",
    "$$\n",
    "(Hint: Taylor series)"
   ]
  },
  {
   "cell_type": "markdown",
   "metadata": {
    "deletable": false,
    "editable": false,
    "nbgrader": {
     "checksum": "f68db184f5d20a71a5089d2dd0971f54",
     "grade": false,
     "grade_id": "cell-f07079c053de3b2d",
     "locked": true,
     "schema_version": 1,
     "solution": false
    }
   },
   "source": [
    "### Question 4 - 10 Marks\n",
    "\n",
    "Consider the heat equation in cylindrical coordinates:\n",
    "$$\n",
    "u_{t}=\\frac{\\alpha}{r} \\frac{\\partial}{\\partial r}\\left(r \\frac{\\partial u}{\\partial r}\\right).\n",
    "$$\n",
    "(a) [8 Marks] Using a Lax-Wendroff scheme, set up an updating equation.\n",
    "\n",
    "(b) [2 Marks] Comment on ways in which the scheme could be improved."
   ]
  },
  {
   "cell_type": "markdown",
   "metadata": {
    "deletable": false,
    "editable": false,
    "nbgrader": {
     "checksum": "e46bfcb7f99f2c230864162c85bda183",
     "grade": false,
     "grade_id": "cell-e925576f7537249e",
     "locked": true,
     "schema_version": 1,
     "solution": false
    }
   },
   "source": [
    "## Programming Section \n",
    "\n",
    "### Question 1 - 15 Marks\n",
    "\n",
    "(a) [10 Marks] Consider the wave equation given by:\n",
    "$$\n",
    "u_{tt} = c^2u_{xx},\n",
    "$$\n",
    "$$\n",
    "u(x, 0) = x(1 - x), \\ \\ \\ u_t(x, 0) = 0, \\ \\ \\ u(0, t) = u(1, t) = 0.\n",
    "$$\n",
    "Write a function that implements a centered space, centered time scheme. Specifically, your function should take as inputs, the stepsizes `dx` and `dt`, the wave speed `c` (not squared valued), the number of iterations to perform `N` and the left and right endpoints `a`, `b`.\n",
    "\n",
    "Your function should return the solution matrix, containing the wave profile at each time iteration, i.e. `N + 1` rows."
   ]
  },
  {
   "cell_type": "code",
   "execution_count": null,
   "metadata": {
    "ExecuteTime": {
     "end_time": "2019-10-10T08:16:23.194797Z",
     "start_time": "2019-10-10T08:16:23.182961Z"
    },
    "deletable": false,
    "nbgrader": {
     "checksum": "9e64c7be35af7980a7e0b83a75153114",
     "grade": false,
     "grade_id": "cell-3a4c5c93d86fade5",
     "locked": false,
     "schema_version": 1,
     "solution": true
    }
   },
   "outputs": [],
   "source": [
    "def wave_eq(dx, dt, c, N, ic, a, b):\n",
    "    # YOUR CODE HERE\n",
    "    raise NotImplementedError()\n",
    "    "
   ]
  },
  {
   "cell_type": "code",
   "execution_count": null,
   "metadata": {
    "ExecuteTime": {
     "end_time": "2019-10-10T08:16:23.202188Z",
     "start_time": "2019-10-10T08:16:23.196282Z"
    },
    "deletable": false,
    "editable": false,
    "nbgrader": {
     "checksum": "cf0f6f84a7395529a24186e86ff99133",
     "grade": true,
     "grade_id": "cell-5b37460fed9e3ee6",
     "locked": true,
     "points": 1,
     "schema_version": 1,
     "solution": false
    }
   },
   "outputs": [],
   "source": [
    "# Run this test cell to check your code\n",
    "# Do not delete this cell\n",
    "# 1 mark\n",
    "# Unit test\n",
    "dx = 0.1\n",
    "c  = 0.2\n",
    "tf = 8 \n",
    "N  = 20\n",
    "dt = (tf - 0)/N\n",
    "a  = 0 \n",
    "b  = 1\n",
    "ic = lambda x: x*(1 - x)\n",
    "tans = np.array([0.  , 0.09, 0.16, 0.21, 0.24, 0.25, 0.24, 0.21, 0.16, 0.09, 0.  ])\n",
    "U = wave_eq(dx, dt, c, N, ic, a, b)\n",
    "nt.assert_array_almost_equal(tans, U[0, :])\n",
    "print('Test case passed!!!')"
   ]
  },
  {
   "cell_type": "code",
   "execution_count": null,
   "metadata": {
    "ExecuteTime": {
     "end_time": "2019-10-10T08:16:23.210032Z",
     "start_time": "2019-10-10T08:16:23.203776Z"
    },
    "deletable": false,
    "editable": false,
    "nbgrader": {
     "checksum": "4a7956a7a959a3ad96d2257c0c71ff74",
     "grade": true,
     "grade_id": "cell-0f3afb6ecec3131d",
     "locked": true,
     "points": 1,
     "schema_version": 1,
     "solution": false
    }
   },
   "outputs": [],
   "source": [
    "# Run this test cell to check your code\n",
    "# Do not delete this cell\n",
    "# 1 mark\n",
    "# Unit test\n",
    "dx = 0.1\n",
    "c  = 0.2\n",
    "tf = 8 \n",
    "N  = 20\n",
    "dt = (tf - 0)/N\n",
    "a  = 0 \n",
    "b  = 1\n",
    "ic = lambda x: x*(1 - x)\n",
    "tans = np.array([0.    , 0.0836, 0.1536, 0.2036, 0.2336, 0.2436, 0.2336, 0.2036,\n",
    "       0.1536, 0.    , 0.    ])\n",
    "U = wave_eq(dx, dt, c, N, ic, a, b)\n",
    "nt.assert_array_almost_equal(tans, U[1, :])\n",
    "print('Test case passed!!!')"
   ]
  },
  {
   "cell_type": "code",
   "execution_count": null,
   "metadata": {
    "ExecuteTime": {
     "end_time": "2019-10-10T08:16:23.219787Z",
     "start_time": "2019-10-10T08:16:23.211486Z"
    },
    "deletable": false,
    "editable": false,
    "nbgrader": {
     "checksum": "b49e01aa5d5124b6470bdfc9a4069996",
     "grade": true,
     "grade_id": "cell-b16950b5baa0878c",
     "locked": true,
     "points": 8,
     "schema_version": 1,
     "solution": false
    }
   },
   "outputs": [],
   "source": [
    "# Hidden test\n",
    "# No output will be produced\n",
    "# 8 marks"
   ]
  },
  {
   "cell_type": "markdown",
   "metadata": {
    "deletable": false,
    "editable": false,
    "nbgrader": {
     "checksum": "e97cfae95c4d4ac8b3fe35281d49f32d",
     "grade": false,
     "grade_id": "cell-671d1e5fad9b0d59",
     "locked": true,
     "schema_version": 1,
     "solution": false
    }
   },
   "source": [
    "(b) [5 Marks] Continuing with Question 1(a) above, given the input below, produce the 3D surface plot illustrating the evolution of the wave profile over time."
   ]
  },
  {
   "cell_type": "code",
   "execution_count": null,
   "metadata": {
    "ExecuteTime": {
     "end_time": "2019-10-10T08:16:23.250749Z",
     "start_time": "2019-10-10T08:16:23.221131Z"
    },
    "deletable": false,
    "editable": false,
    "nbgrader": {
     "checksum": "66d41859a627e0c788cdd40bc27f69a4",
     "grade": false,
     "grade_id": "cell-2b3a30518651f533",
     "locked": true,
     "schema_version": 1,
     "solution": false
    }
   },
   "outputs": [],
   "source": [
    "dx    = 0.001\n",
    "c     = 0.2\n",
    "tf    = 8 \n",
    "N     = 2000\n",
    "dt    = (tf - 0)/N\n",
    "a     = 0 \n",
    "b     = 1\n",
    "ic    = lambda x: x*(1 - x)\n",
    "xvals = np.linspace(a, b, int((b - a)/dx) + 1)\n",
    "U     = wave_eq(dx, dt, c, N, ic, a, b)"
   ]
  },
  {
   "cell_type": "code",
   "execution_count": null,
   "metadata": {
    "ExecuteTime": {
     "end_time": "2019-10-10T08:16:24.295940Z",
     "start_time": "2019-10-10T08:16:23.252074Z"
    },
    "deletable": false,
    "nbgrader": {
     "checksum": "c490ad7f35f991ec12db0d6fb649e0c0",
     "grade": true,
     "grade_id": "cell-c5c0ad22851f5520",
     "locked": false,
     "points": 5,
     "schema_version": 1,
     "solution": true
    }
   },
   "outputs": [],
   "source": [
    "# YOUR CODE HERE\n",
    "raise NotImplementedError()"
   ]
  },
  {
   "cell_type": "markdown",
   "metadata": {},
   "source": [
    "### Question 2 - 15 Marks\n",
    "\n",
    "Given the equation:\n",
    "$$\n",
    "\\frac{\\partial^{2} T}{\\partial r^{2}}+\\frac{1}{r} \\frac{\\partial T}{\\partial r}=\\frac{1}{4 K} \\frac{\\partial T}{\\partial t}, \\quad 0 \\leq r \\leq 1, \\quad t \\geq 0,\n",
    "$$\n",
    "where:\n",
    "$$\n",
    "T^\\prime\\left(0, t\\right)=0, \\qquad T(1, t)=100+40 t, \\quad T(r, 0)=200\\cos(r)\n",
    "$$\n",
    "\n",
    "\n",
    "(a) [10 Marks] Write a function which uses central difference approximations for the spatial derivatives and a backward difference approximation for temporal derivatives. The function should take as inputs, the time step `dt`, the spatial step `dr`, a final temperature to approximate `tf`, and the diffusivity coefficient `K`. The function should return the matrix of solutions ended with the approximation at `tf`."
   ]
  },
  {
   "cell_type": "code",
   "execution_count": null,
   "metadata": {
    "ExecuteTime": {
     "end_time": "2019-10-10T08:16:24.311371Z",
     "start_time": "2019-10-10T08:16:24.297392Z"
    },
    "deletable": false,
    "nbgrader": {
     "checksum": "be4c04660dbe17c6a746514355462f8a",
     "grade": false,
     "grade_id": "cell-c35fda8283403216",
     "locked": false,
     "schema_version": 1,
     "solution": true
    }
   },
   "outputs": [],
   "source": [
    "def heatEqnCylinderNBC(dt, dr, tf, K):\n",
    "    # YOUR CODE HERE\n",
    "    raise NotImplementedError()"
   ]
  },
  {
   "cell_type": "code",
   "execution_count": null,
   "metadata": {
    "ExecuteTime": {
     "end_time": "2019-10-10T08:16:24.365219Z",
     "start_time": "2019-10-10T08:16:24.313814Z"
    },
    "deletable": false,
    "editable": false,
    "nbgrader": {
     "checksum": "0697172517e34edeba32818c581c02b6",
     "grade": true,
     "grade_id": "cell-636f6cc16e5601dd",
     "locked": true,
     "points": 1,
     "schema_version": 1,
     "solution": false
    }
   },
   "outputs": [],
   "source": [
    "# Run this test cell to check your code\n",
    "# Do not delete this cell\n",
    "# 1 mark\n",
    "# Unit test\n",
    "dr = 0.01\n",
    "dt = 0.005\n",
    "K  = 0.1\n",
    "tf = 0.5\n",
    "u = heatEqnCylinderNBC(dt, dr, tf, K)\n",
    "tans = np.array([200.       , 199.9900001, 199.9600013, 199.9100067, 199.8400213,\n",
    "               199.7500521, 199.640108 , 199.5102001, 199.3603413, 199.1905466,\n",
    "               199.0008331, 198.7912196, 198.5617272, 198.3123787, 198.0431992,\n",
    "               197.7542156, 197.4454567, 197.1169534, 196.7687386, 196.400847 ,\n",
    "               196.0133156, 195.6061829, 195.1794899, 194.733279 , 194.267595 ,\n",
    "               193.7824843, 193.2779956, 192.7541793, 192.2110877, 191.6487751,\n",
    "               191.0672978, 190.466714 , 189.8470836, 189.2084687, 188.5509331,\n",
    "               187.8745426, 187.1793647, 186.4654691, 185.7329271, 184.981812 ,\n",
    "               184.2121988, 183.4241646, 182.6177881, 181.7931499, 180.9503326,\n",
    "               180.0894205, 179.2104995, 178.3136576, 177.3989846, 176.4665717,\n",
    "               175.5165124, 174.5489015, 173.5638359, 172.5614141, 171.5417363,\n",
    "               170.5049044, 169.4510222, 168.380195 , 167.29253  , 166.1881358,\n",
    "               165.067123 , 163.9296036, 162.7756913, 161.6055017, 160.4191516,\n",
    "               159.2167597, 157.9984463, 156.7643332, 155.5145438, 154.249203 ,\n",
    "               152.9684375, 151.6723752, 150.3611458, 149.0348805, 147.6937117,\n",
    "               146.3377738, 144.9672021, 143.5821339, 142.1827076, 140.7690631,\n",
    "               139.3413419, 137.8996866, 136.4442415, 134.975152 , 133.4925652,\n",
    "               131.9966292, 130.4874936, 128.9653094, 127.4302288, 125.8824053,\n",
    "               124.3219937, 122.7491499, 121.1640313, 119.5667965, 117.957605 ,\n",
    "               116.3366179, 114.7039972, 113.0599062, 111.4045094, 109.7379721,\n",
    "               100.       ])\n",
    "nt.assert_array_almost_equal(u[0, :], tans)\n",
    "print('Test case passed!!!')"
   ]
  },
  {
   "cell_type": "code",
   "execution_count": null,
   "metadata": {
    "ExecuteTime": {
     "end_time": "2019-10-10T08:16:24.418867Z",
     "start_time": "2019-10-10T08:16:24.366933Z"
    },
    "deletable": false,
    "editable": false,
    "nbgrader": {
     "checksum": "05bc10fec8eb72a0e76f389c5b0d1a75",
     "grade": true,
     "grade_id": "cell-73679076505cf89d",
     "locked": true,
     "points": 1,
     "schema_version": 1,
     "solution": false
    }
   },
   "outputs": [],
   "source": [
    "# Run this test cell to check your code\n",
    "# Do not delete this cell\n",
    "# 1 mark\n",
    "# Unit test\n",
    "dr = 0.01\n",
    "dt = 0.005\n",
    "K  = 0.1\n",
    "tf = 0.5\n",
    "u = heatEqnCylinderNBC(dt, dr, tf, K)\n",
    "tans = np.array([199.2194951, 199.1999825, 199.1671443, 199.1157272, 199.0449601,\n",
    "               198.954583 , 198.8444803, 198.7145953, 198.5649001, 198.3953835,\n",
    "               198.2060452, 197.996892 , 197.7679365, 197.5191955, 197.2506895,\n",
    "               196.962442 , 196.6544795, 196.326831 , 195.9795278, 195.6126038,\n",
    "               195.2260948, 194.8200389, 194.3944763, 193.9494491, 193.4850016,\n",
    "               193.00118  , 192.4980326, 191.9756095, 191.433963 , 190.873147 ,\n",
    "               190.2932177, 189.6942329, 189.0762525, 188.4393384, 187.783554 ,\n",
    "               187.108965 , 186.4156388, 185.7036446, 184.9730535, 184.2239387,\n",
    "               183.4563747, 182.6704383, 181.8662079, 181.0437636, 180.2031874,\n",
    "               179.3445631, 178.4679761, 177.5735134, 176.6612638, 175.7313178,\n",
    "               174.7837671, 173.8187054, 172.8362273, 171.8364292, 170.8194084,\n",
    "               169.7852636, 168.734094 , 167.6660001, 166.5810825, 165.4794421,\n",
    "               164.3611798, 163.2263957, 162.0751888, 160.9076564, 159.7238927,\n",
    "               158.5239885, 157.3080293, 156.0760939, 154.8282524, 153.5645634,\n",
    "               152.2850713, 150.9898021, 149.6787585, 148.3519142, 147.0092062,\n",
    "               145.6505255, 144.2757058, 142.8845087, 141.4766063, 140.0515588,\n",
    "               138.6087868, 137.1475373, 135.6668404, 134.1654569, 132.6418117,\n",
    "               131.0939118, 129.5192441, 127.914648 , 126.2761573, 124.598803 ,\n",
    "               122.8763685, 121.1010846, 119.2632497, 117.3507579, 115.3485112,\n",
    "               113.2376878, 110.994832 , 108.5907209, 105.988954 , 103.1441977,\n",
    "               100.2      ])\n",
    "nt.assert_array_almost_equal(u[1, :], tans)\n",
    "print('Test case passed!!!')"
   ]
  },
  {
   "cell_type": "code",
   "execution_count": null,
   "metadata": {
    "ExecuteTime": {
     "end_time": "2019-10-10T08:16:24.472572Z",
     "start_time": "2019-10-10T08:16:24.420208Z"
    },
    "deletable": false,
    "editable": false,
    "nbgrader": {
     "checksum": "aaba1b0edd34b790f4379d77c5180cab",
     "grade": true,
     "grade_id": "cell-105026689c6a6b35",
     "locked": true,
     "points": 8,
     "schema_version": 1,
     "solution": false
    }
   },
   "outputs": [],
   "source": [
    "# Hidden test\n",
    "# No output will be produced\n",
    "# 8 marks"
   ]
  },
  {
   "cell_type": "markdown",
   "metadata": {
    "deletable": false,
    "editable": false,
    "nbgrader": {
     "checksum": "2abe42224efd3668c2852ca14efd4d06",
     "grade": false,
     "grade_id": "cell-fa1dced147448390",
     "locked": true,
     "schema_version": 1,
     "solution": false
    }
   },
   "source": [
    "(b) [5 Marks] Continuing from Question 2(a) above, plot the surface plot over all time, given the input below:"
   ]
  },
  {
   "cell_type": "code",
   "execution_count": null,
   "metadata": {
    "ExecuteTime": {
     "end_time": "2019-10-10T08:16:29.513646Z",
     "start_time": "2019-10-10T08:16:24.474086Z"
    },
    "deletable": false,
    "editable": false,
    "nbgrader": {
     "checksum": "c80de169a81d0c1b9843a3c8c4a401d6",
     "grade": false,
     "grade_id": "cell-7ad47251b0f51275",
     "locked": true,
     "schema_version": 1,
     "solution": false
    }
   },
   "outputs": [],
   "source": [
    "dr = 0.001\n",
    "dt = 0.005\n",
    "K  = 0.1\n",
    "tf = 0.5\n",
    "u = heatEqnCylinderNBC(dt, dr, tf, K)"
   ]
  },
  {
   "cell_type": "code",
   "execution_count": null,
   "metadata": {
    "ExecuteTime": {
     "end_time": "2019-10-10T08:16:30.092448Z",
     "start_time": "2019-10-10T08:16:29.517401Z"
    },
    "deletable": false,
    "nbgrader": {
     "checksum": "b28e8be0eb5496246dd29dfec59d7d79",
     "grade": true,
     "grade_id": "cell-790d1930a375743f",
     "locked": false,
     "points": 5,
     "schema_version": 1,
     "solution": true
    }
   },
   "outputs": [],
   "source": [
    "# YOUR CODE HERE\n",
    "raise NotImplementedError()"
   ]
  },
  {
   "cell_type": "markdown",
   "metadata": {
    "deletable": false,
    "editable": false,
    "nbgrader": {
     "checksum": "4292fb6efa01507c678a4fbd23a7647b",
     "grade": false,
     "grade_id": "cell-843a54b8a4ab35c4",
     "locked": true,
     "schema_version": 1,
     "solution": false
    }
   },
   "source": [
    "### Question 3 - 10 Marks\n",
    "\n",
    "(a) [7 Marks] Given the heat equation where:\n",
    "$$\n",
    "u_t = u_{xx},\n",
    "$$\n",
    "$$\n",
    "0 < x < 1, \\ \\ \\ t \\geq 0, \\ \\ \\ u(0, t) = u(1, t) = 0, \\ \\ \\  u(x, 0) = \\sin(\\pi x),\n",
    "$$\n",
    "\n",
    "Implement a Crank-Nicolson scheme on the heat equation given above and find an approximation to $t = 0.5$. The function should take as inputs, the time-step `dt`, the spatial step `dx`, the final time `tf`, and the initial condition as a handle, `f`. The function should return the solution matrix $U$.\n",
    "\n",
    "Note: the analytical solution is:\n",
    "$$\n",
    "u(x, t) = e^{-\\pi^2 t}\\sin(\\pi x)\n",
    "$$"
   ]
  },
  {
   "cell_type": "code",
   "execution_count": null,
   "metadata": {
    "ExecuteTime": {
     "end_time": "2019-10-10T08:16:30.124502Z",
     "start_time": "2019-10-10T08:16:30.093853Z"
    },
    "deletable": false,
    "nbgrader": {
     "checksum": "5a3d30d014a709ad1947c409cd0a19f1",
     "grade": false,
     "grade_id": "cell-20c0d37bec86900e",
     "locked": false,
     "schema_version": 1,
     "solution": true
    }
   },
   "outputs": [],
   "source": [
    "def crankNicolson(dt, dx, tf, f):\n",
    "    # YOUR CODE HERE\n",
    "    raise NotImplementedError()"
   ]
  },
  {
   "cell_type": "code",
   "execution_count": null,
   "metadata": {
    "ExecuteTime": {
     "end_time": "2019-10-10T08:16:30.140297Z",
     "start_time": "2019-10-10T08:16:30.127585Z"
    },
    "deletable": false,
    "editable": false,
    "nbgrader": {
     "checksum": "f05771e46ac2631d8c50ecf8df74945e",
     "grade": true,
     "grade_id": "cell-032c0e3d4762bc5f",
     "locked": true,
     "points": 1,
     "schema_version": 1,
     "solution": false
    }
   },
   "outputs": [],
   "source": [
    "# Run this test cell to check your code\n",
    "# Do not delete this cell\n",
    "# 1 mark\n",
    "# Unit test\n",
    "dx    = 0.1\n",
    "dt    = 0.005\n",
    "tf    = 0.5\n",
    "f     = lambda x: np.sin(np.pi * x) \n",
    "D     = 1\n",
    "tans  = np.array([0.       , 0.309017 , 0.5877853, 0.809017 , 0.9510565, 1.       ,\n",
    "                  0.9510565, 0.809017 , 0.5877853, 0.309017 , 0.       ])\n",
    "ans   = crankNicolson(dt, dx, tf, f)\n",
    "nt.assert_array_almost_equal(tans, ans[0])\n",
    "print('Test case passed!!!')"
   ]
  },
  {
   "cell_type": "code",
   "execution_count": null,
   "metadata": {
    "ExecuteTime": {
     "end_time": "2019-10-10T08:16:30.151966Z",
     "start_time": "2019-10-10T08:16:30.141820Z"
    },
    "deletable": false,
    "editable": false,
    "nbgrader": {
     "checksum": "4e51b9711177a6ccc12db7fdcb448a60",
     "grade": true,
     "grade_id": "cell-cb9befa087fad89c",
     "locked": true,
     "points": 1,
     "schema_version": 1,
     "solution": false
    }
   },
   "outputs": [],
   "source": [
    "# Run this test cell to check your code\n",
    "# Do not delete this cell\n",
    "# 1 mark\n",
    "# Unit test\n",
    "dx    = 0.1\n",
    "dt    = 0.005\n",
    "tf    = 0.5\n",
    "f     = lambda x: np.sin(np.pi * x) \n",
    "\n",
    "tans  = np.array([0.       , 0.2942539, 0.5597042, 0.7703667, 0.9056204, 0.9522256,\n",
    "       0.9056204, 0.7703667, 0.5597042, 0.2942539, 0.       ])\n",
    "ans   = crankNicolson(dt, dx, tf, f)\n",
    "nt.assert_array_almost_equal(tans, ans[1])\n",
    "print('Test case passed!!!')"
   ]
  },
  {
   "cell_type": "code",
   "execution_count": null,
   "metadata": {
    "ExecuteTime": {
     "end_time": "2019-10-10T08:16:30.161533Z",
     "start_time": "2019-10-10T08:16:30.153405Z"
    },
    "deletable": false,
    "editable": false,
    "nbgrader": {
     "checksum": "51240ff1a03db074a683a7aaf9a7fe32",
     "grade": true,
     "grade_id": "cell-909f04dd96a7776d",
     "locked": true,
     "points": 5,
     "schema_version": 1,
     "solution": false
    }
   },
   "outputs": [],
   "source": [
    "# Hidden test\n",
    "# No output will be produced\n",
    "# 5 marks"
   ]
  },
  {
   "cell_type": "markdown",
   "metadata": {
    "deletable": false,
    "editable": false,
    "nbgrader": {
     "checksum": "07e1d0c852a4b1ed328330eaa5cc517e",
     "grade": false,
     "grade_id": "cell-f29682adc19bd3f8",
     "locked": true,
     "schema_version": 1,
     "solution": false
    }
   },
   "source": [
    "(b) [3 Marks] Continuing with Question 3(a) above, consider the following input:"
   ]
  },
  {
   "cell_type": "code",
   "execution_count": null,
   "metadata": {
    "ExecuteTime": {
     "end_time": "2019-10-10T08:16:30.169872Z",
     "start_time": "2019-10-10T08:16:30.162997Z"
    },
    "deletable": false,
    "editable": false,
    "nbgrader": {
     "checksum": "a1356cd1c92d8c315a1c61cc8712ba8d",
     "grade": false,
     "grade_id": "cell-480cab1ca4e7019c",
     "locked": true,
     "schema_version": 1,
     "solution": false
    }
   },
   "outputs": [],
   "source": [
    "dx    = 0.1\n",
    "dt    = 0.005\n",
    "tf    = 0.5\n",
    "f     = lambda x: np.sin(np.pi * x) \n",
    "U     = crankNicolson(dt, dx, tf, f)"
   ]
  },
  {
   "cell_type": "markdown",
   "metadata": {
    "deletable": false,
    "editable": false,
    "nbgrader": {
     "checksum": "9f82d0cb11a8b88ebae842d9d7af8007",
     "grade": false,
     "grade_id": "cell-e5ed98cd99d62851",
     "locked": true,
     "schema_version": 1,
     "solution": false
    }
   },
   "source": [
    "Write a function `errorFunction` which returns the absolute error, relative error and the norm (in that order) at time `tf`, between the true solution given in Question 3(a) and your obtained Crank-Nicolson approximation."
   ]
  },
  {
   "cell_type": "code",
   "execution_count": null,
   "metadata": {
    "ExecuteTime": {
     "end_time": "2019-10-10T08:16:30.183186Z",
     "start_time": "2019-10-10T08:16:30.171320Z"
    },
    "deletable": false,
    "nbgrader": {
     "checksum": "e257a5867d7a0700634d606963828363",
     "grade": false,
     "grade_id": "cell-76de265b4f5200db",
     "locked": false,
     "schema_version": 1,
     "solution": true
    }
   },
   "outputs": [],
   "source": [
    "def errorFunction():\n",
    "    # YOUR CODE HERE\n",
    "    raise NotImplementedError()"
   ]
  },
  {
   "cell_type": "code",
   "execution_count": null,
   "metadata": {
    "ExecuteTime": {
     "end_time": "2019-10-10T08:16:30.197312Z",
     "start_time": "2019-10-10T08:16:30.185052Z"
    },
    "deletable": false,
    "editable": false,
    "nbgrader": {
     "checksum": "87f9e137d236a7e873a8780a6593c3a2",
     "grade": true,
     "grade_id": "cell-1023c1ac7582b912",
     "locked": true,
     "points": 1,
     "schema_version": 1,
     "solution": false
    }
   },
   "outputs": [],
   "source": [
    "# Hidden test\n",
    "# No output will be produced\n",
    "# 1 mark"
   ]
  },
  {
   "cell_type": "code",
   "execution_count": null,
   "metadata": {
    "ExecuteTime": {
     "end_time": "2019-10-10T08:16:30.206194Z",
     "start_time": "2019-10-10T08:16:30.198804Z"
    },
    "deletable": false,
    "editable": false,
    "nbgrader": {
     "checksum": "45ce57473d601bb642ea4ef7de9a6de3",
     "grade": true,
     "grade_id": "cell-a88a24ba79946105",
     "locked": true,
     "points": 1,
     "schema_version": 1,
     "solution": false
    }
   },
   "outputs": [],
   "source": [
    "# Hidden test\n",
    "# No output will be produced\n",
    "# 1 mark"
   ]
  },
  {
   "cell_type": "code",
   "execution_count": null,
   "metadata": {
    "ExecuteTime": {
     "end_time": "2019-10-10T08:16:30.219842Z",
     "start_time": "2019-10-10T08:16:30.207683Z"
    },
    "deletable": false,
    "editable": false,
    "nbgrader": {
     "checksum": "43774aca1012422b352ae8dca08b3f04",
     "grade": true,
     "grade_id": "cell-35b4b34fbe37cba6",
     "locked": true,
     "points": 1,
     "schema_version": 1,
     "solution": false
    }
   },
   "outputs": [],
   "source": [
    "# Hidden test\n",
    "# No output will be produced\n",
    "# 1 mark"
   ]
  }
 ],
 "metadata": {
  "kernelspec": {
   "display_name": "Python 3",
   "language": "python",
   "name": "python3"
  },
  "language_info": {
   "codemirror_mode": {
    "name": "ipython",
    "version": 3
   },
   "file_extension": ".py",
   "mimetype": "text/x-python",
   "name": "python",
   "nbconvert_exporter": "python",
   "pygments_lexer": "ipython3",
   "version": "3.7.4"
  },
  "latex_envs": {
   "LaTeX_envs_menu_present": true,
   "autoclose": false,
   "autocomplete": false,
   "bibliofile": "biblio.bib",
   "cite_by": "apalike",
   "current_citInitial": 1,
   "eqLabelWithNumbers": true,
   "eqNumInitial": 1,
   "hotkeys": {
    "equation": "Ctrl-E",
    "itemize": "Ctrl-I"
   },
   "labels_anchors": false,
   "latex_user_defs": false,
   "report_style_numbering": false,
   "user_envs_cfg": false
  },
  "varInspector": {
   "cols": {
    "lenName": 16,
    "lenType": 16,
    "lenVar": 40
   },
   "kernels_config": {
    "python": {
     "delete_cmd_postfix": "",
     "delete_cmd_prefix": "del ",
     "library": "var_list.py",
     "varRefreshCmd": "print(var_dic_list())"
    },
    "r": {
     "delete_cmd_postfix": ") ",
     "delete_cmd_prefix": "rm(",
     "library": "var_list.r",
     "varRefreshCmd": "cat(var_dic_list()) "
    }
   },
   "types_to_exclude": [
    "module",
    "function",
    "builtin_function_or_method",
    "instance",
    "_Feature"
   ],
   "window_display": false
  }
 },
 "nbformat": 4,
 "nbformat_minor": 2
}
