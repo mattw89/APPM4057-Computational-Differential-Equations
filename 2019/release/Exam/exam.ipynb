{
 "cells": [
  {
   "cell_type": "code",
   "execution_count": null,
   "metadata": {
    "ExecuteTime": {
     "end_time": "2019-11-15T11:57:44.464502Z",
     "start_time": "2019-11-15T11:57:44.459991Z"
    }
   },
   "outputs": [],
   "source": [
    "# Initialisation Cell\n",
    "# You should always put imported modules here\n",
    "from math import *\n",
    "import numpy as np\n",
    "import numpy.testing as nt\n",
    "import numpy.linalg as LA\n",
    "from matplotlib import pyplot as plt\n",
    "import seaborn as sns\n",
    "np.set_printoptions(suppress=True, precision=7)"
   ]
  },
  {
   "cell_type": "markdown",
   "metadata": {
    "deletable": false,
    "editable": false,
    "nbgrader": {
     "checksum": "4e7ff674ec58b4d7c5e25b1f6e99848c",
     "grade": false,
     "grade_id": "cell-2010d9b3a7ff9648",
     "locked": true,
     "schema_version": 1,
     "solution": false
    }
   },
   "source": [
    "# APPM4057 - November 2019\n",
    "\n",
    "# Exam Office Info\n",
    "\n",
    "| Examiner          | Name              |\n",
    "|-------------------|-------------------|\n",
    "| Internal Examiner | Prof B. A. Jacobs |\n",
    "| External Examiner | Prof N. Hale (Stellenbosch) |"
   ]
  },
  {
   "cell_type": "markdown",
   "metadata": {
    "deletable": false,
    "editable": false,
    "nbgrader": {
     "checksum": "20d9648d9723da640e8f501f8260c54e",
     "grade": false,
     "grade_id": "cell-c8da73fa0ae0f8ad",
     "locked": true,
     "schema_version": 1,
     "solution": false
    }
   },
   "source": [
    "# CDEs Honours - Exam\n",
    "\n",
    "\n",
    "## Instructions\n",
    "\n",
    "* Read all the instructions carefully.\n",
    "* The exam consists of **80 Marks**, with **three and a half** hours available.\n",
    "* The written section is to be answered in the book provided.\n",
    "* You must only access Moodle **TESTS** and NOT Moodle.\n",
    "* The programming section is to be answered within this Jupyter notebook and resubmitted to Moodle **TESTS**.\n",
    "* Do not rename the notebook, simply answer the questions and resubmit the file to Moodle.\n",
    "* The moodle submission link will expire at exactly **12:30** and **NO** late submission will be accepted. Please make sure you submit timeously!\n",
    "* The **Numpy** and **Matplotlib** documentation has been downloaded and is open on your current machine.\n",
    "* **NB!!!** Anyone caught using Moodle (and its file storing), flash drives or external notes will be awarded zero and reported to the legal office."
   ]
  },
  {
   "cell_type": "markdown",
   "metadata": {
    "deletable": false,
    "editable": false,
    "nbgrader": {
     "checksum": "e93c4d9b795d766553b3a0ec453808dc",
     "grade": false,
     "grade_id": "cell-b475b7055bdf56e2",
     "locked": true,
     "schema_version": 1,
     "solution": false
    }
   },
   "source": [
    "## Written Section\n",
    "\n",
    "* Answer the following questions in the answer book provided.\n",
    "\n",
    "### Question 1 - 10 Marks\n",
    "\n",
    "Discuss each of the below listed terms and their relation to one another (i.e. the theorem which describes this relationship):\n",
    "\n",
    "* Consistency,\n",
    "* Stability, \n",
    "* Convergence,\n",
    "\n",
    "Be sure to give potential methods of analysing consistency, stability and convergence of a  linear PDE."
   ]
  },
  {
   "cell_type": "markdown",
   "metadata": {
    "deletable": false,
    "editable": false,
    "nbgrader": {
     "checksum": "49cd5d3c68893373f039ba93bb1bdf52",
     "grade": false,
     "grade_id": "cell-cac15ec9053ee576",
     "locked": true,
     "schema_version": 1,
     "solution": false
    }
   },
   "source": [
    "### Question 2 - 10 Marks\n",
    "\n",
    "Analyse the stability of the difference scheme given by:\n",
    "$$\n",
    "u^{m}_{n} = -\\beta u^{m+1}_{n-1} + (1+2\\beta) u^{m+1}_{n} - \\beta u^{m+1}_{n+1},\n",
    "$$\n",
    "using the discrete Fourier Transform:\n",
    "$$\n",
    "\\hat{u}^{m+1}(\\xi)=\\frac{1}{\\sqrt{2 \\pi}} \\sum_{n=-\\infty}^{\\infty} e^{-i n \\xi} u_{n}^{m+1}.\n",
    "$$"
   ]
  },
  {
   "cell_type": "markdown",
   "metadata": {
    "deletable": false,
    "editable": false,
    "nbgrader": {
     "checksum": "f6a8428c1bc3fa11e8dca6b51155bc00",
     "grade": false,
     "grade_id": "cell-1063f524a97c8aae",
     "locked": true,
     "schema_version": 1,
     "solution": false
    }
   },
   "source": [
    "### Question 3 - 10 Marks\n",
    "\n",
    "Consider the Crank-Nicolson (CN) scheme applied to the heat equation:\n",
    "\\begin{equation}\n",
    "u_t = \\nu u_{xx}.\\label{eq:heat}\n",
    "\\end{equation}\n",
    "\n",
    "(a) [3 Marks] Write out the CN scheme for the heat equation given by above.\n",
    "\n",
    "(b) [7 Marks] Investigate the consistency of the scheme derived in Question 3(a)."
   ]
  },
  {
   "cell_type": "markdown",
   "metadata": {
    "deletable": false,
    "editable": false,
    "nbgrader": {
     "checksum": "8b3d04e3dadca6ad1802f5a60b6710a7",
     "grade": false,
     "grade_id": "cell-3fa693797521722e",
     "locked": true,
     "schema_version": 1,
     "solution": false
    }
   },
   "source": [
    "### Question 4 - 10 Marks\n",
    "\n",
    "Consider the following two-dimensional wave equation:\n",
    "$$\n",
    "\\dfrac{\\partial^2 u}{\\partial t^2} = \\nu^2 \\left(\\dfrac{\\partial^2 u}{\\partial x^2} + \\dfrac{\\partial^2 u}{\\partial y^2}\\right).\\label{eq:wave}\n",
    "$$\n",
    "\n",
    "(a) [5 Marks] Set up the system of coupled first-order conservative partial differential equations by structuring new dependent variables $r$, $s$ and $l$, which can be used to solve the wave equation given above via the Lax-Wendroff finite difference scheme.\n",
    "\n",
    "(b) [5 Marks] Provide the system in vector notation where the system is represented as:\n",
    "$$\n",
    "\\dfrac{\\partial \\bf{U}}{\\partial t} + \\nabla \\bf{F}(\\bf{U}) = 0, \n",
    "$$\n",
    "where $\\bf{U} = [r,s,l]$."
   ]
  },
  {
   "cell_type": "markdown",
   "metadata": {
    "deletable": false,
    "editable": false,
    "nbgrader": {
     "checksum": "a97db744de1eafd053f9e4f883a584f4",
     "grade": false,
     "grade_id": "cell-58e498dcf64ecf87",
     "locked": true,
     "schema_version": 1,
     "solution": false
    }
   },
   "source": [
    "## Programming Section \n",
    "\n",
    "### Question 1 - 15 Marks\n",
    "\n",
    "(a) [10 Marks] Consider the wave equation given by:\n",
    "$$\n",
    "u_{tt} = c^2u_{xx},\n",
    "$$\n",
    "$$\n",
    "u(x, 0) = x(1 - x), \\ \\ \\ u_t(x, 0) = 0, \\ \\ \\ u(0, t) = u(1, t) = 0.\n",
    "$$\n",
    "Write a function that implements a centered space, centered time scheme. Specifically, your function should take as inputs, the stepsizes `dx` and `dt`, the wave speed `c` (not squared valued), the number of iterations to perform `N` and the left and right endpoints `a`, `b`.\n",
    "\n",
    "Your function should return the solution matrix, containing the wave profile at each time iteration, i.e. `N + 1` rows."
   ]
  },
  {
   "cell_type": "code",
   "execution_count": null,
   "metadata": {
    "ExecuteTime": {
     "end_time": "2019-11-15T11:57:44.530069Z",
     "start_time": "2019-11-15T11:57:44.518150Z"
    },
    "deletable": false,
    "nbgrader": {
     "checksum": "eb676b84c5a12980bb24551e24572186",
     "grade": false,
     "grade_id": "cell-8798d8272152881f",
     "locked": false,
     "schema_version": 1,
     "solution": true
    }
   },
   "outputs": [],
   "source": [
    "def wave_eq(dx, dt, c, N, ic, a, b):\n",
    "    # YOUR CODE HERE\n",
    "    raise NotImplementedError()\n",
    "    "
   ]
  },
  {
   "cell_type": "code",
   "execution_count": null,
   "metadata": {
    "ExecuteTime": {
     "end_time": "2019-11-15T11:57:44.538214Z",
     "start_time": "2019-11-15T11:57:44.531606Z"
    },
    "deletable": false,
    "editable": false,
    "nbgrader": {
     "checksum": "031d6e95699d497b2f6934936cc48b1c",
     "grade": true,
     "grade_id": "cell-33216f31246038c6",
     "locked": true,
     "points": 1,
     "schema_version": 1,
     "solution": false
    }
   },
   "outputs": [],
   "source": [
    "# Run this test cell to check your code\n",
    "# Do not delete this cell\n",
    "# 1 mark\n",
    "# Unit test\n",
    "dx = 0.1\n",
    "c  = 0.2\n",
    "tf = 8 \n",
    "N  = 20\n",
    "dt = (tf - 0)/N\n",
    "a  = 0 \n",
    "b  = 1\n",
    "ic = lambda x: x*(1 - x)\n",
    "tans = np.array([0.  , 0.09, 0.16, 0.21, 0.24, 0.25, 0.24, 0.21, 0.16, 0.09, 0.  ])\n",
    "U = wave_eq(dx, dt, c, N, ic, a, b)\n",
    "nt.assert_array_almost_equal(tans, U[0, :])\n",
    "print('Test case passed!!!')"
   ]
  },
  {
   "cell_type": "code",
   "execution_count": null,
   "metadata": {
    "ExecuteTime": {
     "end_time": "2019-11-15T11:57:44.545969Z",
     "start_time": "2019-11-15T11:57:44.540020Z"
    },
    "deletable": false,
    "editable": false,
    "nbgrader": {
     "checksum": "2b68d0f5ace7dd4c2d3f33aaecd5cbf1",
     "grade": true,
     "grade_id": "cell-29e747f664e4aaf3",
     "locked": true,
     "points": 1,
     "schema_version": 1,
     "solution": false
    }
   },
   "outputs": [],
   "source": [
    "# Run this test cell to check your code\n",
    "# Do not delete this cell\n",
    "# 1 mark\n",
    "# Unit test\n",
    "dx = 0.1\n",
    "c  = 0.2\n",
    "tf = 8 \n",
    "N  = 20\n",
    "dt = (tf - 0)/N\n",
    "a  = 0 \n",
    "b  = 1\n",
    "ic = lambda x: x*(1 - x)\n",
    "tans = np.array([0.    , 0.0836, 0.1536, 0.2036, 0.2336, 0.2436, 0.2336, 0.2036,\n",
    "       0.1536, 0.0836, 0.    ])\n",
    "U = wave_eq(dx, dt, c, N, ic, a, b)\n",
    "nt.assert_array_almost_equal(tans, U[1, :])\n",
    "print('Test case passed!!!')"
   ]
  },
  {
   "cell_type": "code",
   "execution_count": null,
   "metadata": {
    "ExecuteTime": {
     "end_time": "2019-11-15T11:57:44.555719Z",
     "start_time": "2019-11-15T11:57:44.547454Z"
    },
    "deletable": false,
    "editable": false,
    "nbgrader": {
     "checksum": "bf02a3350834c96e9071d367dd37dca3",
     "grade": true,
     "grade_id": "cell-8b15fbb98edddb9f",
     "locked": true,
     "points": 8,
     "schema_version": 1,
     "solution": false
    }
   },
   "outputs": [],
   "source": [
    "# Hidden test\n",
    "# No output will be produced\n",
    "# 8 marks"
   ]
  },
  {
   "cell_type": "markdown",
   "metadata": {
    "deletable": false,
    "editable": false,
    "nbgrader": {
     "checksum": "b0616ef26b39899ed267eeaa4f0b194d",
     "grade": false,
     "grade_id": "cell-6d207e2b269a2637",
     "locked": true,
     "schema_version": 1,
     "solution": false
    }
   },
   "source": [
    "(b) [5 Marks] Continuing with Question 1(a), given the input below, produce the 3D surface plot, illustrating the evolution of the wave profile over time."
   ]
  },
  {
   "cell_type": "code",
   "execution_count": null,
   "metadata": {
    "ExecuteTime": {
     "end_time": "2019-11-15T11:57:44.587589Z",
     "start_time": "2019-11-15T11:57:44.556981Z"
    },
    "deletable": false,
    "editable": false,
    "nbgrader": {
     "checksum": "569ec46eeacaaa82656600b09916b3a6",
     "grade": false,
     "grade_id": "cell-95fdab20c9d358a2",
     "locked": true,
     "schema_version": 1,
     "solution": false
    }
   },
   "outputs": [],
   "source": [
    "dx    = 0.001\n",
    "c     = 0.2\n",
    "tf    = 8 \n",
    "N     = 2000\n",
    "dt    = (tf - 0)/N\n",
    "a     = 0 \n",
    "b     = 1\n",
    "ic    = lambda x: x*(1 - x)\n",
    "xvals = np.linspace(a, b, int((b - a)/dx) + 1)\n",
    "U     = wave_eq(dx, dt, c, N, ic, a, b)"
   ]
  },
  {
   "cell_type": "code",
   "execution_count": null,
   "metadata": {
    "ExecuteTime": {
     "end_time": "2019-11-15T11:57:45.573055Z",
     "start_time": "2019-11-15T11:57:44.589189Z"
    },
    "deletable": false,
    "nbgrader": {
     "checksum": "3b344335db807b49c6ae6d6e2890e1b7",
     "grade": true,
     "grade_id": "cell-04ec86554cd7d580",
     "locked": false,
     "points": 5,
     "schema_version": 1,
     "solution": true
    }
   },
   "outputs": [],
   "source": [
    "# 5 Marks\n",
    "# YOUR CODE HERE\n",
    "raise NotImplementedError()"
   ]
  },
  {
   "cell_type": "markdown",
   "metadata": {
    "deletable": false,
    "editable": false,
    "nbgrader": {
     "checksum": "dd6101a7a2239ee94f1e393dc32f01a8",
     "grade": false,
     "grade_id": "cell-18753ae237f1941c",
     "locked": true,
     "schema_version": 1,
     "solution": false
    }
   },
   "source": [
    "### Question 2 - 10 Marks\n",
    "\n",
    "\n",
    "(a) [8 Marks] Write a function implements a finite difference scheme to solve the partial differential equation below. The function should implement an explicit scheme which is forward difference in time and central difference in space, specifically first order in time and second order in space. It should take as inputs a time step `dt`, a spatial step `dx`, a number of time-steps `N` to perform, the coefficients `D` and `nu`, an initial function `ic` passed as a handle and boundary values `alpha` and `beta`. The function should output the solution space matrix `u`, as well as the `xvals` (i.e. vector of $x$ steps) and `tvals` (i.e the vector of time steps). The PDE is given below:\n",
    "\n",
    "\n",
    "$$v_t + \\nu v_x = D v_{xx},$$\n",
    "\n",
    "$$\\text{BC}: v(0, t) = \\alpha = v(1, t) = \\beta = 0;\\quad\\text{IC}: v(x, 0) = \\sin(8\\pi x); \\quad t > 0, \\ x \\in [0, 1]$$"
   ]
  },
  {
   "cell_type": "code",
   "execution_count": null,
   "metadata": {
    "ExecuteTime": {
     "end_time": "2019-11-15T11:57:45.585132Z",
     "start_time": "2019-11-15T11:57:45.574748Z"
    },
    "deletable": false,
    "nbgrader": {
     "checksum": "a5b85f191314eaf803650fb10cc18f7c",
     "grade": false,
     "grade_id": "cell-353b5c86191caecf",
     "locked": false,
     "schema_version": 1,
     "solution": true
    }
   },
   "outputs": [],
   "source": [
    "def heatEqn(dt, dx, N, ic, D, alpha, beta, nu):\n",
    "    # YOUR CODE HERE\n",
    "    raise NotImplementedError()\n",
    "   \n"
   ]
  },
  {
   "cell_type": "code",
   "execution_count": null,
   "metadata": {
    "ExecuteTime": {
     "end_time": "2019-11-15T11:57:45.606345Z",
     "start_time": "2019-11-15T11:57:45.587143Z"
    },
    "deletable": false,
    "editable": false,
    "nbgrader": {
     "checksum": "0ec3b79fc489f387102f99c6ba05050a",
     "grade": true,
     "grade_id": "cell-09dbe5d12856b550",
     "locked": true,
     "points": 1,
     "schema_version": 1,
     "solution": false
    }
   },
   "outputs": [],
   "source": [
    "# Run this test cell to check your code\n",
    "# Do not delete this cell\n",
    "# 1 mark\n",
    "# Unit test\n",
    "dx = 0.01\n",
    "dt = 0.01\n",
    "N  = 2\n",
    "D  = 0.1\n",
    "nu = 1\n",
    "alpha = 0\n",
    "beta  = 0\n",
    "ic = lambda x: np.sin(8*np.pi*x) \n",
    "u, xx, tt = heatEqn(dt, dx, N, ic, D, alpha, beta, nu)\n",
    "tans = np.array(  [ 0.       ,  0.2486899,  0.4817537,  0.6845471,  0.8443279,\n",
    "                    0.9510565,  0.9980267,  0.9822873,  0.9048271,  0.7705132,\n",
    "                    0.5877853,  0.3681246,  0.1253332, -0.1253332, -0.3681246,\n",
    "                   -0.5877853, -0.7705132, -0.9048271, -0.9822873, -0.9980267,\n",
    "                   -0.9510565, -0.8443279, -0.6845471, -0.4817537, -0.2486899,\n",
    "                   -0.       ,  0.2486899,  0.4817537,  0.6845471,  0.8443279,\n",
    "                    0.9510565,  0.9980267,  0.9822873,  0.9048271,  0.7705132,\n",
    "                    0.5877853,  0.3681246,  0.1253332, -0.1253332, -0.3681246,\n",
    "                   -0.5877853, -0.7705132, -0.9048271, -0.9822873, -0.9980267,\n",
    "                   -0.9510565, -0.8443279, -0.6845471, -0.4817537, -0.2486899,\n",
    "                   -0.       ,  0.2486899,  0.4817537,  0.6845471,  0.8443279,\n",
    "                    0.9510565,  0.9980267,  0.9822873,  0.9048271,  0.7705132,\n",
    "                    0.5877853,  0.3681246,  0.1253332, -0.1253332, -0.3681246,\n",
    "                   -0.5877853, -0.7705132, -0.9048271, -0.9822873, -0.9980267,\n",
    "                   -0.9510565, -0.8443279, -0.6845471, -0.4817537, -0.2486899,\n",
    "                   -0.       ,  0.2486899,  0.4817537,  0.6845471,  0.8443279,\n",
    "                    0.9510565,  0.9980267,  0.9822873,  0.9048271,  0.7705132,\n",
    "                    0.5877853,  0.3681246,  0.1253332, -0.1253332, -0.3681246,\n",
    "                   -0.5877853, -0.7705132, -0.9048271, -0.9822873, -0.9980267,\n",
    "                   -0.9510565, -0.8443279, -0.6845471, -0.4817537, -0.2486899,\n",
    "                    0.       ])\n",
    "nt.assert_array_almost_equal(tans, u[0])\n",
    "print('Test case passed!!!')"
   ]
  },
  {
   "cell_type": "code",
   "execution_count": null,
   "metadata": {
    "ExecuteTime": {
     "end_time": "2019-11-15T11:57:45.625809Z",
     "start_time": "2019-11-15T11:57:45.608044Z"
    },
    "deletable": false,
    "editable": false,
    "nbgrader": {
     "checksum": "947f52a04129554328931387a79d568c",
     "grade": true,
     "grade_id": "cell-adcdb581d0ead439",
     "locked": true,
     "points": 1,
     "schema_version": 1,
     "solution": false
    }
   },
   "outputs": [],
   "source": [
    "# Run this test cell to check your code\n",
    "# Do not delete this cell\n",
    "# 1 mark\n",
    "# Unit test\n",
    "dx = 0.01\n",
    "dt = 0.01\n",
    "N  = 2\n",
    "D  = 0.1\n",
    "nu = 1\n",
    "alpha = 0\n",
    "beta  = 0\n",
    "ic = lambda x: np.sin(8*np.pi*x) \n",
    "u, xx, tt = heatEqn(dt, dx, N, ic, D, alpha, beta, nu)\n",
    "tans = np.array(  [ 0.       ,  2.4511655, -0.1252406, -0.0825335, -0.0346406,\n",
    "                    0.015429 ,  0.064529 ,  0.1095745,  0.1477351,  0.1766128,\n",
    "                    0.1943934,  0.1999595,  0.1929614,  0.1738388,  0.1437933,\n",
    "                    0.1047128,  0.0590527,  0.0096822, -0.0402967, -0.0877437,\n",
    "                   -0.1296773, -0.1634629, -0.1869775, -0.1987436, -0.1980219,\n",
    "                   -0.1848578, -0.1600783, -0.1252406, -0.0825335, -0.0346406,\n",
    "                    0.015429 ,  0.064529 ,  0.1095745,  0.1477351,  0.1766128,\n",
    "                    0.1943934,  0.1999595,  0.1929614,  0.1738388,  0.1437933,\n",
    "                    0.1047128,  0.0590527,  0.0096822, -0.0402967, -0.0877437,\n",
    "                   -0.1296773, -0.1634629, -0.1869775, -0.1987436, -0.1980219,\n",
    "                   -0.1848578, -0.1600783, -0.1252406, -0.0825335, -0.0346406,\n",
    "                    0.015429 ,  0.064529 ,  0.1095745,  0.1477351,  0.1766128,\n",
    "                    0.1943934,  0.1999595,  0.1929614,  0.1738388,  0.1437933,\n",
    "                    0.1047128,  0.0590527,  0.0096822, -0.0402967, -0.0877437,\n",
    "                   -0.1296773, -0.1634629, -0.1869775, -0.1987436, -0.1980219,\n",
    "                   -0.1848578, -0.1600783, -0.1252406, -0.0825335, -0.0346406,\n",
    "                    0.015429 ,  0.064529 ,  0.1095745,  0.1477351,  0.1766128,\n",
    "                    0.1943934,  0.1999595,  0.1929614,  0.1738388,  0.1437933,\n",
    "                    0.1047128,  0.0590527,  0.0096822, -0.0402967, -0.0877437,\n",
    "                   -0.1296773, -0.1634629, -0.1869775, -0.1987436,  2.164532 ,\n",
    "                    0.       ])\n",
    "nt.assert_array_almost_equal(tans, u[-1])\n",
    "print('Test case passed!!!')"
   ]
  },
  {
   "cell_type": "code",
   "execution_count": null,
   "metadata": {
    "ExecuteTime": {
     "end_time": "2019-11-15T11:57:45.646300Z",
     "start_time": "2019-11-15T11:57:45.626954Z"
    },
    "deletable": false,
    "editable": false,
    "nbgrader": {
     "checksum": "4987519d6591eed01f44efb36ce87dbf",
     "grade": true,
     "grade_id": "cell-7a0de678b7efca75",
     "locked": true,
     "points": 6,
     "schema_version": 1,
     "solution": false
    }
   },
   "outputs": [],
   "source": [
    "# Hidden test\n",
    "# No output will be produced\n",
    "# 6 marks"
   ]
  },
  {
   "cell_type": "markdown",
   "metadata": {
    "deletable": false,
    "editable": false,
    "nbgrader": {
     "checksum": "1a24b3b75273a054d79c7423278be23a",
     "grade": false,
     "grade_id": "cell-ea658b0f14540461",
     "locked": true,
     "schema_version": 1,
     "solution": false
    }
   },
   "source": [
    "(b) [2 Marks] Continuing on from Question 3(a). Plot the profile of each time step on the same set of axes, given the following inputs (be sure to use a legend indicating which iteration and curve is which):"
   ]
  },
  {
   "cell_type": "code",
   "execution_count": null,
   "metadata": {
    "ExecuteTime": {
     "end_time": "2019-11-15T11:57:45.654597Z",
     "start_time": "2019-11-15T11:57:45.647459Z"
    },
    "deletable": false,
    "editable": false,
    "nbgrader": {
     "checksum": "155a9159bd47b94e1df14e521c51dd62",
     "grade": false,
     "grade_id": "cell-8789b92fd84e8dbb",
     "locked": true,
     "schema_version": 1,
     "solution": false
    }
   },
   "outputs": [],
   "source": [
    "dx    = 0.01\n",
    "dt    = 0.01\n",
    "N     = 2\n",
    "D     = 0.1\n",
    "nu    = 1\n",
    "alpha = 0\n",
    "beta  = 0\n",
    "ic    = lambda x: np.sin(8*np.pi*x) "
   ]
  },
  {
   "cell_type": "code",
   "execution_count": null,
   "metadata": {
    "ExecuteTime": {
     "end_time": "2019-11-15T11:57:45.801580Z",
     "start_time": "2019-11-15T11:57:45.655759Z"
    },
    "deletable": false,
    "nbgrader": {
     "checksum": "3f2f2b473ef74e84929a36515ea02f5a",
     "grade": true,
     "grade_id": "cell-12ed4e3dce8dd052",
     "locked": false,
     "points": 2,
     "schema_version": 1,
     "solution": true
    }
   },
   "outputs": [],
   "source": [
    "# 2 Marks\n",
    "# YOUR CODE HERE\n",
    "raise NotImplementedError()"
   ]
  },
  {
   "cell_type": "markdown",
   "metadata": {
    "deletable": false,
    "editable": false,
    "nbgrader": {
     "checksum": "2e5c309ee94b32a456fd3eca4d031fd2",
     "grade": false,
     "grade_id": "cell-02923d9d176c80a5",
     "locked": true,
     "schema_version": 1,
     "solution": false
    }
   },
   "source": [
    "### Question 3 - 15 Marks\n",
    "\n",
    "(a) [10 Marks] Consider the PDE given by:\n",
    "$$\n",
    "v_t = D\\left( v_{xx} + v_{yy}\\right), \n",
    "$$\n",
    "$$\n",
    "v(-1, y, t) = v(1, y, t) = 0,\\ v(x, y, 0) = 0,  \n",
    "$$\n",
    "\\begin{equation}\n",
    "v(x, -1, 0) = v(x, 1, 0) = 100, \\ \\ \\ x \\in (-1, 1)\\ \\ \\text{i.e. endpoints excluded}\n",
    "\\end{equation}\n",
    "\n",
    "Periodic boundary conditions should be imposed on $y = -1, y = 1$, i.e.$v(x,-1,t)=v(x,1,t)$ for all $t$ and $x$.\n",
    "\n",
    "\n",
    "Write a function which implements an ADI scheme to solve the PDE given above. Specifically, the function should take as inputs, the step-sizes, `dx` and `dy`, the time-step `dt`, the constant `D`, and the number of iterations to perform `N`.\n",
    "\n",
    "The function should return the 2D heatmap for each time-step, that is, a 3D array of `N + 1` time-steps."
   ]
  },
  {
   "cell_type": "code",
   "execution_count": null,
   "metadata": {
    "ExecuteTime": {
     "end_time": "2019-11-15T11:57:45.826750Z",
     "start_time": "2019-11-15T11:57:45.803633Z"
    },
    "deletable": false,
    "nbgrader": {
     "checksum": "549a0cc5099891d213295a7f0b04a245",
     "grade": false,
     "grade_id": "cell-bf1c9bc9d61fc857",
     "locked": false,
     "schema_version": 1,
     "solution": true
    }
   },
   "outputs": [],
   "source": [
    "def heat2D_ADI(dx, dy, dt, D, N):\n",
    "    # YOUR CODE HERE\n",
    "    raise NotImplementedError()"
   ]
  },
  {
   "cell_type": "code",
   "execution_count": null,
   "metadata": {
    "ExecuteTime": {
     "end_time": "2019-11-15T11:57:45.842028Z",
     "start_time": "2019-11-15T11:57:45.828076Z"
    },
    "deletable": false,
    "editable": false,
    "nbgrader": {
     "checksum": "33106b2ec7f563b3452470f33c04f18d",
     "grade": true,
     "grade_id": "cell-aef0599537468607",
     "locked": true,
     "points": 1,
     "schema_version": 1,
     "solution": false
    }
   },
   "outputs": [],
   "source": [
    "# Run this test cell to check your code\n",
    "# Do not delete this cell\n",
    "# 1 mark\n",
    "# Unit test\n",
    "dx   = 0.2\n",
    "dy   = 0.2\n",
    "dt   = 0.1\n",
    "D    = 0.1\n",
    "N    = 5\n",
    "tans = np.array([[  0., 100., 100., 100., 100., 100., 100., 100., 100., 100.,   0.],\n",
    "       [  0.,   0.,   0.,   0.,   0.,   0.,   0.,   0.,   0.,   0.,   0.],\n",
    "       [  0.,   0.,   0.,   0.,   0.,   0.,   0.,   0.,   0.,   0.,   0.],\n",
    "       [  0.,   0.,   0.,   0.,   0.,   0.,   0.,   0.,   0.,   0.,   0.],\n",
    "       [  0.,   0.,   0.,   0.,   0.,   0.,   0.,   0.,   0.,   0.,   0.],\n",
    "       [  0.,   0.,   0.,   0.,   0.,   0.,   0.,   0.,   0.,   0.,   0.],\n",
    "       [  0.,   0.,   0.,   0.,   0.,   0.,   0.,   0.,   0.,   0.,   0.],\n",
    "       [  0.,   0.,   0.,   0.,   0.,   0.,   0.,   0.,   0.,   0.,   0.],\n",
    "       [  0.,   0.,   0.,   0.,   0.,   0.,   0.,   0.,   0.,   0.,   0.],\n",
    "       [  0.,   0.,   0.,   0.,   0.,   0.,   0.,   0.,   0.,   0.,   0.],\n",
    "       [  0., 100., 100., 100., 100., 100., 100., 100., 100., 100.,   0.]])\n",
    "U    = heat2D_ADI(dx, dy, dt, D, N)\n",
    "nt.assert_array_almost_equal(tans, U[:, :, 0])\n",
    "print('Test case passed!!!')"
   ]
  },
  {
   "cell_type": "code",
   "execution_count": null,
   "metadata": {
    "ExecuteTime": {
     "end_time": "2019-11-15T11:57:45.868602Z",
     "start_time": "2019-11-15T11:57:45.843297Z"
    },
    "deletable": false,
    "editable": false,
    "nbgrader": {
     "checksum": "120e87ebb6bebd5e770a30eb48416c18",
     "grade": true,
     "grade_id": "cell-9235bd3fe3c87849",
     "locked": true,
     "points": 1,
     "schema_version": 1,
     "solution": false
    }
   },
   "outputs": [],
   "source": [
    "# Run this test cell to check your code\n",
    "# Do not delete this cell\n",
    "# 1 mark\n",
    "# Unit test\n",
    "dx   = 0.2\n",
    "dy   = 0.2\n",
    "dt   = 0.1\n",
    "D    = 0.1\n",
    "N    = 5\n",
    "tans = np.array([[ 0.       , 65.3025091, 78.3317661, 79.6479746, 79.780803 ,\n",
    "        79.7928783, 79.780803 , 79.6479746, 78.3317661, 65.3025091,\n",
    "         0.       ],\n",
    "       [ 0.       , 14.8641016, 17.82981  , 18.1294042, 18.1596385,\n",
    "        18.1623871, 18.1596385, 18.1294042, 17.82981  , 14.8641016,\n",
    "         0.       ],\n",
    "       [ 0.       ,  1.5015808,  1.8011785,  1.8314437,  1.834498 ,\n",
    "         1.8347756,  1.834498 ,  1.8314437,  1.8011785,  1.5015808,\n",
    "         0.       ],\n",
    "       [ 0.       ,  0.1517061,  0.1819747,  0.1850325,  0.185341 ,\n",
    "         0.1853691,  0.185341 ,  0.1850325,  0.1819747,  0.1517061,\n",
    "         0.       ],\n",
    "       [ 0.       ,  0.0154802,  0.0185689,  0.0188809,  0.0189124,\n",
    "         0.0189152,  0.0189124,  0.0188809,  0.0185689,  0.0154802,\n",
    "         0.       ],\n",
    "       [ 0.       ,  0.003096 ,  0.0037138,  0.0037762,  0.0037825,\n",
    "         0.003783 ,  0.0037825,  0.0037762,  0.0037138,  0.003096 ,\n",
    "         0.       ],\n",
    "       [ 0.       ,  0.0154802,  0.0185689,  0.0188809,  0.0189124,\n",
    "         0.0189152,  0.0189124,  0.0188809,  0.0185689,  0.0154802,\n",
    "         0.       ],\n",
    "       [ 0.       ,  0.1517061,  0.1819747,  0.1850325,  0.185341 ,\n",
    "         0.1853691,  0.185341 ,  0.1850325,  0.1819747,  0.1517061,\n",
    "         0.       ],\n",
    "       [ 0.       ,  1.5015808,  1.8011785,  1.8314437,  1.834498 ,\n",
    "         1.8347756,  1.834498 ,  1.8314437,  1.8011785,  1.5015808,\n",
    "         0.       ],\n",
    "       [ 0.       , 14.8641016, 17.82981  , 18.1294042, 18.1596385,\n",
    "        18.1623871, 18.1596385, 18.1294042, 17.82981  , 14.8641016,\n",
    "         0.       ],\n",
    "       [ 0.       , 65.3025091, 78.3317661, 79.6479746, 79.780803 ,\n",
    "        79.7928783, 79.780803 , 79.6479746, 78.3317661, 65.3025091,\n",
    "         0.       ]])\n",
    "\n",
    "U = heat2D_ADI(dx, dy, dt, D, N)\n",
    "nt.assert_array_almost_equal(tans, U[:, :, 1])\n",
    "print('Test case passed!!!')"
   ]
  },
  {
   "cell_type": "code",
   "execution_count": null,
   "metadata": {
    "ExecuteTime": {
     "end_time": "2019-11-15T11:57:45.895073Z",
     "start_time": "2019-11-15T11:57:45.869935Z"
    },
    "deletable": false,
    "editable": false,
    "nbgrader": {
     "checksum": "f6c261f8d34310982b357a952777f4d3",
     "grade": true,
     "grade_id": "cell-e6246e22d95c35c7",
     "locked": true,
     "points": 8,
     "schema_version": 1,
     "solution": false
    }
   },
   "outputs": [],
   "source": [
    "# Hidden test\n",
    "# No output will be produced\n",
    "# 8 marks"
   ]
  },
  {
   "cell_type": "markdown",
   "metadata": {
    "deletable": false,
    "editable": false,
    "nbgrader": {
     "checksum": "da7cc8d7f6b1086603e5bd75c9dd447d",
     "grade": false,
     "grade_id": "cell-acaaa678eef6516b",
     "locked": true,
     "schema_version": 1,
     "solution": false
    }
   },
   "source": [
    "(b) [2 Marks] Plot a heatmap of the final time-step using the ADI function in Question 2(a), given the input below:"
   ]
  },
  {
   "cell_type": "code",
   "execution_count": null,
   "metadata": {
    "ExecuteTime": {
     "end_time": "2019-11-15T11:57:45.906269Z",
     "start_time": "2019-11-15T11:57:45.896326Z"
    },
    "deletable": false,
    "editable": false,
    "nbgrader": {
     "checksum": "9cb35c5b17715fd9546e2e6701b48576",
     "grade": false,
     "grade_id": "cell-8ed85f7306d58ece",
     "locked": true,
     "schema_version": 1,
     "solution": false
    }
   },
   "outputs": [],
   "source": [
    "dx = 0.1\n",
    "dy = 0.1\n",
    "dt = 0.1\n",
    "D  = 0.2\n",
    "N  = 5\n",
    "U  = heat2D_ADI(dx, dy, dt, D, N) "
   ]
  },
  {
   "cell_type": "code",
   "execution_count": null,
   "metadata": {
    "ExecuteTime": {
     "end_time": "2019-11-15T11:57:46.133481Z",
     "start_time": "2019-11-15T11:57:45.908408Z"
    },
    "deletable": false,
    "nbgrader": {
     "checksum": "f13ce20b73dfb7ced2c74a5ef3a3480a",
     "grade": true,
     "grade_id": "cell-133c59c99929fcb4",
     "locked": false,
     "points": 2,
     "schema_version": 1,
     "solution": true
    }
   },
   "outputs": [],
   "source": [
    "# 2 Marks\n",
    "# YOUR CODE HERE\n",
    "raise NotImplementedError()"
   ]
  },
  {
   "cell_type": "markdown",
   "metadata": {
    "deletable": false,
    "editable": false,
    "nbgrader": {
     "checksum": "bb0236de71e63fe919a92a316bc4f22b",
     "grade": false,
     "grade_id": "cell-58006b6088962b7e",
     "locked": true,
     "schema_version": 1,
     "solution": false
    }
   },
   "source": [
    "(c) [3 Marks] Modify your function from Question 3(a) to plot the two tridiagonal ADI matrices $A$ and $B$."
   ]
  },
  {
   "cell_type": "code",
   "execution_count": null,
   "metadata": {
    "ExecuteTime": {
     "end_time": "2019-11-15T11:57:46.313235Z",
     "start_time": "2019-11-15T11:57:46.134764Z"
    },
    "deletable": false,
    "nbgrader": {
     "checksum": "b23ec0937da5a7702124ba469b91c508",
     "grade": true,
     "grade_id": "cell-d08d6902c2564728",
     "locked": false,
     "points": 3,
     "schema_version": 1,
     "solution": true
    }
   },
   "outputs": [],
   "source": [
    "#3 Marks\n",
    "# YOUR CODE HERE\n",
    "raise NotImplementedError()"
   ]
  }
 ],
 "metadata": {
  "kernelspec": {
   "display_name": "Python 3",
   "language": "python",
   "name": "python3"
  },
  "language_info": {
   "codemirror_mode": {
    "name": "ipython",
    "version": 3
   },
   "file_extension": ".py",
   "mimetype": "text/x-python",
   "name": "python",
   "nbconvert_exporter": "python",
   "pygments_lexer": "ipython3",
   "version": "3.7.4"
  },
  "latex_envs": {
   "LaTeX_envs_menu_present": true,
   "autoclose": false,
   "autocomplete": false,
   "bibliofile": "biblio.bib",
   "cite_by": "apalike",
   "current_citInitial": 1,
   "eqLabelWithNumbers": true,
   "eqNumInitial": 1,
   "hotkeys": {
    "equation": "Ctrl-E",
    "itemize": "Ctrl-I"
   },
   "labels_anchors": false,
   "latex_user_defs": false,
   "report_style_numbering": false,
   "user_envs_cfg": false
  },
  "varInspector": {
   "cols": {
    "lenName": 16,
    "lenType": 16,
    "lenVar": 40
   },
   "kernels_config": {
    "python": {
     "delete_cmd_postfix": "",
     "delete_cmd_prefix": "del ",
     "library": "var_list.py",
     "varRefreshCmd": "print(var_dic_list())"
    },
    "r": {
     "delete_cmd_postfix": ") ",
     "delete_cmd_prefix": "rm(",
     "library": "var_list.r",
     "varRefreshCmd": "cat(var_dic_list()) "
    }
   },
   "types_to_exclude": [
    "module",
    "function",
    "builtin_function_or_method",
    "instance",
    "_Feature"
   ],
   "window_display": false
  }
 },
 "nbformat": 4,
 "nbformat_minor": 2
}
