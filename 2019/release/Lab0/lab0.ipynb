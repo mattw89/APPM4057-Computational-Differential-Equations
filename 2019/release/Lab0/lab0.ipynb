{
 "cells": [
  {
   "cell_type": "code",
   "execution_count": null,
   "metadata": {},
   "outputs": [],
   "source": [
    "# Initialisation Cell\n",
    "# You should always put imported modules here\n",
    "import numpy as np\n",
    "import numpy.testing as nt\n",
    "import numpy.linalg as LA\n",
    "import scipy.sparse as sc\n",
    "from matplotlib import pyplot as plt\n",
    "np.set_printoptions(suppress=True, precision=7)"
   ]
  },
  {
   "cell_type": "markdown",
   "metadata": {
    "deletable": false,
    "editable": false,
    "nbgrader": {
     "checksum": "3fff17e558578058e5cd364c068a553a",
     "grade": false,
     "grade_id": "cell-5625cb6b1f6218d6",
     "locked": true,
     "schema_version": 1,
     "solution": false
    }
   },
   "source": [
    "# CDES Honours - Lab 0\n",
    "\n",
    "\n",
    "## Instructions\n",
    "\n",
    "* Read all the instructions carefully.\n",
    "* Do not rename the notebook, simply answer the questions and resubmit the file to Moodle.\n",
    "* **Numpy** has a help file for every function if you get stuck. See: https://docs.scipy.org/doc/numpy-1.15.4/reference/\n",
    "* See these useful links:\n",
    "    * https://docs.scipy.org/doc/numpy/user/numpy-for-matlab-users.html\n",
    "    * https://docs.scipy.org/doc/numpy/user/quickstart.html\n",
    "* **Numpy** is not always required.\n",
    "* There are also numerous sources available on the internet, Google is your friend!"
   ]
  },
  {
   "cell_type": "markdown",
   "metadata": {
    "deletable": false,
    "editable": false,
    "nbgrader": {
     "checksum": "3b07d3df244fcd64fd181b09bd04d2aa",
     "grade": false,
     "grade_id": "cell-7d9dd551d370bf3f",
     "locked": true,
     "schema_version": 1,
     "solution": false
    }
   },
   "source": [
    "# Warm-up Exercises\n",
    "\n",
    "Complete the following warm-up tasks without the use of numpy.\n",
    "\n",
    "## Question 1\n",
    "\n",
    "Given an array of integers, write a function to compute the sum of its elements. You may not use the `sum` function."
   ]
  },
  {
   "cell_type": "code",
   "execution_count": null,
   "metadata": {
    "deletable": false,
    "nbgrader": {
     "checksum": "69f590bb5fe53d1347cb784d8f4282f8",
     "grade": false,
     "grade_id": "cell-b8cb415b27626ac7",
     "locked": false,
     "schema_version": 1,
     "solution": true
    }
   },
   "outputs": [],
   "source": [
    "# Question 1\n",
    "def simpleArraySum(ar):\n",
    "    # YOUR CODE HERE\n",
    "    raise NotImplementedError()\n"
   ]
  },
  {
   "cell_type": "code",
   "execution_count": null,
   "metadata": {
    "deletable": false,
    "editable": false,
    "nbgrader": {
     "checksum": "93dc241de164585a9046b8d06b4aee62",
     "grade": true,
     "grade_id": "cell-cb6ae809f6265451",
     "locked": true,
     "points": 1,
     "schema_version": 1,
     "solution": false
    }
   },
   "outputs": [],
   "source": [
    "# Run this test cell to check your code\n",
    "# Do not delete this cell\n",
    "# 1 mark\n",
    "# Unit test\n",
    "test = [1, 2, 3 , 4, 10, 11]\n",
    "assert(simpleArraySum(test) == 31)\n",
    "print('Test case passed!!!')"
   ]
  },
  {
   "cell_type": "code",
   "execution_count": null,
   "metadata": {
    "deletable": false,
    "editable": false,
    "nbgrader": {
     "checksum": "314bfb8bf89f688c0e643f3f6603d1e9",
     "grade": true,
     "grade_id": "cell-6657ce11342916b0",
     "locked": true,
     "points": 4,
     "schema_version": 1,
     "solution": false
    }
   },
   "outputs": [],
   "source": [
    "# Hidden test\n",
    "# No output will be produced\n",
    "# 4 marks"
   ]
  },
  {
   "cell_type": "markdown",
   "metadata": {
    "deletable": false,
    "editable": false,
    "nbgrader": {
     "checksum": "0b84c3948df1bfaa7c5d93283ffeda0b",
     "grade": false,
     "grade_id": "cell-a569a0d835688093",
     "locked": true,
     "schema_version": 1,
     "solution": false
    }
   },
   "source": [
    "## Question 2\n",
    "\n",
    "Write a function that takes as inputs, a word (as a string) and an array of letter heights. The function must compute the area required to highlight the entire word. For example, if the string is `'abc'`, and the specific heights of `a`, `b` and `c` are 1, 3, and 1 mm respectively - then the background area to highlight the entire string is the length of the string times the maximum height, therefore $3 \\times 3 = 9$mm."
   ]
  },
  {
   "cell_type": "code",
   "execution_count": null,
   "metadata": {
    "deletable": false,
    "nbgrader": {
     "checksum": "b1d5d282f2ccfe7d9c0564547b865960",
     "grade": false,
     "grade_id": "cell-80ece42e97eee467",
     "locked": false,
     "schema_version": 1,
     "solution": true
    }
   },
   "outputs": [],
   "source": [
    "def highlighter(h, word):\n",
    "    # YOUR CODE HERE\n",
    "    raise NotImplementedError()\n",
    "\n"
   ]
  },
  {
   "cell_type": "code",
   "execution_count": null,
   "metadata": {
    "deletable": false,
    "editable": false,
    "nbgrader": {
     "checksum": "c42f7e55d65537911bb438403a7d364c",
     "grade": true,
     "grade_id": "cell-a84aed43f73fc8bf",
     "locked": true,
     "points": 1,
     "schema_version": 1,
     "solution": false
    }
   },
   "outputs": [],
   "source": [
    "# Run this test cell to check your code\n",
    "# Do not delete this cell\n",
    "# 1 mark\n",
    "# Unit test\n",
    "test = 'abc'\n",
    "h    = [1, 3, 1, 3, 1, 4, 1, 3, 2, 5, 5, 5, 5, 5, 5, 5, 5, 5, 5, 5, 5, 5, 5, 5, 5, 7]\n",
    "assert(highlighter(h, test) == 9)\n",
    "print('Test case passed!!!')"
   ]
  },
  {
   "cell_type": "code",
   "execution_count": null,
   "metadata": {
    "deletable": false,
    "editable": false,
    "nbgrader": {
     "checksum": "ec1d3c9117dca0345c2503c84c8ee82f",
     "grade": true,
     "grade_id": "cell-32b96395a033ae8a",
     "locked": true,
     "points": 9,
     "schema_version": 1,
     "solution": false
    }
   },
   "outputs": [],
   "source": [
    "# Hidden test\n",
    "# No output will be produced\n",
    "# 9 marks"
   ]
  },
  {
   "cell_type": "markdown",
   "metadata": {
    "deletable": false,
    "editable": false,
    "nbgrader": {
     "checksum": "ff10c1cf137f5f45a5124c6cd29e4999",
     "grade": false,
     "grade_id": "cell-efff7a8b2ac5030e",
     "locked": true,
     "schema_version": 1,
     "solution": false
    }
   },
   "source": [
    "## Question 3\n",
    "\n",
    "Write a function that takes in an array, `ar`, of $n$ integers and a positive integer `k`. Find the number of $(i, j)$ pairs where $i < j$ and $ar(i) + ar(j)$ is divisible by `k`. The function should return the answer as a scalar."
   ]
  },
  {
   "cell_type": "code",
   "execution_count": null,
   "metadata": {
    "deletable": false,
    "nbgrader": {
     "checksum": "a6f634930e79cc9ecc620ab0a992eae6",
     "grade": false,
     "grade_id": "cell-3db470f43b2392f3",
     "locked": false,
     "schema_version": 1,
     "solution": true
    }
   },
   "outputs": [],
   "source": [
    "def divisibleSumPairs(k, ar):\n",
    "    # YOUR CODE HERE\n",
    "    raise NotImplementedError()\n"
   ]
  },
  {
   "cell_type": "code",
   "execution_count": null,
   "metadata": {
    "deletable": false,
    "editable": false,
    "nbgrader": {
     "checksum": "7707a202801966602383da4124a10978",
     "grade": true,
     "grade_id": "cell-689c5baf30f5a784",
     "locked": true,
     "points": 1,
     "schema_version": 1,
     "solution": false
    }
   },
   "outputs": [],
   "source": [
    "# Run this test cell to check your code\n",
    "# Do not delete this cell\n",
    "# 1 mark\n",
    "# Unit test\n",
    "k    = 3\n",
    "test = [1, 3, 2, 6, 1, 2]\n",
    "assert(divisibleSumPairs(k, test) == 5)\n",
    "print('Test case passed!!!')"
   ]
  },
  {
   "cell_type": "code",
   "execution_count": null,
   "metadata": {
    "deletable": false,
    "editable": false,
    "nbgrader": {
     "checksum": "dd475fac0525b07e2184fc0e84082d1a",
     "grade": true,
     "grade_id": "cell-ddc915205232a73a",
     "locked": true,
     "points": 1,
     "schema_version": 1,
     "solution": false
    }
   },
   "outputs": [],
   "source": [
    "# Run this test cell to check your code\n",
    "# Do not delete this cell\n",
    "# 1 mark\n",
    "# Unit test\n",
    "k    = 3\n",
    "test = [1, 3, 2, 6, 1, 2, 5, 9, 4]\n",
    "assert(divisibleSumPairs(k, test) == 12)\n",
    "print('Test case passed!!!')"
   ]
  },
  {
   "cell_type": "code",
   "execution_count": null,
   "metadata": {
    "deletable": false,
    "editable": false,
    "nbgrader": {
     "checksum": "741da33928c6b3eae4e480dd1846840f",
     "grade": true,
     "grade_id": "cell-40c7643c106fb90d",
     "locked": true,
     "points": 4,
     "schema_version": 1,
     "solution": false
    }
   },
   "outputs": [],
   "source": [
    "# Hidden test\n",
    "# No output will be produced\n",
    "# 4 marks"
   ]
  },
  {
   "cell_type": "code",
   "execution_count": null,
   "metadata": {
    "deletable": false,
    "editable": false,
    "nbgrader": {
     "checksum": "99651aa2914b93c08abd640415f53c32",
     "grade": true,
     "grade_id": "cell-b7ecc45e8c7eb1b0",
     "locked": true,
     "points": 4,
     "schema_version": 1,
     "solution": false
    }
   },
   "outputs": [],
   "source": [
    "# Hidden test\n",
    "# No output will be produced\n",
    "# 4 marks"
   ]
  },
  {
   "cell_type": "markdown",
   "metadata": {
    "deletable": false,
    "editable": false,
    "nbgrader": {
     "checksum": "e307479843934d56d73c51c3df112815",
     "grade": false,
     "grade_id": "cell-e16fe4f0df114a15",
     "locked": true,
     "schema_version": 1,
     "solution": false
    }
   },
   "source": [
    "## Main Exercises\n",
    "\n",
    "Complete the following problems:\n",
    "\n",
    "## Question 1\n",
    "\n",
    "Write a function implements a finite difference scheme to solve the heat equation. Specifically, the function should implement an explicit scheme which is forward difference in time and central difference in space. It should take as inputs a time step `dt`, a spatial step `dx`, a number of iterations to march forward in time `N`, the coeffient `D`, an initial function `f(x)` passed as a handle and boundary values `alpha` and `beta`. The function should output the solution space matrix `u`. Recall the heat equation problem as:\n",
    "$$\n",
    "u_{t} = Du_{xx},\\ \\ \\quad u(0, t) = \\alpha, \\ \\ u(1, t) = \\beta,\\ \\ \\qquad u(x, 0) = f(x) \n",
    "$$\n",
    "\n",
    "Note: the solution matrix here is matrix of all $x$ through time $t$. That is row one is at time zero.\n"
   ]
  },
  {
   "cell_type": "code",
   "execution_count": null,
   "metadata": {
    "deletable": false,
    "nbgrader": {
     "checksum": "48b11f50e23ae73d49ba1c8e7b7457e8",
     "grade": false,
     "grade_id": "cell-411db28418ab4c2d",
     "locked": false,
     "schema_version": 1,
     "solution": true
    }
   },
   "outputs": [],
   "source": [
    "def heat_eq(dt, dx, N, f, D, alpha, beta):\n",
    "    # YOUR CODE HERE\n",
    "    raise NotImplementedError()\n"
   ]
  },
  {
   "cell_type": "code",
   "execution_count": null,
   "metadata": {
    "deletable": false,
    "editable": false,
    "nbgrader": {
     "checksum": "ceea4f2a51c25b4c2949b39c8002b712",
     "grade": true,
     "grade_id": "cell-b946814d8947549d",
     "locked": true,
     "points": 2,
     "schema_version": 1,
     "solution": false
    }
   },
   "outputs": [],
   "source": [
    "# Run this test cell to check your code\n",
    "# Do not delete this cell\n",
    "# 2 mark\n",
    "# Unit test\n",
    "dt    = 0.0013\n",
    "dx    = 0.05\n",
    "N     = 50\n",
    "f     = lambda x: np.sin(np.pi*x)\n",
    "D     = 1\n",
    "alpha = 0\n",
    "beta  = 0\n",
    "ans   = heat_eq(dt, dx, N, f, D, alpha, beta)\n",
    "t1    = np.array([0.      , 0.156434, 0.309017, 0.45399 , 0.587785, 0.707107,\n",
    "       0.809017, 0.891007, 0.951057, 0.987688, 1.      , 0.987688,\n",
    "       0.951057, 0.891007, 0.809017, 0.707107, 0.587785, 0.45399 ,\n",
    "       0.309017, 0.156434, 0.      ])\n",
    "t2    = np.array([0.      , 0.082129, 0.162237, 0.238349, 0.308592, 0.371237,\n",
    "       0.424741, 0.467786, 0.499313, 0.518545, 0.525009, 0.518545,\n",
    "       0.499313, 0.467786, 0.424741, 0.371237, 0.308592, 0.238349,\n",
    "       0.162237, 0.082129, 0.      ])\n",
    "nt.assert_array_almost_equal(ans[0, ::], t1, 5)\n",
    "nt.assert_array_almost_equal(ans[-1, ::], t2, 5)\n",
    "print('Test case passed!!!')"
   ]
  },
  {
   "cell_type": "code",
   "execution_count": null,
   "metadata": {
    "deletable": false,
    "editable": false,
    "nbgrader": {
     "checksum": "495335d8f982b660b798d1a08f0fbd20",
     "grade": true,
     "grade_id": "cell-238404d0090230b5",
     "locked": true,
     "points": 13,
     "schema_version": 1,
     "solution": false
    }
   },
   "outputs": [],
   "source": [
    "# Hidden test\n",
    "# No output will be produced\n",
    "# 13 marks\n",
    "\n"
   ]
  },
  {
   "cell_type": "markdown",
   "metadata": {
    "deletable": false,
    "editable": false,
    "nbgrader": {
     "checksum": "4200833bd7074f37bb73a1eceb877e31",
     "grade": false,
     "grade_id": "cell-a576a5b23ef4a45c",
     "locked": true,
     "schema_version": 1,
     "solution": false
    }
   },
   "source": [
    "## Question 2\n",
    "\n",
    "Consider the differential equation given below:\n",
    "$$\n",
    "\\frac{d^{2} u}{d x^{2}}+\\frac{2}{x} \\frac{d u}{d x}-\\frac{2}{x^{2}} u-\\sin (\\log x)=0, \\qquad a<x<b,\\quad u(a)=\\alpha \\text { and } u(b)=\\beta.\n",
    "$$\n",
    "Write a function which implements a finite difference scheme which is central difference in space. The function should return the final approximation `u`."
   ]
  },
  {
   "cell_type": "code",
   "execution_count": null,
   "metadata": {
    "deletable": false,
    "nbgrader": {
     "checksum": "43e576b7000054ecb398dcdfb99f8ad6",
     "grade": false,
     "grade_id": "cell-8ad504c2e44e6ea1",
     "locked": false,
     "schema_version": 1,
     "solution": true
    }
   },
   "outputs": [],
   "source": [
    "def ode(a, b, dx, alpha, beta):\n",
    "    # YOUR CODE HERE\n",
    "    raise NotImplementedError()"
   ]
  },
  {
   "cell_type": "code",
   "execution_count": null,
   "metadata": {
    "deletable": false,
    "editable": false,
    "nbgrader": {
     "checksum": "ac2e36126d13a4e5caaed02566fde149",
     "grade": true,
     "grade_id": "cell-754490c6cadd3e4d",
     "locked": true,
     "points": 2,
     "schema_version": 1,
     "solution": false
    }
   },
   "outputs": [],
   "source": [
    "# Run this test cell to check your code\n",
    "# Do not delete this cell\n",
    "# 2 mark\n",
    "# Unit test\n",
    "a     = 1\n",
    "b     = 2\n",
    "dx    = 1/10\n",
    "alpha = 1\n",
    "beta  = 2\n",
    "nt.assert_array_almost_equal(np.array([1.       , 1.0843325, 1.1719112, 1.2627144, 1.35683  , 1.4544006,\n",
    "                                       1.5555929, 1.6605808, 1.7695365, 1.8826246, 2.       ]), ode(a, b, dx, alpha, beta))\n",
    "print('Test case passed!!!')"
   ]
  },
  {
   "cell_type": "code",
   "execution_count": null,
   "metadata": {
    "deletable": false,
    "editable": false,
    "nbgrader": {
     "checksum": "f5ee1fb1b91abeb426138bc8633a09b8",
     "grade": true,
     "grade_id": "cell-6a784ddea5c8f259",
     "locked": true,
     "points": 13,
     "schema_version": 1,
     "solution": false
    }
   },
   "outputs": [],
   "source": [
    "# Hidden test\n",
    "# No output will be produced\n",
    "# 13 marks\n"
   ]
  }
 ],
 "metadata": {
  "kernelspec": {
   "display_name": "Python 3",
   "language": "python",
   "name": "python3"
  },
  "language_info": {
   "codemirror_mode": {
    "name": "ipython",
    "version": 3
   },
   "file_extension": ".py",
   "mimetype": "text/x-python",
   "name": "python",
   "nbconvert_exporter": "python",
   "pygments_lexer": "ipython3",
   "version": "3.7.4"
  },
  "latex_envs": {
   "LaTeX_envs_menu_present": true,
   "autoclose": false,
   "autocomplete": false,
   "bibliofile": "biblio.bib",
   "cite_by": "apalike",
   "current_citInitial": 1,
   "eqLabelWithNumbers": true,
   "eqNumInitial": 1,
   "hotkeys": {
    "equation": "Ctrl-E",
    "itemize": "Ctrl-I"
   },
   "labels_anchors": false,
   "latex_user_defs": false,
   "report_style_numbering": false,
   "user_envs_cfg": false
  },
  "varInspector": {
   "cols": {
    "lenName": 16,
    "lenType": 16,
    "lenVar": 40
   },
   "kernels_config": {
    "python": {
     "delete_cmd_postfix": "",
     "delete_cmd_prefix": "del ",
     "library": "var_list.py",
     "varRefreshCmd": "print(var_dic_list())"
    },
    "r": {
     "delete_cmd_postfix": ") ",
     "delete_cmd_prefix": "rm(",
     "library": "var_list.r",
     "varRefreshCmd": "cat(var_dic_list()) "
    }
   },
   "types_to_exclude": [
    "module",
    "function",
    "builtin_function_or_method",
    "instance",
    "_Feature"
   ],
   "window_display": false
  }
 },
 "nbformat": 4,
 "nbformat_minor": 2
}
