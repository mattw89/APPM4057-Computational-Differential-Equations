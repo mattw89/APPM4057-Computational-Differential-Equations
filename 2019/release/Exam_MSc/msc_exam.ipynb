{
 "cells": [
  {
   "cell_type": "code",
   "execution_count": null,
   "metadata": {
    "ExecuteTime": {
     "end_time": "2019-11-15T13:30:59.042270Z",
     "start_time": "2019-11-15T13:30:58.704320Z"
    }
   },
   "outputs": [],
   "source": [
    "# Initialisation Cell\n",
    "# You should always put imported modules here\n",
    "from math import *\n",
    "import numpy as np\n",
    "import numpy.testing as nt\n",
    "import numpy.linalg as LA\n",
    "import warnings\n",
    "import seaborn as sns\n",
    "warnings.filterwarnings(\"ignore\")\n",
    "from matplotlib import pyplot as plt\n",
    "np.set_printoptions(suppress=True, precision=7)"
   ]
  },
  {
   "cell_type": "markdown",
   "metadata": {
    "ExecuteTime": {
     "end_time": "2019-11-15T13:23:23.260314Z",
     "start_time": "2019-11-15T13:23:23.255438Z"
    },
    "deletable": false,
    "editable": false,
    "nbgrader": {
     "checksum": "1acf54e9b8c6d9d1eeea1cd613ea61ac",
     "grade": false,
     "grade_id": "cell-398cbf7cc640fc51",
     "locked": true,
     "schema_version": 1,
     "solution": false
    }
   },
   "source": [
    "# APPM7037A  - November 2019\n",
    "\n",
    "# Exam Office Info\n",
    "\n",
    "| Examiner          | Name              |\n",
    "|-------------------|-------------------|\n",
    "| Internal Examiner | Prof B. A. Jacobs |\n",
    "| External Examiner | Prof C. Harley |"
   ]
  },
  {
   "cell_type": "markdown",
   "metadata": {
    "deletable": false,
    "editable": false,
    "nbgrader": {
     "checksum": "f5df6f9ef88b877a251ab05b2f7ab919",
     "grade": false,
     "grade_id": "cell-d65008033fd5cabd",
     "locked": true,
     "schema_version": 1,
     "solution": false
    }
   },
   "source": [
    "# CDEs Masters - Exam\n",
    "\n",
    "## Instructions\n",
    "\n",
    "* Read all the instructions carefully.\n",
    "* The exam consists of **95 Marks**, with **four** hours available.\n",
    "* The written section is to be answered in the book provided.\n",
    "* You must only access Moodle **TESTS** and NOT Moodle.\n",
    "* The programming section is to be answered within this Jupyter notebook and resubmitted to Moodle **TESTS**.\n",
    "* Do not rename the notebook, simply answer the questions and resubmit the file to Moodle.\n",
    "* The moodle submission link will expire at exactly **13:00** and **NO** late submission will be accepted. Please make sure you submit timeously!\n",
    "* The **Numpy** and **Matplotlib** documentation has been downloaded and is open on your current machine.\n",
    "* **NB!!!** Anyone caught using Moodle (and its file storing), flash drives or external notes will be awarded zero and reported to the legal office."
   ]
  },
  {
   "cell_type": "markdown",
   "metadata": {
    "deletable": false,
    "editable": false,
    "nbgrader": {
     "checksum": "81b3033cb81ec5b3f4ffcfea9330e3c0",
     "grade": false,
     "grade_id": "cell-9126ad8e61aa1f8d",
     "locked": true,
     "schema_version": 1,
     "solution": false
    }
   },
   "source": [
    "## Written Section\n",
    "\n",
    "* Answer the following questions in the answer book provided.\n",
    "\n",
    "### Question 1 - 10 Marks\n",
    "\n",
    "Discuss each of the below listed terms and their relation to one another (i.e. the theorem which describes this relationship):\n",
    "\n",
    "* Consistency,\n",
    "* Stability, \n",
    "* Convergence,\n",
    "\n",
    "Be sure to give potential methods of analysing consistency, stability and convergence of a  linear PDE."
   ]
  },
  {
   "cell_type": "markdown",
   "metadata": {
    "deletable": false,
    "editable": false,
    "nbgrader": {
     "checksum": "0ae967222bf511bb359d66fb0e15f9ac",
     "grade": false,
     "grade_id": "cell-a5cf2ba4750d67b8",
     "locked": true,
     "schema_version": 1,
     "solution": false
    }
   },
   "source": [
    "### Question 2 - 10 Marks\n",
    "\n",
    "Analyse the stability of the given ADI scheme by taking the discrete Fourier Transform of the equation:\n",
    "$$\n",
    "u_{j, n}^{m+1 / 2}-u_{j, n}^{m}=\\frac{\\nu}{\\Delta x^{2}} A u_{j, n}^{m+1 / 2}+\\frac{\\nu}{\\Delta y^{2}} B u_{j, n}^{m},\n",
    "$$\n",
    "which can be rewritten as:\n",
    "$$\n",
    "\\left(1-\\frac{\\beta_{x}}{2} A\\right) u^{m+1 / 2}=\\left(1+\\frac{\\beta_{x}}{2} B\\right) u^{m+1 / 2},\n",
    "$$\n",
    "with $\\beta_x = \\frac{\\Delta t}{\\Delta x^2}$ and $\\beta_y = \\frac{\\Delta t}{\\Delta y^2}$."
   ]
  },
  {
   "cell_type": "markdown",
   "metadata": {
    "deletable": false,
    "editable": false,
    "nbgrader": {
     "checksum": "70a7b6b23f8446760217d231f99645ae",
     "grade": false,
     "grade_id": "cell-c9f7dfc8194fbc4f",
     "locked": true,
     "schema_version": 1,
     "solution": false
    }
   },
   "source": [
    "### Question 3 - 10 Marks\n",
    "Verify that:\n",
    "$$\n",
    "\\left.\\frac{\\partial^{3} u}{\\partial x^{3}}\\right|_{i, j}=\\frac{\\delta_{+}^{3} u_{i, j}}{(\\Delta x)^{3}}+O(\\Delta x).\n",
    "$$\n",
    "(Hint: Taylor series)"
   ]
  },
  {
   "cell_type": "markdown",
   "metadata": {
    "deletable": false,
    "editable": false,
    "nbgrader": {
     "checksum": "0c4c4a83a076c4b0fc08cf61dfe39c8d",
     "grade": false,
     "grade_id": "cell-89aa12f315e761d7",
     "locked": true,
     "schema_version": 1,
     "solution": false
    }
   },
   "source": [
    "### Question 4 - 10 Marks\n",
    "\n",
    "Consider the heat equation in cylindrical coordinates:\n",
    "$$\n",
    "u_{t}=\\frac{\\alpha}{r} \\frac{\\partial}{\\partial r}\\left(r \\frac{\\partial u}{\\partial r}\\right).\n",
    "$$\n",
    "(a) [8 Marks] Using a Lax-Wendroff scheme, set up an updating equation.\n",
    "\n",
    "(b) [2 Marks] Comment on ways in which the scheme could be improved."
   ]
  },
  {
   "cell_type": "markdown",
   "metadata": {},
   "source": [
    "## Programming Section \n",
    "\n",
    "### Question 1 - 15 Marks\n",
    "\n",
    "(a) [10 Marks] Consider the wave equation given by:\n",
    "$$\n",
    "u_{tt} = c^2u_{xx},\n",
    "$$\n",
    "$$\n",
    "u(x, 0) = x(1 - x), \\ \\ \\ u_t(x, 0) = 0, \\ \\ \\ u(0, t) = u(1, t) = 0.\n",
    "$$\n",
    "Write a function that implements a centered space, centered time scheme. Specifically, your function should take as inputs, the stepsizes `dx` and `dt`, the wave speed `c` (not squared valued), the number of iterations to perform `N` and the left and right endpoints `a`, `b`.\n",
    "\n",
    "Your function should return the solution matrix, containing the wave profile at each time iteration, i.e. `N + 1` rows."
   ]
  },
  {
   "cell_type": "code",
   "execution_count": null,
   "metadata": {
    "ExecuteTime": {
     "end_time": "2019-11-15T13:26:25.241440Z",
     "start_time": "2019-11-15T13:26:25.230532Z"
    },
    "deletable": false,
    "nbgrader": {
     "checksum": "ae42af23bc91b3abf8cf23ab5e6c3055",
     "grade": false,
     "grade_id": "cell-89a1826d12c930b1",
     "locked": false,
     "schema_version": 1,
     "solution": true
    }
   },
   "outputs": [],
   "source": [
    "def wave_eq(dx, dt, c, N, ic, a, b):\n",
    "    # YOUR CODE HERE\n",
    "    raise NotImplementedError()\n",
    "    "
   ]
  },
  {
   "cell_type": "code",
   "execution_count": null,
   "metadata": {
    "ExecuteTime": {
     "end_time": "2019-11-15T13:26:25.539828Z",
     "start_time": "2019-11-15T13:26:25.531152Z"
    },
    "deletable": false,
    "editable": false,
    "nbgrader": {
     "checksum": "e3f5b7bdfa280c365588a8126398961c",
     "grade": true,
     "grade_id": "cell-4586153f489e841b",
     "locked": true,
     "points": 1,
     "schema_version": 1,
     "solution": false
    }
   },
   "outputs": [],
   "source": [
    "# Run this test cell to check your code\n",
    "# Do not delete this cell\n",
    "# 1 mark\n",
    "# Unit test\n",
    "dx = 0.1\n",
    "c  = 0.2\n",
    "tf = 8 \n",
    "N  = 20\n",
    "dt = (tf - 0)/N\n",
    "a  = 0 \n",
    "b  = 1\n",
    "ic = lambda x: x*(1 - x)\n",
    "tans = np.array([0.  , 0.09, 0.16, 0.21, 0.24, 0.25, 0.24, 0.21, 0.16, 0.09, 0.  ])\n",
    "U = wave_eq(dx, dt, c, N, ic, a, b)\n",
    "nt.assert_array_almost_equal(tans, U[0, :])\n",
    "print('Test case passed!!!')"
   ]
  },
  {
   "cell_type": "code",
   "execution_count": null,
   "metadata": {
    "ExecuteTime": {
     "end_time": "2019-11-15T13:26:25.831061Z",
     "start_time": "2019-11-15T13:26:25.822027Z"
    },
    "deletable": false,
    "editable": false,
    "nbgrader": {
     "checksum": "2926ef079740e8a451c230f5d0d04fe7",
     "grade": true,
     "grade_id": "cell-d0ac0e89716c2a89",
     "locked": true,
     "points": 1,
     "schema_version": 1,
     "solution": false
    }
   },
   "outputs": [],
   "source": [
    "# Run this test cell to check your code\n",
    "# Do not delete this cell\n",
    "# 1 mark\n",
    "# Unit test\n",
    "dx = 0.1\n",
    "c  = 0.2\n",
    "tf = 8 \n",
    "N  = 20\n",
    "dt = (tf - 0)/N\n",
    "a  = 0 \n",
    "b  = 1\n",
    "ic = lambda x: x*(1 - x)\n",
    "tans = np.array([0.    , 0.0836, 0.1536, 0.2036, 0.2336, 0.2436, 0.2336, 0.2036,\n",
    "       0.1536, 0.0836, 0.    ])\n",
    "U = wave_eq(dx, dt, c, N, ic, a, b)\n",
    "nt.assert_array_almost_equal(tans, U[1, :])\n",
    "print('Test case passed!!!')"
   ]
  },
  {
   "cell_type": "code",
   "execution_count": null,
   "metadata": {
    "ExecuteTime": {
     "end_time": "2019-11-15T13:26:29.639004Z",
     "start_time": "2019-11-15T13:26:29.627318Z"
    },
    "deletable": false,
    "editable": false,
    "nbgrader": {
     "checksum": "8b72345fdc5cc66d6ebf5135d627e923",
     "grade": true,
     "grade_id": "cell-bb89b05cf247c9a0",
     "locked": true,
     "points": 8,
     "schema_version": 1,
     "solution": false
    }
   },
   "outputs": [],
   "source": [
    "# Hidden test\n",
    "# No output will be produced\n",
    "# 8 marks"
   ]
  },
  {
   "cell_type": "markdown",
   "metadata": {
    "ExecuteTime": {
     "end_time": "2019-11-15T13:26:42.151187Z",
     "start_time": "2019-11-15T13:26:42.147444Z"
    },
    "deletable": false,
    "editable": false,
    "nbgrader": {
     "checksum": "df5c145df66b3a1a38cde56de33cc28e",
     "grade": false,
     "grade_id": "cell-6458c192ecb9ae8b",
     "locked": true,
     "schema_version": 1,
     "solution": false
    }
   },
   "source": [
    "(b) [5 Marks] Continuing with Question 1(a) above, given the input below, produce the 3D surface plot illustrating the evolution of the wave profile over time."
   ]
  },
  {
   "cell_type": "code",
   "execution_count": null,
   "metadata": {
    "ExecuteTime": {
     "end_time": "2019-11-15T13:26:49.647511Z",
     "start_time": "2019-11-15T13:26:49.611558Z"
    },
    "deletable": false,
    "editable": false,
    "nbgrader": {
     "checksum": "4e46d5956f9048ab29ad6dd43b3e84c8",
     "grade": false,
     "grade_id": "cell-80eae61add84e8b3",
     "locked": true,
     "schema_version": 1,
     "solution": false
    }
   },
   "outputs": [],
   "source": [
    "dx    = 0.001\n",
    "c     = 0.2\n",
    "tf    = 8 \n",
    "N     = 2000\n",
    "dt    = (tf - 0)/N\n",
    "a     = 0 \n",
    "b     = 1\n",
    "ic    = lambda x: x*(1 - x)\n",
    "xvals = np.linspace(a, b, int((b - a)/dx) + 1)\n",
    "U     = wave_eq(dx, dt, c, N, ic, a, b)"
   ]
  },
  {
   "cell_type": "code",
   "execution_count": null,
   "metadata": {
    "ExecuteTime": {
     "end_time": "2019-11-15T13:26:53.760156Z",
     "start_time": "2019-11-15T13:26:52.579274Z"
    },
    "deletable": false,
    "nbgrader": {
     "checksum": "e8db94a99252c76c3c8f3deaf875e0a3",
     "grade": true,
     "grade_id": "cell-b6d9274ff87c0b91",
     "locked": false,
     "points": 5,
     "schema_version": 1,
     "solution": true
    }
   },
   "outputs": [],
   "source": [
    "# YOUR CODE HERE\n",
    "raise NotImplementedError()"
   ]
  },
  {
   "cell_type": "markdown",
   "metadata": {
    "deletable": false,
    "editable": false,
    "nbgrader": {
     "checksum": "412b654511e8e93a9f38f83e6d8cd9f7",
     "grade": false,
     "grade_id": "cell-ff66d4ad383d86fe",
     "locked": true,
     "schema_version": 1,
     "solution": false
    }
   },
   "source": [
    "### Question 2 - 15 Marks\n",
    "\n",
    "Given the equation:\n",
    "$$\n",
    "\\frac{\\partial^{2} T}{\\partial r^{2}}+\\frac{1}{r} \\frac{\\partial T}{\\partial r}=\\frac{1}{4 K} \\frac{\\partial T}{\\partial t}, \\quad 0 \\leq r \\leq 1, \\quad t \\geq 0,\n",
    "$$\n",
    "where:\n",
    "$$\n",
    "T^\\prime\\left(0, t\\right)=0, \\qquad T(1, t)=100+40 t, \\quad T(r, 0)=200\\cos(r)\n",
    "$$\n",
    "\n",
    "\n",
    "(a) [10 Marks] Write a function which uses central difference approximations for the spatial derivatives and a backward difference approximation for temporal derivatives. The function should take as inputs, the time step `dt`, the spatial step `dr`, a final temperature to approximate `tf`, and the diffusivity coefficient `K`. The function should return the matrix of solutions ended with the approximation at `tf`."
   ]
  },
  {
   "cell_type": "code",
   "execution_count": null,
   "metadata": {
    "ExecuteTime": {
     "end_time": "2019-11-15T13:27:12.053651Z",
     "start_time": "2019-11-15T13:27:12.033241Z"
    },
    "deletable": false,
    "nbgrader": {
     "checksum": "aedf7c1ee4b7c5afa5b41a4061990caa",
     "grade": false,
     "grade_id": "cell-b79650a0e4abedcb",
     "locked": false,
     "schema_version": 1,
     "solution": true
    }
   },
   "outputs": [],
   "source": [
    "def heatEqnCylinderNBC(dt, dr, tf, K):\n",
    "    # YOUR CODE HERE\n",
    "    raise NotImplementedError()"
   ]
  },
  {
   "cell_type": "code",
   "execution_count": null,
   "metadata": {
    "ExecuteTime": {
     "end_time": "2019-11-15T13:27:19.457139Z",
     "start_time": "2019-11-15T13:27:19.408631Z"
    },
    "deletable": false,
    "editable": false,
    "nbgrader": {
     "checksum": "8feec6049a4712e58fa9461155b1228b",
     "grade": true,
     "grade_id": "cell-1dd3467884cdcbd7",
     "locked": true,
     "points": 1,
     "schema_version": 1,
     "solution": false
    }
   },
   "outputs": [],
   "source": [
    "# Run this test cell to check your code\n",
    "# Do not delete this cell\n",
    "# 1 mark\n",
    "# Unit test\n",
    "dr = 0.01\n",
    "dt = 0.005\n",
    "K  = 0.1\n",
    "tf = 0.5\n",
    "u = heatEqnCylinderNBC(dt, dr, tf, K)\n",
    "tans = np.array([200.       , 199.9900001, 199.9600013, 199.9100067, 199.8400213,\n",
    "               199.7500521, 199.640108 , 199.5102001, 199.3603413, 199.1905466,\n",
    "               199.0008331, 198.7912196, 198.5617272, 198.3123787, 198.0431992,\n",
    "               197.7542156, 197.4454567, 197.1169534, 196.7687386, 196.400847 ,\n",
    "               196.0133156, 195.6061829, 195.1794899, 194.733279 , 194.267595 ,\n",
    "               193.7824843, 193.2779956, 192.7541793, 192.2110877, 191.6487751,\n",
    "               191.0672978, 190.466714 , 189.8470836, 189.2084687, 188.5509331,\n",
    "               187.8745426, 187.1793647, 186.4654691, 185.7329271, 184.981812 ,\n",
    "               184.2121988, 183.4241646, 182.6177881, 181.7931499, 180.9503326,\n",
    "               180.0894205, 179.2104995, 178.3136576, 177.3989846, 176.4665717,\n",
    "               175.5165124, 174.5489015, 173.5638359, 172.5614141, 171.5417363,\n",
    "               170.5049044, 169.4510222, 168.380195 , 167.29253  , 166.1881358,\n",
    "               165.067123 , 163.9296036, 162.7756913, 161.6055017, 160.4191516,\n",
    "               159.2167597, 157.9984463, 156.7643332, 155.5145438, 154.249203 ,\n",
    "               152.9684375, 151.6723752, 150.3611458, 149.0348805, 147.6937117,\n",
    "               146.3377738, 144.9672021, 143.5821339, 142.1827076, 140.7690631,\n",
    "               139.3413419, 137.8996866, 136.4442415, 134.975152 , 133.4925652,\n",
    "               131.9966292, 130.4874936, 128.9653094, 127.4302288, 125.8824053,\n",
    "               124.3219937, 122.7491499, 121.1640313, 119.5667965, 117.957605 ,\n",
    "               116.3366179, 114.7039972, 113.0599062, 111.4045094, 109.7379721,\n",
    "               100.       ])\n",
    "nt.assert_array_almost_equal(u[0, :], tans)\n",
    "print('Test case passed!!!')"
   ]
  },
  {
   "cell_type": "code",
   "execution_count": null,
   "metadata": {
    "ExecuteTime": {
     "end_time": "2019-11-15T13:27:23.646341Z",
     "start_time": "2019-11-15T13:27:23.598714Z"
    },
    "deletable": false,
    "editable": false,
    "nbgrader": {
     "checksum": "d834e16c870c851415f2fb94ee070dbb",
     "grade": true,
     "grade_id": "cell-a7cddcf75cba5287",
     "locked": true,
     "points": 1,
     "schema_version": 1,
     "solution": false
    }
   },
   "outputs": [],
   "source": [
    "# Run this test cell to check your code\n",
    "# Do not delete this cell\n",
    "# 1 mark\n",
    "# Unit test\n",
    "dr = 0.01\n",
    "dt = 0.005\n",
    "K  = 0.1\n",
    "tf = 0.5\n",
    "u = heatEqnCylinderNBC(dt, dr, tf, K)\n",
    "tans = np.array([199.2194951, 199.1999825, 199.1671443, 199.1157272, 199.0449601,\n",
    "               198.954583 , 198.8444803, 198.7145953, 198.5649001, 198.3953835,\n",
    "               198.2060452, 197.996892 , 197.7679365, 197.5191955, 197.2506895,\n",
    "               196.962442 , 196.6544795, 196.326831 , 195.9795278, 195.6126038,\n",
    "               195.2260948, 194.8200389, 194.3944763, 193.9494491, 193.4850016,\n",
    "               193.00118  , 192.4980326, 191.9756095, 191.433963 , 190.873147 ,\n",
    "               190.2932177, 189.6942329, 189.0762525, 188.4393384, 187.783554 ,\n",
    "               187.108965 , 186.4156388, 185.7036446, 184.9730535, 184.2239387,\n",
    "               183.4563747, 182.6704383, 181.8662079, 181.0437636, 180.2031874,\n",
    "               179.3445631, 178.4679761, 177.5735134, 176.6612638, 175.7313178,\n",
    "               174.7837671, 173.8187054, 172.8362273, 171.8364292, 170.8194084,\n",
    "               169.7852636, 168.734094 , 167.6660001, 166.5810825, 165.4794421,\n",
    "               164.3611798, 163.2263957, 162.0751888, 160.9076564, 159.7238927,\n",
    "               158.5239885, 157.3080293, 156.0760939, 154.8282524, 153.5645634,\n",
    "               152.2850713, 150.9898021, 149.6787585, 148.3519142, 147.0092062,\n",
    "               145.6505255, 144.2757058, 142.8845087, 141.4766063, 140.0515588,\n",
    "               138.6087868, 137.1475373, 135.6668404, 134.1654569, 132.6418117,\n",
    "               131.0939118, 129.5192441, 127.914648 , 126.2761573, 124.598803 ,\n",
    "               122.8763685, 121.1010846, 119.2632497, 117.3507579, 115.3485112,\n",
    "               113.2376878, 110.994832 , 108.5907209, 105.988954 , 103.1441977,\n",
    "               100.2      ])\n",
    "nt.assert_array_almost_equal(u[1, :], tans)\n",
    "print('Test case passed!!!')"
   ]
  },
  {
   "cell_type": "code",
   "execution_count": null,
   "metadata": {
    "ExecuteTime": {
     "end_time": "2019-11-15T13:27:30.830141Z",
     "start_time": "2019-11-15T13:27:30.774122Z"
    },
    "deletable": false,
    "editable": false,
    "nbgrader": {
     "checksum": "a9c4191eb428d1695efa1c2f6cc21215",
     "grade": true,
     "grade_id": "cell-e2fff8343f89aa9e",
     "locked": true,
     "points": 8,
     "schema_version": 1,
     "solution": false
    }
   },
   "outputs": [],
   "source": [
    "# Hidden test\n",
    "# No output will be produced\n",
    "# 8 marks"
   ]
  },
  {
   "cell_type": "markdown",
   "metadata": {
    "deletable": false,
    "editable": false,
    "nbgrader": {
     "checksum": "e113dfea295b5bc46dcc73541d133d1c",
     "grade": false,
     "grade_id": "cell-e8e53329b099f307",
     "locked": true,
     "schema_version": 1,
     "solution": false
    }
   },
   "source": [
    "(b) [5 Marks] Continuing from Question 2(a) above, plot the surface plot over all time, given the input below:"
   ]
  },
  {
   "cell_type": "code",
   "execution_count": null,
   "metadata": {
    "ExecuteTime": {
     "end_time": "2019-11-15T13:27:43.293352Z",
     "start_time": "2019-11-15T13:27:40.214610Z"
    },
    "deletable": false,
    "editable": false,
    "nbgrader": {
     "checksum": "b78a2ff6c9750246bab060f15b83f95c",
     "grade": false,
     "grade_id": "cell-0fce33234687f1b3",
     "locked": true,
     "schema_version": 1,
     "solution": false
    }
   },
   "outputs": [],
   "source": [
    "dr = 0.001\n",
    "dt = 0.005\n",
    "K  = 0.1\n",
    "tf = 0.5\n",
    "u = heatEqnCylinderNBC(dt, dr, tf, K)"
   ]
  },
  {
   "cell_type": "code",
   "execution_count": null,
   "metadata": {
    "ExecuteTime": {
     "end_time": "2019-11-15T13:27:43.736567Z",
     "start_time": "2019-11-15T13:27:43.311312Z"
    },
    "deletable": false,
    "nbgrader": {
     "checksum": "b8ac824056c961703908dd476887f898",
     "grade": true,
     "grade_id": "cell-90d7ea55b539f4a2",
     "locked": false,
     "points": 5,
     "schema_version": 1,
     "solution": true
    }
   },
   "outputs": [],
   "source": [
    "# YOUR CODE HERE\n",
    "raise NotImplementedError()"
   ]
  },
  {
   "cell_type": "markdown",
   "metadata": {
    "deletable": false,
    "editable": false,
    "nbgrader": {
     "checksum": "4b69c41f9580dfbf00650b4a0f33fa87",
     "grade": false,
     "grade_id": "cell-181434b7b708e5c3",
     "locked": true,
     "schema_version": 1,
     "solution": false
    }
   },
   "source": [
    "### Question 3 - 10 Marks\n",
    "\n",
    "(a) [7 Marks] Given the heat equation where:\n",
    "$$\n",
    "u_t = u_{xx},\n",
    "$$\n",
    "$$\n",
    "0 < x < 1, \\ \\ \\ t \\geq 0, \\ \\ \\ u(0, t) = u(1, t) = 0, \\ \\ \\  u(x, 0) = \\sin(\\pi x),\n",
    "$$\n",
    "\n",
    "Implement a Crank-Nicolson scheme on the heat equation given above and find an approximation to $t = 0.5$. The function should take as inputs, the time-step `dt`, the spatial step `dx`, the final time `tf`, and the initial condition as a handle, `f`. The function should return the solution matrix $U$.\n",
    "\n",
    "Note: the analytical solution is:\n",
    "$$\n",
    "u(x, t) = e^{-\\pi^2 t}\\sin(\\pi x)\n",
    "$$"
   ]
  },
  {
   "cell_type": "code",
   "execution_count": null,
   "metadata": {
    "ExecuteTime": {
     "end_time": "2019-11-15T13:28:30.720076Z",
     "start_time": "2019-11-15T13:28:30.693107Z"
    },
    "deletable": false,
    "nbgrader": {
     "checksum": "ebfaabee465879d93c257be78ca3a089",
     "grade": false,
     "grade_id": "cell-00c41d95814b89a0",
     "locked": false,
     "schema_version": 1,
     "solution": true
    }
   },
   "outputs": [],
   "source": [
    "def crankNicolson(dt, dx, tf, f):\n",
    "    # YOUR CODE HERE\n",
    "    raise NotImplementedError()"
   ]
  },
  {
   "cell_type": "code",
   "execution_count": null,
   "metadata": {
    "ExecuteTime": {
     "end_time": "2019-11-15T13:28:31.336287Z",
     "start_time": "2019-11-15T13:28:31.324472Z"
    },
    "deletable": false,
    "editable": false,
    "nbgrader": {
     "checksum": "a762c992d67e4e64da349104e204c02c",
     "grade": true,
     "grade_id": "cell-749868f3c3deac7e",
     "locked": true,
     "points": 1,
     "schema_version": 1,
     "solution": false
    }
   },
   "outputs": [],
   "source": [
    "# Run this test cell to check your code\n",
    "# Do not delete this cell\n",
    "# 1 mark\n",
    "# Unit test\n",
    "dx    = 0.1\n",
    "dt    = 0.005\n",
    "tf    = 0.5\n",
    "f     = lambda x: np.sin(np.pi * x) \n",
    "D     = 1\n",
    "tans  = np.array([0.       , 0.309017 , 0.5877853, 0.809017 , 0.9510565, 1.       ,\n",
    "                  0.9510565, 0.809017 , 0.5877853, 0.309017 , 0.       ])\n",
    "ans   = crankNicolson(dt, dx, tf, f)\n",
    "nt.assert_array_almost_equal(tans, ans[0])\n",
    "print('Test case passed!!!')"
   ]
  },
  {
   "cell_type": "code",
   "execution_count": null,
   "metadata": {
    "ExecuteTime": {
     "end_time": "2019-11-15T13:28:37.516886Z",
     "start_time": "2019-11-15T13:28:37.504901Z"
    },
    "deletable": false,
    "editable": false,
    "nbgrader": {
     "checksum": "72ca24ae11671edc8168d6995a2f447e",
     "grade": true,
     "grade_id": "cell-03ef0e471199b268",
     "locked": true,
     "points": 1,
     "schema_version": 1,
     "solution": false
    }
   },
   "outputs": [],
   "source": [
    "# Run this test cell to check your code\n",
    "# Do not delete this cell\n",
    "# 1 mark\n",
    "# Unit test\n",
    "dx    = 0.1\n",
    "dt    = 0.005\n",
    "tf    = 0.5\n",
    "f     = lambda x: np.sin(np.pi * x) \n",
    "\n",
    "tans  = np.array([0.       , 0.2942539, 0.5597042, 0.7703667, 0.9056204, 0.9522256,\n",
    "       0.9056204, 0.7703667, 0.5597042, 0.2942539, 0.       ])\n",
    "ans   = crankNicolson(dt, dx, tf, f)\n",
    "nt.assert_array_almost_equal(tans, ans[1])\n",
    "print('Test case passed!!!')"
   ]
  },
  {
   "cell_type": "code",
   "execution_count": null,
   "metadata": {
    "ExecuteTime": {
     "end_time": "2019-11-15T13:28:40.477777Z",
     "start_time": "2019-11-15T13:28:40.464990Z"
    },
    "deletable": false,
    "editable": false,
    "nbgrader": {
     "checksum": "b53b131ac4147caec5e3c058725359ba",
     "grade": true,
     "grade_id": "cell-a83aa08d1e08474d",
     "locked": true,
     "points": 5,
     "schema_version": 1,
     "solution": false
    }
   },
   "outputs": [],
   "source": [
    "# Hidden test\n",
    "# No output will be produced\n",
    "# 5 marks"
   ]
  },
  {
   "cell_type": "markdown",
   "metadata": {
    "deletable": false,
    "editable": false,
    "nbgrader": {
     "checksum": "190c042859359b144d060a4ca419ecbb",
     "grade": false,
     "grade_id": "cell-e9a48f624858960e",
     "locked": true,
     "schema_version": 1,
     "solution": false
    }
   },
   "source": [
    "(b) [3 Marks] Continuing with Question 3(a) above, consider the following input:"
   ]
  },
  {
   "cell_type": "code",
   "execution_count": null,
   "metadata": {
    "ExecuteTime": {
     "end_time": "2019-11-15T13:28:50.982973Z",
     "start_time": "2019-11-15T13:28:50.973424Z"
    },
    "deletable": false,
    "editable": false,
    "nbgrader": {
     "checksum": "28ba93cc7857bce6aabbf26cc7a09638",
     "grade": false,
     "grade_id": "cell-c665d5316e948358",
     "locked": true,
     "schema_version": 1,
     "solution": false
    }
   },
   "outputs": [],
   "source": [
    "dx    = 0.1\n",
    "dt    = 0.005\n",
    "tf    = 0.5\n",
    "f     = lambda x: np.sin(np.pi * x) \n",
    "U     = crankNicolson(dt, dx, tf, f)"
   ]
  },
  {
   "cell_type": "markdown",
   "metadata": {
    "deletable": false,
    "editable": false,
    "nbgrader": {
     "checksum": "d9c76fd53263d3a70d6eae114b1cd4d0",
     "grade": false,
     "grade_id": "cell-930708e58907c798",
     "locked": true,
     "schema_version": 1,
     "solution": false
    }
   },
   "source": [
    "(c) [3 Marks] Write a function `errorFunction` which returns the absolute error, relative error and the norm (in that order) at time `tf`, between the true solution given in Question 3(a) and your obtained Crank-Nicolson approximation."
   ]
  },
  {
   "cell_type": "code",
   "execution_count": null,
   "metadata": {
    "ExecuteTime": {
     "end_time": "2019-11-15T13:28:57.131739Z",
     "start_time": "2019-11-15T13:28:57.114518Z"
    },
    "deletable": false,
    "nbgrader": {
     "checksum": "259eefa6446a3bd34f609200cf87bbf2",
     "grade": false,
     "grade_id": "cell-a5b1c2b31fb00574",
     "locked": false,
     "schema_version": 1,
     "solution": true
    }
   },
   "outputs": [],
   "source": [
    "def errorFunction():\n",
    "    # YOUR CODE HERE\n",
    "    raise NotImplementedError()"
   ]
  },
  {
   "cell_type": "code",
   "execution_count": null,
   "metadata": {
    "ExecuteTime": {
     "end_time": "2019-11-15T13:29:00.659353Z",
     "start_time": "2019-11-15T13:29:00.649236Z"
    },
    "deletable": false,
    "editable": false,
    "nbgrader": {
     "checksum": "ab1449a0904017edab9a7ddffdb004c5",
     "grade": true,
     "grade_id": "cell-cd2d1367c087afcc",
     "locked": true,
     "points": 1,
     "schema_version": 1,
     "solution": false
    }
   },
   "outputs": [],
   "source": [
    "# Hidden test\n",
    "# No output will be produced\n",
    "# 1 mark"
   ]
  },
  {
   "cell_type": "code",
   "execution_count": null,
   "metadata": {
    "ExecuteTime": {
     "end_time": "2019-11-15T13:29:03.651453Z",
     "start_time": "2019-11-15T13:29:03.639354Z"
    },
    "deletable": false,
    "editable": false,
    "nbgrader": {
     "checksum": "e561513eb74d08e58e6fc513af0d232b",
     "grade": true,
     "grade_id": "cell-435ae22fb963b8c4",
     "locked": true,
     "points": 1,
     "schema_version": 1,
     "solution": false
    }
   },
   "outputs": [],
   "source": [
    "# Hidden test\n",
    "# No output will be produced\n",
    "# 1 mark"
   ]
  },
  {
   "cell_type": "code",
   "execution_count": null,
   "metadata": {
    "ExecuteTime": {
     "end_time": "2019-11-15T13:29:06.122993Z",
     "start_time": "2019-11-15T13:29:06.114724Z"
    },
    "deletable": false,
    "editable": false,
    "nbgrader": {
     "checksum": "598f13f4e599b5993a5a490705038b31",
     "grade": true,
     "grade_id": "cell-e656b84c11a5dd5f",
     "locked": true,
     "points": 1,
     "schema_version": 1,
     "solution": false
    }
   },
   "outputs": [],
   "source": [
    "# Hidden test\n",
    "# No output will be produced\n",
    "# 1 mark"
   ]
  },
  {
   "cell_type": "markdown",
   "metadata": {
    "deletable": false,
    "editable": false,
    "nbgrader": {
     "checksum": "1cde9691f91bad7ba0a1d455dd339af9",
     "grade": false,
     "grade_id": "cell-b9086fcc5b7880ad",
     "locked": true,
     "schema_version": 1,
     "solution": false
    }
   },
   "source": [
    "### Question 4 - 15 Marks\n",
    "\n",
    "(a) [10 Marks] Consider the PDE given by:\n",
    "$$\n",
    "v_t = D\\left( v_{xx} + v_{yy}\\right), \n",
    "$$\n",
    "$$\n",
    "v(-1, y, t) = v(1, y, t) = 0,\\ v(x, y, 0) = 0,  \n",
    "$$\n",
    "\\begin{equation}\n",
    "v(x, -1, 0) = v(x, 1, 0) = 100, \\ \\ \\ x \\in (-1, 1)\\ \\ \\text{i.e. endpoints excluded}\n",
    "\\end{equation}\n",
    "\n",
    "Periodic boundary conditions should be imposed on $y = -1, y = 1$, i.e.$v(x,-1,t)=v(x,1,t)$ for all $t$ and $x$.\n",
    "\n",
    "\n",
    "Write a function which implements an ADI scheme to solve the PDE given above. Specifically, the function should take as inputs, the step-sizes, `dx` and `dy`, the time-step `dt`, the constant `D`, and the number of iterations to perform `N`.\n",
    "\n",
    "The function should return the 2D heatmap for each time-step, that is, a 3D array of `N + 1` time-steps."
   ]
  },
  {
   "cell_type": "code",
   "execution_count": null,
   "metadata": {
    "ExecuteTime": {
     "end_time": "2019-11-15T13:29:38.617493Z",
     "start_time": "2019-11-15T13:29:38.584538Z"
    },
    "deletable": false,
    "nbgrader": {
     "checksum": "6d3fc8d906c863a5ff19d79b0b9fab5a",
     "grade": false,
     "grade_id": "cell-2b06df6c3d6c49eb",
     "locked": false,
     "schema_version": 1,
     "solution": true
    }
   },
   "outputs": [],
   "source": [
    "def heat2D_ADI(dx, dy, dt, D, N):\n",
    "    # YOUR CODE HERE\n",
    "    raise NotImplementedError()"
   ]
  },
  {
   "cell_type": "code",
   "execution_count": null,
   "metadata": {
    "ExecuteTime": {
     "end_time": "2019-11-15T13:29:43.004688Z",
     "start_time": "2019-11-15T13:29:42.987943Z"
    },
    "deletable": false,
    "editable": false,
    "nbgrader": {
     "checksum": "94598fe375284b0214facfb63d013e4b",
     "grade": true,
     "grade_id": "cell-80a29f09eb8e0a2c",
     "locked": true,
     "points": 1,
     "schema_version": 1,
     "solution": false
    }
   },
   "outputs": [],
   "source": [
    "# Run this test cell to check your code\n",
    "# Do not delete this cell\n",
    "# 1 mark\n",
    "# Unit test\n",
    "dx   = 0.2\n",
    "dy   = 0.2\n",
    "dt   = 0.1\n",
    "D    = 0.1\n",
    "N    = 5\n",
    "tans = np.array([[  0., 100., 100., 100., 100., 100., 100., 100., 100., 100.,   0.],\n",
    "       [  0.,   0.,   0.,   0.,   0.,   0.,   0.,   0.,   0.,   0.,   0.],\n",
    "       [  0.,   0.,   0.,   0.,   0.,   0.,   0.,   0.,   0.,   0.,   0.],\n",
    "       [  0.,   0.,   0.,   0.,   0.,   0.,   0.,   0.,   0.,   0.,   0.],\n",
    "       [  0.,   0.,   0.,   0.,   0.,   0.,   0.,   0.,   0.,   0.,   0.],\n",
    "       [  0.,   0.,   0.,   0.,   0.,   0.,   0.,   0.,   0.,   0.,   0.],\n",
    "       [  0.,   0.,   0.,   0.,   0.,   0.,   0.,   0.,   0.,   0.,   0.],\n",
    "       [  0.,   0.,   0.,   0.,   0.,   0.,   0.,   0.,   0.,   0.,   0.],\n",
    "       [  0.,   0.,   0.,   0.,   0.,   0.,   0.,   0.,   0.,   0.,   0.],\n",
    "       [  0.,   0.,   0.,   0.,   0.,   0.,   0.,   0.,   0.,   0.,   0.],\n",
    "       [  0., 100., 100., 100., 100., 100., 100., 100., 100., 100.,   0.]])\n",
    "U    = heat2D_ADI(dx, dy, dt, D, N)\n",
    "nt.assert_array_almost_equal(tans, U[:, :, 0])\n",
    "print('Test case passed!!!')"
   ]
  },
  {
   "cell_type": "code",
   "execution_count": null,
   "metadata": {
    "ExecuteTime": {
     "end_time": "2019-11-15T13:29:46.156274Z",
     "start_time": "2019-11-15T13:29:46.124069Z"
    },
    "deletable": false,
    "editable": false,
    "nbgrader": {
     "checksum": "554158830876101dfb824993a83c1367",
     "grade": true,
     "grade_id": "cell-fdc3cbb2e0128af1",
     "locked": true,
     "points": 1,
     "schema_version": 1,
     "solution": false
    }
   },
   "outputs": [],
   "source": [
    "# Run this test cell to check your code\n",
    "# Do not delete this cell\n",
    "# 1 mark\n",
    "# Unit test\n",
    "dx   = 0.2\n",
    "dy   = 0.2\n",
    "dt   = 0.1\n",
    "D    = 0.1\n",
    "N    = 5\n",
    "tans = np.array([[ 0.       , 65.3025091, 78.3317661, 79.6479746, 79.780803 ,\n",
    "        79.7928783, 79.780803 , 79.6479746, 78.3317661, 65.3025091,\n",
    "         0.       ],\n",
    "       [ 0.       , 14.8641016, 17.82981  , 18.1294042, 18.1596385,\n",
    "        18.1623871, 18.1596385, 18.1294042, 17.82981  , 14.8641016,\n",
    "         0.       ],\n",
    "       [ 0.       ,  1.5015808,  1.8011785,  1.8314437,  1.834498 ,\n",
    "         1.8347756,  1.834498 ,  1.8314437,  1.8011785,  1.5015808,\n",
    "         0.       ],\n",
    "       [ 0.       ,  0.1517061,  0.1819747,  0.1850325,  0.185341 ,\n",
    "         0.1853691,  0.185341 ,  0.1850325,  0.1819747,  0.1517061,\n",
    "         0.       ],\n",
    "       [ 0.       ,  0.0154802,  0.0185689,  0.0188809,  0.0189124,\n",
    "         0.0189152,  0.0189124,  0.0188809,  0.0185689,  0.0154802,\n",
    "         0.       ],\n",
    "       [ 0.       ,  0.003096 ,  0.0037138,  0.0037762,  0.0037825,\n",
    "         0.003783 ,  0.0037825,  0.0037762,  0.0037138,  0.003096 ,\n",
    "         0.       ],\n",
    "       [ 0.       ,  0.0154802,  0.0185689,  0.0188809,  0.0189124,\n",
    "         0.0189152,  0.0189124,  0.0188809,  0.0185689,  0.0154802,\n",
    "         0.       ],\n",
    "       [ 0.       ,  0.1517061,  0.1819747,  0.1850325,  0.185341 ,\n",
    "         0.1853691,  0.185341 ,  0.1850325,  0.1819747,  0.1517061,\n",
    "         0.       ],\n",
    "       [ 0.       ,  1.5015808,  1.8011785,  1.8314437,  1.834498 ,\n",
    "         1.8347756,  1.834498 ,  1.8314437,  1.8011785,  1.5015808,\n",
    "         0.       ],\n",
    "       [ 0.       , 14.8641016, 17.82981  , 18.1294042, 18.1596385,\n",
    "        18.1623871, 18.1596385, 18.1294042, 17.82981  , 14.8641016,\n",
    "         0.       ],\n",
    "       [ 0.       , 65.3025091, 78.3317661, 79.6479746, 79.780803 ,\n",
    "        79.7928783, 79.780803 , 79.6479746, 78.3317661, 65.3025091,\n",
    "         0.       ]])\n",
    "\n",
    "U = heat2D_ADI(dx, dy, dt, D, N)\n",
    "nt.assert_array_almost_equal(tans, U[:, :, 1])\n",
    "print('Test case passed!!!')"
   ]
  },
  {
   "cell_type": "code",
   "execution_count": null,
   "metadata": {
    "ExecuteTime": {
     "end_time": "2019-11-15T13:29:49.408269Z",
     "start_time": "2019-11-15T13:29:49.373652Z"
    },
    "deletable": false,
    "editable": false,
    "nbgrader": {
     "checksum": "429c8826b498f2dc8f01cdbb19287e3a",
     "grade": true,
     "grade_id": "cell-2795ab111bca40cf",
     "locked": true,
     "points": 8,
     "schema_version": 1,
     "solution": false
    }
   },
   "outputs": [],
   "source": [
    "# Hidden test\n",
    "# No output will be produced\n",
    "# 8 marks"
   ]
  },
  {
   "cell_type": "markdown",
   "metadata": {
    "deletable": false,
    "editable": false,
    "nbgrader": {
     "checksum": "a0b53344083ed2f9fea2b0e79e0c3185",
     "grade": false,
     "grade_id": "cell-9baf045801917b5a",
     "locked": true,
     "schema_version": 1,
     "solution": false
    }
   },
   "source": [
    "(b) [2 Marks] Plot a heatmap of the final time-step using the ADI function in Question 4(a), given the input below:"
   ]
  },
  {
   "cell_type": "code",
   "execution_count": null,
   "metadata": {
    "ExecuteTime": {
     "end_time": "2019-11-15T13:30:01.192180Z",
     "start_time": "2019-11-15T13:30:01.181841Z"
    },
    "deletable": false,
    "editable": false,
    "nbgrader": {
     "checksum": "801328fc8ed6fd12d9a612ccb093ae7f",
     "grade": false,
     "grade_id": "cell-85d1a68021cd0a05",
     "locked": true,
     "schema_version": 1,
     "solution": false
    }
   },
   "outputs": [],
   "source": [
    "dx = 0.1\n",
    "dy = 0.1\n",
    "dt = 0.1\n",
    "D  = 0.2\n",
    "N  = 5\n",
    "U  = heat2D_ADI(dx, dy, dt, D, N) "
   ]
  },
  {
   "cell_type": "code",
   "execution_count": null,
   "metadata": {
    "ExecuteTime": {
     "end_time": "2019-11-15T13:30:03.911538Z",
     "start_time": "2019-11-15T13:30:03.900859Z"
    },
    "deletable": false,
    "nbgrader": {
     "checksum": "ad160b5152307475e78abac77800de0b",
     "grade": true,
     "grade_id": "cell-466e339d3b594287",
     "locked": false,
     "points": 2,
     "schema_version": 1,
     "solution": true
    }
   },
   "outputs": [],
   "source": [
    "# 2 Marks\n",
    "# YOUR CODE HERE\n",
    "raise NotImplementedError()"
   ]
  },
  {
   "cell_type": "markdown",
   "metadata": {
    "deletable": false,
    "editable": false,
    "nbgrader": {
     "checksum": "053db9ba4a6f35f9cc12c2576380e6f2",
     "grade": false,
     "grade_id": "cell-d70df7d13d06b471",
     "locked": true,
     "schema_version": 1,
     "solution": false
    }
   },
   "source": [
    "(c) [3 Marks] Modify your function from Question 4(a) to plot the two tridiagonal ADI matrices $A$ and $B$."
   ]
  },
  {
   "cell_type": "code",
   "execution_count": null,
   "metadata": {
    "ExecuteTime": {
     "end_time": "2019-11-15T13:30:37.511374Z",
     "start_time": "2019-11-15T13:30:37.339153Z"
    },
    "deletable": false,
    "nbgrader": {
     "checksum": "ccefe182934590160a6c48f793b0e4a8",
     "grade": true,
     "grade_id": "cell-b420050463e56df8",
     "locked": false,
     "points": 3,
     "schema_version": 1,
     "solution": true
    }
   },
   "outputs": [],
   "source": [
    "#3 Marks\n",
    "# YOUR CODE HERE\n",
    "raise NotImplementedError()"
   ]
  }
 ],
 "metadata": {
  "kernelspec": {
   "display_name": "Python 3",
   "language": "python",
   "name": "python3"
  },
  "language_info": {
   "codemirror_mode": {
    "name": "ipython",
    "version": 3
   },
   "file_extension": ".py",
   "mimetype": "text/x-python",
   "name": "python",
   "nbconvert_exporter": "python",
   "pygments_lexer": "ipython3",
   "version": "3.7.4"
  },
  "latex_envs": {
   "LaTeX_envs_menu_present": true,
   "autoclose": false,
   "autocomplete": false,
   "bibliofile": "biblio.bib",
   "cite_by": "apalike",
   "current_citInitial": 1,
   "eqLabelWithNumbers": true,
   "eqNumInitial": 1,
   "hotkeys": {
    "equation": "Ctrl-E",
    "itemize": "Ctrl-I"
   },
   "labels_anchors": false,
   "latex_user_defs": false,
   "report_style_numbering": false,
   "user_envs_cfg": false
  },
  "varInspector": {
   "cols": {
    "lenName": 16,
    "lenType": 16,
    "lenVar": 40
   },
   "kernels_config": {
    "python": {
     "delete_cmd_postfix": "",
     "delete_cmd_prefix": "del ",
     "library": "var_list.py",
     "varRefreshCmd": "print(var_dic_list())"
    },
    "r": {
     "delete_cmd_postfix": ") ",
     "delete_cmd_prefix": "rm(",
     "library": "var_list.r",
     "varRefreshCmd": "cat(var_dic_list()) "
    }
   },
   "types_to_exclude": [
    "module",
    "function",
    "builtin_function_or_method",
    "instance",
    "_Feature"
   ],
   "window_display": false
  }
 },
 "nbformat": 4,
 "nbformat_minor": 2
}
